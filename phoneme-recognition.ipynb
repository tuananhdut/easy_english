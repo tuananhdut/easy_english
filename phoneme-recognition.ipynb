{
 "cells": [
  {
   "cell_type": "code",
   "execution_count": 1,
   "id": "b82dce63",
   "metadata": {
    "_cell_guid": "b1076dfc-b9ad-4769-8c92-a6c4dae69d19",
    "_kg_hide-output": true,
    "_uuid": "8f2839f25d086af736a60e9eeb907d3b93b6e0e5",
    "execution": {
     "iopub.execute_input": "2025-04-10T15:39:59.015799Z",
     "iopub.status.busy": "2025-04-10T15:39:59.015497Z",
     "iopub.status.idle": "2025-04-10T15:40:46.540700Z",
     "shell.execute_reply": "2025-04-10T15:40:46.540021Z"
    },
    "papermill": {
     "duration": 47.584591,
     "end_time": "2025-04-10T15:40:46.542696",
     "exception": false,
     "start_time": "2025-04-10T15:39:58.958105",
     "status": "completed"
    },
    "tags": []
   },
   "outputs": [
    {
     "name": "stdout",
     "output_type": "stream",
     "text": [
      "\u001b[33mWARNING: Running pip as the 'root' user can result in broken permissions and conflicting behaviour with the system package manager. It is recommended to use a virtual environment instead: https://pip.pypa.io/warnings/venv\u001b[0m\u001b[33m\r\n",
      "\u001b[0mCollecting transformers==4.17.0\r\n",
      "  Downloading transformers-4.17.0-py3-none-any.whl (3.8 MB)\r\n",
      "\u001b[2K     \u001b[90m━━━━━━━━━━━━━━━━━━━━━━━━━━━━━━━━━━━━━━━━\u001b[0m \u001b[32m3.8/3.8 MB\u001b[0m \u001b[31m36.7 MB/s\u001b[0m eta \u001b[36m0:00:00\u001b[0m\r\n",
      "\u001b[?25hRequirement already satisfied: tqdm>=4.27 in /opt/conda/lib/python3.7/site-packages (from transformers==4.17.0) (4.63.0)\r\n",
      "Requirement already satisfied: packaging>=20.0 in /opt/conda/lib/python3.7/site-packages (from transformers==4.17.0) (21.3)\r\n",
      "Requirement already satisfied: sacremoses in /opt/conda/lib/python3.7/site-packages (from transformers==4.17.0) (0.0.53)\r\n",
      "Requirement already satisfied: numpy>=1.17 in /opt/conda/lib/python3.7/site-packages (from transformers==4.17.0) (1.21.6)\r\n",
      "Requirement already satisfied: tokenizers!=0.11.3,>=0.11.1 in /opt/conda/lib/python3.7/site-packages (from transformers==4.17.0) (0.12.1)\r\n",
      "Requirement already satisfied: importlib-metadata in /opt/conda/lib/python3.7/site-packages (from transformers==4.17.0) (4.11.3)\r\n",
      "Requirement already satisfied: regex!=2019.12.17 in /opt/conda/lib/python3.7/site-packages (from transformers==4.17.0) (2021.11.10)\r\n",
      "Requirement already satisfied: huggingface-hub<1.0,>=0.1.0 in /opt/conda/lib/python3.7/site-packages (from transformers==4.17.0) (0.5.1)\r\n",
      "Requirement already satisfied: filelock in /opt/conda/lib/python3.7/site-packages (from transformers==4.17.0) (3.6.0)\r\n",
      "Requirement already satisfied: requests in /opt/conda/lib/python3.7/site-packages (from transformers==4.17.0) (2.27.1)\r\n",
      "Requirement already satisfied: pyyaml>=5.1 in /opt/conda/lib/python3.7/site-packages (from transformers==4.17.0) (6.0)\r\n",
      "Requirement already satisfied: typing-extensions>=3.7.4.3 in /opt/conda/lib/python3.7/site-packages (from huggingface-hub<1.0,>=0.1.0->transformers==4.17.0) (4.2.0)\r\n",
      "Requirement already satisfied: pyparsing!=3.0.5,>=2.0.2 in /opt/conda/lib/python3.7/site-packages (from packaging>=20.0->transformers==4.17.0) (3.0.7)\r\n",
      "Requirement already satisfied: zipp>=0.5 in /opt/conda/lib/python3.7/site-packages (from importlib-metadata->transformers==4.17.0) (3.7.0)\r\n",
      "Requirement already satisfied: idna<4,>=2.5 in /opt/conda/lib/python3.7/site-packages (from requests->transformers==4.17.0) (3.3)\r\n",
      "Requirement already satisfied: charset-normalizer~=2.0.0 in /opt/conda/lib/python3.7/site-packages (from requests->transformers==4.17.0) (2.0.12)\r\n",
      "Requirement already satisfied: urllib3<1.27,>=1.21.1 in /opt/conda/lib/python3.7/site-packages (from requests->transformers==4.17.0) (1.26.8)\r\n",
      "Requirement already satisfied: certifi>=2017.4.17 in /opt/conda/lib/python3.7/site-packages (from requests->transformers==4.17.0) (2021.10.8)\r\n",
      "Requirement already satisfied: six in /opt/conda/lib/python3.7/site-packages (from sacremoses->transformers==4.17.0) (1.16.0)\r\n",
      "Requirement already satisfied: click in /opt/conda/lib/python3.7/site-packages (from sacremoses->transformers==4.17.0) (8.0.4)\r\n",
      "Requirement already satisfied: joblib in /opt/conda/lib/python3.7/site-packages (from sacremoses->transformers==4.17.0) (1.0.1)\r\n",
      "Installing collected packages: transformers\r\n",
      "  Attempting uninstall: transformers\r\n",
      "    Found existing installation: transformers 4.18.0\r\n",
      "    Uninstalling transformers-4.18.0:\r\n",
      "      Successfully uninstalled transformers-4.18.0\r\n",
      "Successfully installed transformers-4.17.0\r\n",
      "\u001b[33mWARNING: Running pip as the 'root' user can result in broken permissions and conflicting behaviour with the system package manager. It is recommended to use a virtual environment instead: https://pip.pypa.io/warnings/venv\u001b[0m\u001b[33m\r\n",
      "\u001b[0mRequirement already satisfied: librosa in /opt/conda/lib/python3.7/site-packages (0.9.1)\r\n",
      "Requirement already satisfied: numba>=0.45.1 in /opt/conda/lib/python3.7/site-packages (from librosa) (0.55.1)\r\n",
      "Requirement already satisfied: scikit-learn>=0.19.1 in /opt/conda/lib/python3.7/site-packages (from librosa) (1.0.2)\r\n",
      "Requirement already satisfied: packaging>=20.0 in /opt/conda/lib/python3.7/site-packages (from librosa) (21.3)\r\n",
      "Requirement already satisfied: joblib>=0.14 in /opt/conda/lib/python3.7/site-packages (from librosa) (1.0.1)\r\n",
      "Requirement already satisfied: decorator>=4.0.10 in /opt/conda/lib/python3.7/site-packages (from librosa) (5.1.1)\r\n",
      "Requirement already satisfied: soundfile>=0.10.2 in /opt/conda/lib/python3.7/site-packages (from librosa) (0.10.3.post1)\r\n",
      "Requirement already satisfied: audioread>=2.1.5 in /opt/conda/lib/python3.7/site-packages (from librosa) (2.1.9)\r\n",
      "Requirement already satisfied: numpy>=1.17.0 in /opt/conda/lib/python3.7/site-packages (from librosa) (1.21.6)\r\n",
      "Requirement already satisfied: pooch>=1.0 in /opt/conda/lib/python3.7/site-packages (from librosa) (1.6.0)\r\n",
      "Requirement already satisfied: resampy>=0.2.2 in /opt/conda/lib/python3.7/site-packages (from librosa) (0.2.2)\r\n",
      "Requirement already satisfied: scipy>=1.2.0 in /opt/conda/lib/python3.7/site-packages (from librosa) (1.7.3)\r\n",
      "Requirement already satisfied: setuptools in /opt/conda/lib/python3.7/site-packages (from numba>=0.45.1->librosa) (59.8.0)\r\n",
      "Requirement already satisfied: llvmlite<0.39,>=0.38.0rc1 in /opt/conda/lib/python3.7/site-packages (from numba>=0.45.1->librosa) (0.38.0)\r\n",
      "Requirement already satisfied: pyparsing!=3.0.5,>=2.0.2 in /opt/conda/lib/python3.7/site-packages (from packaging>=20.0->librosa) (3.0.7)\r\n",
      "Requirement already satisfied: appdirs>=1.3.0 in /opt/conda/lib/python3.7/site-packages (from pooch>=1.0->librosa) (1.4.4)\r\n",
      "Requirement already satisfied: requests>=2.19.0 in /opt/conda/lib/python3.7/site-packages (from pooch>=1.0->librosa) (2.27.1)\r\n",
      "Requirement already satisfied: six>=1.3 in /opt/conda/lib/python3.7/site-packages (from resampy>=0.2.2->librosa) (1.16.0)\r\n",
      "Requirement already satisfied: threadpoolctl>=2.0.0 in /opt/conda/lib/python3.7/site-packages (from scikit-learn>=0.19.1->librosa) (3.1.0)\r\n",
      "Requirement already satisfied: cffi>=1.0 in /opt/conda/lib/python3.7/site-packages (from soundfile>=0.10.2->librosa) (1.15.0)\r\n",
      "Requirement already satisfied: pycparser in /opt/conda/lib/python3.7/site-packages (from cffi>=1.0->soundfile>=0.10.2->librosa) (2.21)\r\n",
      "Requirement already satisfied: charset-normalizer~=2.0.0 in /opt/conda/lib/python3.7/site-packages (from requests>=2.19.0->pooch>=1.0->librosa) (2.0.12)\r\n",
      "Requirement already satisfied: idna<4,>=2.5 in /opt/conda/lib/python3.7/site-packages (from requests>=2.19.0->pooch>=1.0->librosa) (3.3)\r\n",
      "Requirement already satisfied: urllib3<1.27,>=1.21.1 in /opt/conda/lib/python3.7/site-packages (from requests>=2.19.0->pooch>=1.0->librosa) (1.26.8)\r\n",
      "Requirement already satisfied: certifi>=2017.4.17 in /opt/conda/lib/python3.7/site-packages (from requests>=2.19.0->pooch>=1.0->librosa) (2021.10.8)\r\n",
      "\u001b[33mWARNING: Running pip as the 'root' user can result in broken permissions and conflicting behaviour with the system package manager. It is recommended to use a virtual environment instead: https://pip.pypa.io/warnings/venv\u001b[0m\u001b[33m\r\n",
      "\u001b[0mRequirement already satisfied: seaborn in /opt/conda/lib/python3.7/site-packages (0.11.2)\r\n",
      "Requirement already satisfied: matplotlib>=2.2 in /opt/conda/lib/python3.7/site-packages (from seaborn) (3.5.2)\r\n",
      "Requirement already satisfied: numpy>=1.15 in /opt/conda/lib/python3.7/site-packages (from seaborn) (1.21.6)\r\n",
      "Requirement already satisfied: scipy>=1.0 in /opt/conda/lib/python3.7/site-packages (from seaborn) (1.7.3)\r\n",
      "Requirement already satisfied: pandas>=0.23 in /opt/conda/lib/python3.7/site-packages (from seaborn) (1.3.5)\r\n",
      "Requirement already satisfied: cycler>=0.10 in /opt/conda/lib/python3.7/site-packages (from matplotlib>=2.2->seaborn) (0.11.0)\r\n",
      "Requirement already satisfied: pyparsing>=2.2.1 in /opt/conda/lib/python3.7/site-packages (from matplotlib>=2.2->seaborn) (3.0.7)\r\n",
      "Requirement already satisfied: kiwisolver>=1.0.1 in /opt/conda/lib/python3.7/site-packages (from matplotlib>=2.2->seaborn) (1.4.0)\r\n",
      "Requirement already satisfied: pillow>=6.2.0 in /opt/conda/lib/python3.7/site-packages (from matplotlib>=2.2->seaborn) (9.0.1)\r\n",
      "Requirement already satisfied: python-dateutil>=2.7 in /opt/conda/lib/python3.7/site-packages (from matplotlib>=2.2->seaborn) (2.8.2)\r\n",
      "Requirement already satisfied: packaging>=20.0 in /opt/conda/lib/python3.7/site-packages (from matplotlib>=2.2->seaborn) (21.3)\r\n",
      "Requirement already satisfied: fonttools>=4.22.0 in /opt/conda/lib/python3.7/site-packages (from matplotlib>=2.2->seaborn) (4.30.0)\r\n",
      "Requirement already satisfied: pytz>=2017.3 in /opt/conda/lib/python3.7/site-packages (from pandas>=0.23->seaborn) (2021.3)\r\n",
      "Requirement already satisfied: typing-extensions in /opt/conda/lib/python3.7/site-packages (from kiwisolver>=1.0.1->matplotlib>=2.2->seaborn) (4.2.0)\r\n",
      "Requirement already satisfied: six>=1.5 in /opt/conda/lib/python3.7/site-packages (from python-dateutil>=2.7->matplotlib>=2.2->seaborn) (1.16.0)\r\n",
      "\u001b[33mWARNING: Running pip as the 'root' user can result in broken permissions and conflicting behaviour with the system package manager. It is recommended to use a virtual environment instead: https://pip.pypa.io/warnings/venv\u001b[0m\u001b[33m\r\n",
      "\u001b[0mCollecting jiwer\r\n",
      "  Downloading jiwer-3.0.5-py3-none-any.whl (21 kB)\r\n",
      "Collecting click<9.0.0,>=8.1.3\r\n",
      "  Downloading click-8.1.8-py3-none-any.whl (98 kB)\r\n",
      "\u001b[2K     \u001b[90m━━━━━━━━━━━━━━━━━━━━━━━━━━━━━━━━━━━━━━━━\u001b[0m \u001b[32m98.2/98.2 KB\u001b[0m \u001b[31m3.1 MB/s\u001b[0m eta \u001b[36m0:00:00\u001b[0m\r\n",
      "\u001b[?25hCollecting rapidfuzz<4,>=3\r\n",
      "  Downloading rapidfuzz-3.4.0-cp37-cp37m-manylinux_2_17_x86_64.manylinux2014_x86_64.whl (3.2 MB)\r\n",
      "\u001b[2K     \u001b[90m━━━━━━━━━━━━━━━━━━━━━━━━━━━━━━━━━━━━━━━━\u001b[0m \u001b[32m3.2/3.2 MB\u001b[0m \u001b[31m42.1 MB/s\u001b[0m eta \u001b[36m0:00:00\u001b[0m\r\n",
      "\u001b[?25hRequirement already satisfied: importlib-metadata in /opt/conda/lib/python3.7/site-packages (from click<9.0.0,>=8.1.3->jiwer) (4.11.3)\r\n",
      "Requirement already satisfied: typing-extensions>=3.6.4 in /opt/conda/lib/python3.7/site-packages (from importlib-metadata->click<9.0.0,>=8.1.3->jiwer) (4.2.0)\r\n",
      "Requirement already satisfied: zipp>=0.5 in /opt/conda/lib/python3.7/site-packages (from importlib-metadata->click<9.0.0,>=8.1.3->jiwer) (3.7.0)\r\n",
      "Installing collected packages: rapidfuzz, click, jiwer\r\n",
      "  Attempting uninstall: click\r\n",
      "    Found existing installation: click 8.0.4\r\n",
      "    Uninstalling click-8.0.4:\r\n",
      "      Successfully uninstalled click-8.0.4\r\n",
      "\u001b[31mERROR: pip's dependency resolver does not currently take into account all the packages that are installed. This behaviour is the source of the following dependency conflicts.\r\n",
      "dask-cudf 21.10.1 requires cupy-cuda114, which is not installed.\r\n",
      "spacy 3.2.4 requires click<8.1.0, but you have click 8.1.8 which is incompatible.\r\n",
      "spacy 3.2.4 requires typing-extensions<4.0.0.0,>=3.7.4; python_version < \"3.8\", but you have typing-extensions 4.2.0 which is incompatible.\r\n",
      "dask-cudf 21.10.1 requires dask==2021.09.1, but you have dask 2022.2.0 which is incompatible.\r\n",
      "dask-cudf 21.10.1 requires distributed==2021.09.1, but you have distributed 2022.2.0 which is incompatible.\u001b[0m\u001b[31m\r\n",
      "\u001b[0mSuccessfully installed click-8.1.8 jiwer-3.0.5 rapidfuzz-3.4.0\r\n",
      "\u001b[33mWARNING: Running pip as the 'root' user can result in broken permissions and conflicting behaviour with the system package manager. It is recommended to use a virtual environment instead: https://pip.pypa.io/warnings/venv\u001b[0m\u001b[33m\r\n",
      "\u001b[0m"
     ]
    }
   ],
   "source": [
    "!pip install datasets>=1.18.3\n",
    "!pip install transformers==4.17.0\n",
    "!pip install librosa\n",
    "!pip install seaborn\n",
    "!pip install jiwer"
   ]
  },
  {
   "cell_type": "markdown",
   "id": "05ebfeb1",
   "metadata": {
    "papermill": {
     "duration": 0.05634,
     "end_time": "2025-04-10T15:40:46.656679",
     "exception": false,
     "start_time": "2025-04-10T15:40:46.600339",
     "status": "completed"
    },
    "tags": []
   },
   "source": [
    "# Dataset"
   ]
  },
  {
   "cell_type": "code",
   "execution_count": 2,
   "id": "595660f2",
   "metadata": {
    "execution": {
     "iopub.execute_input": "2025-04-10T15:40:46.772405Z",
     "iopub.status.busy": "2025-04-10T15:40:46.771763Z",
     "iopub.status.idle": "2025-04-10T15:40:55.748615Z",
     "shell.execute_reply": "2025-04-10T15:40:55.747852Z"
    },
    "papermill": {
     "duration": 9.036282,
     "end_time": "2025-04-10T15:40:55.750600",
     "exception": false,
     "start_time": "2025-04-10T15:40:46.714318",
     "status": "completed"
    },
    "tags": []
   },
   "outputs": [],
   "source": [
    "from datasets import load_dataset, load_metric, Audio, Dataset\n",
    "from tqdm.auto import tqdm\n",
    "\n",
    "import os\n",
    "import numpy as np\n",
    "import pandas as pd\n",
    "import torchaudio\n",
    "\n",
    "os.environ[\"WANDB_DISABLED\"] = \"true\""
   ]
  },
  {
   "cell_type": "markdown",
   "id": "2da7f762",
   "metadata": {
    "papermill": {
     "duration": 0.089113,
     "end_time": "2025-04-10T15:40:55.898210",
     "exception": false,
     "start_time": "2025-04-10T15:40:55.809097",
     "status": "completed"
    },
    "tags": []
   },
   "source": [
    "## Let's load dataset"
   ]
  },
  {
   "cell_type": "code",
   "execution_count": 3,
   "id": "f3bedac3",
   "metadata": {
    "execution": {
     "iopub.execute_input": "2025-04-10T15:40:56.015725Z",
     "iopub.status.busy": "2025-04-10T15:40:56.014983Z",
     "iopub.status.idle": "2025-04-10T15:40:56.018813Z",
     "shell.execute_reply": "2025-04-10T15:40:56.018167Z"
    },
    "papermill": {
     "duration": 0.063125,
     "end_time": "2025-04-10T15:40:56.020396",
     "exception": false,
     "start_time": "2025-04-10T15:40:55.957271",
     "status": "completed"
    },
    "tags": []
   },
   "outputs": [],
   "source": [
    "timit_path = '/kaggle/input/darpa-timit-acousticphonetic-continuous-speech/'"
   ]
  },
  {
   "cell_type": "code",
   "execution_count": 4,
   "id": "a9a8c2bb",
   "metadata": {
    "execution": {
     "iopub.execute_input": "2025-04-10T15:40:56.144249Z",
     "iopub.status.busy": "2025-04-10T15:40:56.143834Z",
     "iopub.status.idle": "2025-04-10T15:40:56.147044Z",
     "shell.execute_reply": "2025-04-10T15:40:56.146438Z"
    },
    "papermill": {
     "duration": 0.068066,
     "end_time": "2025-04-10T15:40:56.148572",
     "exception": false,
     "start_time": "2025-04-10T15:40:56.080506",
     "status": "completed"
    },
    "tags": []
   },
   "outputs": [],
   "source": [
    "data_path = '/kaggle/input/darpa-timit-acousticphonetic-continuous-speech/data/'"
   ]
  },
  {
   "cell_type": "code",
   "execution_count": 5,
   "id": "adef17ac",
   "metadata": {
    "execution": {
     "iopub.execute_input": "2025-04-10T15:40:56.262609Z",
     "iopub.status.busy": "2025-04-10T15:40:56.262406Z",
     "iopub.status.idle": "2025-04-10T15:40:56.471023Z",
     "shell.execute_reply": "2025-04-10T15:40:56.470495Z"
    },
    "papermill": {
     "duration": 0.267301,
     "end_time": "2025-04-10T15:40:56.472848",
     "exception": false,
     "start_time": "2025-04-10T15:40:56.205547",
     "status": "completed"
    },
    "tags": []
   },
   "outputs": [],
   "source": [
    "df_train = pd.read_csv(os.path.join(timit_path, 'train_data.csv'))\n",
    "df_test = pd.read_csv(os.path.join(timit_path, 'test_data.csv'))\n",
    "df = pd.concat([df_train, df_test])\n",
    "df = df[df['is_converted_audio'] == False]"
   ]
  },
  {
   "cell_type": "code",
   "execution_count": 6,
   "id": "5ee39f8f",
   "metadata": {
    "execution": {
     "iopub.execute_input": "2025-04-10T15:40:56.588370Z",
     "iopub.status.busy": "2025-04-10T15:40:56.588108Z",
     "iopub.status.idle": "2025-04-10T15:40:56.611287Z",
     "shell.execute_reply": "2025-04-10T15:40:56.610482Z"
    },
    "papermill": {
     "duration": 0.082674,
     "end_time": "2025-04-10T15:40:56.613112",
     "exception": false,
     "start_time": "2025-04-10T15:40:56.530438",
     "status": "completed"
    },
    "tags": []
   },
   "outputs": [
    {
     "data": {
      "text/html": [
       "<div>\n",
       "<style scoped>\n",
       "    .dataframe tbody tr th:only-of-type {\n",
       "        vertical-align: middle;\n",
       "    }\n",
       "\n",
       "    .dataframe tbody tr th {\n",
       "        vertical-align: top;\n",
       "    }\n",
       "\n",
       "    .dataframe thead th {\n",
       "        text-align: right;\n",
       "    }\n",
       "</style>\n",
       "<table border=\"1\" class=\"dataframe\">\n",
       "  <thead>\n",
       "    <tr style=\"text-align: right;\">\n",
       "      <th></th>\n",
       "      <th>index</th>\n",
       "      <th>test_or_train</th>\n",
       "      <th>dialect_region</th>\n",
       "      <th>speaker_id</th>\n",
       "      <th>filename</th>\n",
       "      <th>path_from_data_dir</th>\n",
       "      <th>path_from_data_dir_windows</th>\n",
       "      <th>is_converted_audio</th>\n",
       "      <th>is_audio</th>\n",
       "      <th>is_word_file</th>\n",
       "      <th>is_phonetic_file</th>\n",
       "      <th>is_sentence_file</th>\n",
       "    </tr>\n",
       "  </thead>\n",
       "  <tbody>\n",
       "    <tr>\n",
       "      <th>1</th>\n",
       "      <td>2.0</td>\n",
       "      <td>TRAIN</td>\n",
       "      <td>DR4</td>\n",
       "      <td>MMDM0</td>\n",
       "      <td>SI1311.PHN</td>\n",
       "      <td>TRAIN/DR4/MMDM0/SI1311.PHN</td>\n",
       "      <td>TRAIN\\\\DR4\\\\MMDM0\\\\SI1311.PHN</td>\n",
       "      <td>False</td>\n",
       "      <td>False</td>\n",
       "      <td>False</td>\n",
       "      <td>True</td>\n",
       "      <td>False</td>\n",
       "    </tr>\n",
       "    <tr>\n",
       "      <th>2</th>\n",
       "      <td>3.0</td>\n",
       "      <td>TRAIN</td>\n",
       "      <td>DR4</td>\n",
       "      <td>MMDM0</td>\n",
       "      <td>SI1311.WRD</td>\n",
       "      <td>TRAIN/DR4/MMDM0/SI1311.WRD</td>\n",
       "      <td>TRAIN\\\\DR4\\\\MMDM0\\\\SI1311.WRD</td>\n",
       "      <td>False</td>\n",
       "      <td>False</td>\n",
       "      <td>True</td>\n",
       "      <td>False</td>\n",
       "      <td>False</td>\n",
       "    </tr>\n",
       "    <tr>\n",
       "      <th>3</th>\n",
       "      <td>4.0</td>\n",
       "      <td>TRAIN</td>\n",
       "      <td>DR4</td>\n",
       "      <td>MMDM0</td>\n",
       "      <td>SX321.PHN</td>\n",
       "      <td>TRAIN/DR4/MMDM0/SX321.PHN</td>\n",
       "      <td>TRAIN\\\\DR4\\\\MMDM0\\\\SX321.PHN</td>\n",
       "      <td>False</td>\n",
       "      <td>False</td>\n",
       "      <td>False</td>\n",
       "      <td>True</td>\n",
       "      <td>False</td>\n",
       "    </tr>\n",
       "    <tr>\n",
       "      <th>4</th>\n",
       "      <td>5.0</td>\n",
       "      <td>TRAIN</td>\n",
       "      <td>DR4</td>\n",
       "      <td>MMDM0</td>\n",
       "      <td>SX321.WRD</td>\n",
       "      <td>TRAIN/DR4/MMDM0/SX321.WRD</td>\n",
       "      <td>TRAIN\\\\DR4\\\\MMDM0\\\\SX321.WRD</td>\n",
       "      <td>False</td>\n",
       "      <td>False</td>\n",
       "      <td>True</td>\n",
       "      <td>False</td>\n",
       "      <td>False</td>\n",
       "    </tr>\n",
       "    <tr>\n",
       "      <th>5</th>\n",
       "      <td>6.0</td>\n",
       "      <td>TRAIN</td>\n",
       "      <td>DR4</td>\n",
       "      <td>MMDM0</td>\n",
       "      <td>SI681.TXT</td>\n",
       "      <td>TRAIN/DR4/MMDM0/SI681.TXT</td>\n",
       "      <td>TRAIN\\\\DR4\\\\MMDM0\\\\SI681.TXT</td>\n",
       "      <td>False</td>\n",
       "      <td>False</td>\n",
       "      <td>False</td>\n",
       "      <td>False</td>\n",
       "      <td>True</td>\n",
       "    </tr>\n",
       "    <tr>\n",
       "      <th>...</th>\n",
       "      <td>...</td>\n",
       "      <td>...</td>\n",
       "      <td>...</td>\n",
       "      <td>...</td>\n",
       "      <td>...</td>\n",
       "      <td>...</td>\n",
       "      <td>...</td>\n",
       "      <td>...</td>\n",
       "      <td>...</td>\n",
       "      <td>...</td>\n",
       "      <td>...</td>\n",
       "      <td>...</td>\n",
       "    </tr>\n",
       "    <tr>\n",
       "      <th>8394</th>\n",
       "      <td>8395.0</td>\n",
       "      <td>TEST</td>\n",
       "      <td>DR8</td>\n",
       "      <td>MPAM0</td>\n",
       "      <td>SX19.WAV</td>\n",
       "      <td>TEST/DR8/MPAM0/SX19.WAV</td>\n",
       "      <td>TEST\\\\DR8\\\\MPAM0\\\\SX19.WAV</td>\n",
       "      <td>False</td>\n",
       "      <td>True</td>\n",
       "      <td>False</td>\n",
       "      <td>False</td>\n",
       "      <td>False</td>\n",
       "    </tr>\n",
       "    <tr>\n",
       "      <th>8395</th>\n",
       "      <td>8396.0</td>\n",
       "      <td>TEST</td>\n",
       "      <td>DR8</td>\n",
       "      <td>MPAM0</td>\n",
       "      <td>SX109.TXT</td>\n",
       "      <td>TEST/DR8/MPAM0/SX109.TXT</td>\n",
       "      <td>TEST\\\\DR8\\\\MPAM0\\\\SX109.TXT</td>\n",
       "      <td>False</td>\n",
       "      <td>False</td>\n",
       "      <td>False</td>\n",
       "      <td>False</td>\n",
       "      <td>True</td>\n",
       "    </tr>\n",
       "    <tr>\n",
       "      <th>8397</th>\n",
       "      <td>8398.0</td>\n",
       "      <td>TEST</td>\n",
       "      <td>DR8</td>\n",
       "      <td>MPAM0</td>\n",
       "      <td>SX289.WRD</td>\n",
       "      <td>TEST/DR8/MPAM0/SX289.WRD</td>\n",
       "      <td>TEST\\\\DR8\\\\MPAM0\\\\SX289.WRD</td>\n",
       "      <td>False</td>\n",
       "      <td>False</td>\n",
       "      <td>True</td>\n",
       "      <td>False</td>\n",
       "      <td>False</td>\n",
       "    </tr>\n",
       "    <tr>\n",
       "      <th>8398</th>\n",
       "      <td>8399.0</td>\n",
       "      <td>TEST</td>\n",
       "      <td>DR8</td>\n",
       "      <td>MPAM0</td>\n",
       "      <td>SX109.WAV</td>\n",
       "      <td>TEST/DR8/MPAM0/SX109.WAV</td>\n",
       "      <td>TEST\\\\DR8\\\\MPAM0\\\\SX109.WAV</td>\n",
       "      <td>False</td>\n",
       "      <td>True</td>\n",
       "      <td>False</td>\n",
       "      <td>False</td>\n",
       "      <td>False</td>\n",
       "    </tr>\n",
       "    <tr>\n",
       "      <th>8399</th>\n",
       "      <td>8400.0</td>\n",
       "      <td>TEST</td>\n",
       "      <td>DR8</td>\n",
       "      <td>MPAM0</td>\n",
       "      <td>SX289.PHN</td>\n",
       "      <td>TEST/DR8/MPAM0/SX289.PHN</td>\n",
       "      <td>TEST\\\\DR8\\\\MPAM0\\\\SX289.PHN</td>\n",
       "      <td>False</td>\n",
       "      <td>False</td>\n",
       "      <td>False</td>\n",
       "      <td>True</td>\n",
       "      <td>False</td>\n",
       "    </tr>\n",
       "  </tbody>\n",
       "</table>\n",
       "<p>25200 rows × 12 columns</p>\n",
       "</div>"
      ],
      "text/plain": [
       "       index test_or_train dialect_region speaker_id    filename  \\\n",
       "1        2.0         TRAIN            DR4      MMDM0  SI1311.PHN   \n",
       "2        3.0         TRAIN            DR4      MMDM0  SI1311.WRD   \n",
       "3        4.0         TRAIN            DR4      MMDM0   SX321.PHN   \n",
       "4        5.0         TRAIN            DR4      MMDM0   SX321.WRD   \n",
       "5        6.0         TRAIN            DR4      MMDM0   SI681.TXT   \n",
       "...      ...           ...            ...        ...         ...   \n",
       "8394  8395.0          TEST            DR8      MPAM0    SX19.WAV   \n",
       "8395  8396.0          TEST            DR8      MPAM0   SX109.TXT   \n",
       "8397  8398.0          TEST            DR8      MPAM0   SX289.WRD   \n",
       "8398  8399.0          TEST            DR8      MPAM0   SX109.WAV   \n",
       "8399  8400.0          TEST            DR8      MPAM0   SX289.PHN   \n",
       "\n",
       "              path_from_data_dir     path_from_data_dir_windows  \\\n",
       "1     TRAIN/DR4/MMDM0/SI1311.PHN  TRAIN\\\\DR4\\\\MMDM0\\\\SI1311.PHN   \n",
       "2     TRAIN/DR4/MMDM0/SI1311.WRD  TRAIN\\\\DR4\\\\MMDM0\\\\SI1311.WRD   \n",
       "3      TRAIN/DR4/MMDM0/SX321.PHN   TRAIN\\\\DR4\\\\MMDM0\\\\SX321.PHN   \n",
       "4      TRAIN/DR4/MMDM0/SX321.WRD   TRAIN\\\\DR4\\\\MMDM0\\\\SX321.WRD   \n",
       "5      TRAIN/DR4/MMDM0/SI681.TXT   TRAIN\\\\DR4\\\\MMDM0\\\\SI681.TXT   \n",
       "...                          ...                            ...   \n",
       "8394     TEST/DR8/MPAM0/SX19.WAV     TEST\\\\DR8\\\\MPAM0\\\\SX19.WAV   \n",
       "8395    TEST/DR8/MPAM0/SX109.TXT    TEST\\\\DR8\\\\MPAM0\\\\SX109.TXT   \n",
       "8397    TEST/DR8/MPAM0/SX289.WRD    TEST\\\\DR8\\\\MPAM0\\\\SX289.WRD   \n",
       "8398    TEST/DR8/MPAM0/SX109.WAV    TEST\\\\DR8\\\\MPAM0\\\\SX109.WAV   \n",
       "8399    TEST/DR8/MPAM0/SX289.PHN    TEST\\\\DR8\\\\MPAM0\\\\SX289.PHN   \n",
       "\n",
       "     is_converted_audio is_audio is_word_file is_phonetic_file  \\\n",
       "1                 False    False        False             True   \n",
       "2                 False    False         True            False   \n",
       "3                 False    False        False             True   \n",
       "4                 False    False         True            False   \n",
       "5                 False    False        False            False   \n",
       "...                 ...      ...          ...              ...   \n",
       "8394              False     True        False            False   \n",
       "8395              False    False        False            False   \n",
       "8397              False    False         True            False   \n",
       "8398              False     True        False            False   \n",
       "8399              False    False        False             True   \n",
       "\n",
       "     is_sentence_file  \n",
       "1               False  \n",
       "2               False  \n",
       "3               False  \n",
       "4               False  \n",
       "5                True  \n",
       "...               ...  \n",
       "8394            False  \n",
       "8395             True  \n",
       "8397            False  \n",
       "8398            False  \n",
       "8399            False  \n",
       "\n",
       "[25200 rows x 12 columns]"
      ]
     },
     "execution_count": 6,
     "metadata": {},
     "output_type": "execute_result"
    }
   ],
   "source": [
    "df"
   ]
  },
  {
   "cell_type": "markdown",
   "id": "ce87a6db",
   "metadata": {
    "papermill": {
     "duration": 0.057296,
     "end_time": "2025-04-10T15:40:56.727184",
     "exception": false,
     "start_time": "2025-04-10T15:40:56.669888",
     "status": "completed"
    },
    "tags": []
   },
   "source": [
    "## Split Dataset"
   ]
  },
  {
   "cell_type": "markdown",
   "id": "562b0dd0",
   "metadata": {
    "papermill": {
     "duration": 0.056843,
     "end_time": "2025-04-10T15:40:56.840571",
     "exception": false,
     "start_time": "2025-04-10T15:40:56.783728",
     "status": "completed"
    },
    "tags": []
   },
   "source": [
    "### Merge Entries\n",
    "One entry in the dataframe represents one file. Audio, word, and phonetics are stored separately in different files. Then, we would need to combine them."
   ]
  },
  {
   "cell_type": "code",
   "execution_count": 7,
   "id": "8aefdd3d",
   "metadata": {
    "execution": {
     "iopub.execute_input": "2025-04-10T15:40:56.959732Z",
     "iopub.status.busy": "2025-04-10T15:40:56.959509Z",
     "iopub.status.idle": "2025-04-10T15:40:58.145670Z",
     "shell.execute_reply": "2025-04-10T15:40:58.144988Z"
    },
    "papermill": {
     "duration": 1.247017,
     "end_time": "2025-04-10T15:40:58.147272",
     "exception": false,
     "start_time": "2025-04-10T15:40:56.900255",
     "status": "completed"
    },
    "tags": []
   },
   "outputs": [
    {
     "data": {
      "application/vnd.jupyter.widget-view+json": {
       "model_id": "36dd67283ebd436cbd85f6f2325e7b6d",
       "version_major": 2,
       "version_minor": 0
      },
      "text/plain": [
       "0it [00:00, ?it/s]"
      ]
     },
     "metadata": {},
     "output_type": "display_data"
    }
   ],
   "source": [
    "data = {}\n",
    "\n",
    "for idx, row in tqdm(df.iterrows()):\n",
    "    path = row['path_from_data_dir']\n",
    "    entry_id = path.split('.')[0]\n",
    "\n",
    "    if entry_id not in data:\n",
    "        data[entry_id] = {}\n",
    "\n",
    "    if row['is_audio'] is True:\n",
    "        data[entry_id]['audio_file'] = os.path.join(data_path, path)\n",
    "    elif row['is_word_file'] is True:\n",
    "        data[entry_id]['word_file'] = os.path.join(data_path, path)\n",
    "    elif row['is_phonetic_file'] is True:\n",
    "        data[entry_id]['phonetic_file'] = os.path.join(data_path, path)"
   ]
  },
  {
   "cell_type": "markdown",
   "id": "0770e71b",
   "metadata": {
    "papermill": {
     "duration": 0.061709,
     "end_time": "2025-04-10T15:40:58.271733",
     "exception": false,
     "start_time": "2025-04-10T15:40:58.210024",
     "status": "completed"
    },
    "tags": []
   },
   "source": [
    "### Random Split \n",
    "We split the data randomly into 80/10/10."
   ]
  },
  {
   "cell_type": "code",
   "execution_count": 8,
   "id": "419da35e",
   "metadata": {
    "execution": {
     "iopub.execute_input": "2025-04-10T15:40:58.388252Z",
     "iopub.status.busy": "2025-04-10T15:40:58.387783Z",
     "iopub.status.idle": "2025-04-10T15:40:58.396408Z",
     "shell.execute_reply": "2025-04-10T15:40:58.395882Z"
    },
    "papermill": {
     "duration": 0.068448,
     "end_time": "2025-04-10T15:40:58.397911",
     "exception": false,
     "start_time": "2025-04-10T15:40:58.329463",
     "status": "completed"
    },
    "tags": []
   },
   "outputs": [],
   "source": [
    "import random\n",
    "\n",
    "keys = [key for key in data.keys() if len(data[key]) == 3]\n",
    "random.Random(101).shuffle(keys)\n",
    "\n",
    "num_train = int(len(keys) * 0.8)\n",
    "num_valid = int(len(keys) * 0.1)\n",
    "num_test = len(keys) - num_train - num_valid\n",
    "\n",
    "train_keys = keys[:num_train]\n",
    "valid_keys = keys[num_train:num_train + num_valid]\n",
    "test_keys = keys[-num_test:]"
   ]
  },
  {
   "cell_type": "code",
   "execution_count": 9,
   "id": "24a70cc4",
   "metadata": {
    "execution": {
     "iopub.execute_input": "2025-04-10T15:40:58.514961Z",
     "iopub.status.busy": "2025-04-10T15:40:58.514379Z",
     "iopub.status.idle": "2025-04-10T15:40:58.519002Z",
     "shell.execute_reply": "2025-04-10T15:40:58.518379Z"
    },
    "papermill": {
     "duration": 0.06503,
     "end_time": "2025-04-10T15:40:58.520496",
     "exception": false,
     "start_time": "2025-04-10T15:40:58.455466",
     "status": "completed"
    },
    "tags": []
   },
   "outputs": [],
   "source": [
    "train = { key:data[key] for key in train_keys }\n",
    "valid = { key:data[key] for key in valid_keys }\n",
    "test  = { key:data[key] for key in test_keys }"
   ]
  },
  {
   "cell_type": "markdown",
   "id": "b8a1030a",
   "metadata": {
    "papermill": {
     "duration": 0.058384,
     "end_time": "2025-04-10T15:40:58.636979",
     "exception": false,
     "start_time": "2025-04-10T15:40:58.578595",
     "status": "completed"
    },
    "tags": []
   },
   "source": [
    "### How many hours are in each set?\n",
    "At least this helps us understand how big/small our dataset is."
   ]
  },
  {
   "cell_type": "code",
   "execution_count": 10,
   "id": "9086fbe0",
   "metadata": {
    "execution": {
     "iopub.execute_input": "2025-04-10T15:40:58.753688Z",
     "iopub.status.busy": "2025-04-10T15:40:58.753420Z",
     "iopub.status.idle": "2025-04-10T15:41:00.985164Z",
     "shell.execute_reply": "2025-04-10T15:41:00.984630Z"
    },
    "papermill": {
     "duration": 2.29246,
     "end_time": "2025-04-10T15:41:00.987094",
     "exception": false,
     "start_time": "2025-04-10T15:40:58.694634",
     "status": "completed"
    },
    "tags": []
   },
   "outputs": [],
   "source": [
    "import librosa\n",
    "\n",
    "def get_durations(dict_data):\n",
    "    total_durations = 0\n",
    "\n",
    "    for entry in dict_data.values():\n",
    "        audio_data, _ = librosa.load(entry['audio_file'], sr=16_000)\n",
    "        duration = len(audio_data) / 16_000\n",
    "        total_durations += duration\n",
    "\n",
    "    return int(total_durations)"
   ]
  },
  {
   "cell_type": "code",
   "execution_count": 11,
   "id": "83d8c49d",
   "metadata": {
    "execution": {
     "iopub.execute_input": "2025-04-10T15:41:01.105147Z",
     "iopub.status.busy": "2025-04-10T15:41:01.104544Z",
     "iopub.status.idle": "2025-04-10T15:41:51.412035Z",
     "shell.execute_reply": "2025-04-10T15:41:51.411145Z"
    },
    "papermill": {
     "duration": 50.367609,
     "end_time": "2025-04-10T15:41:51.413881",
     "exception": false,
     "start_time": "2025-04-10T15:41:01.046272",
     "status": "completed"
    },
    "tags": []
   },
   "outputs": [
    {
     "name": "stdout",
     "output_type": "stream",
     "text": [
      "Duration of Train: 137 mns\n",
      "Duration of Valid: 17 mns\n",
      "Duration of Test : 17 mns\n"
     ]
    }
   ],
   "source": [
    "print(f\"Duration of Train: {get_durations(train) // 60} mns\")\n",
    "print(f\"Duration of Valid: {get_durations(valid) // 60} mns\")\n",
    "print(f\"Duration of Test : {get_durations(test) // 60} mns\")"
   ]
  },
  {
   "cell_type": "markdown",
   "id": "828cb8cf",
   "metadata": {
    "papermill": {
     "duration": 0.076096,
     "end_time": "2025-04-10T15:41:51.552042",
     "exception": false,
     "start_time": "2025-04-10T15:41:51.475946",
     "status": "completed"
    },
    "tags": []
   },
   "source": [
    "### Save the Split into Files\n",
    "This is for consistency. Different train/test set could yield different performance.\n",
    "Hence, we just save them so that later we don't need to redo the split."
   ]
  },
  {
   "cell_type": "code",
   "execution_count": 12,
   "id": "af2fd6ca",
   "metadata": {
    "execution": {
     "iopub.execute_input": "2025-04-10T15:41:51.684694Z",
     "iopub.status.busy": "2025-04-10T15:41:51.684466Z",
     "iopub.status.idle": "2025-04-10T15:41:51.717905Z",
     "shell.execute_reply": "2025-04-10T15:41:51.717335Z"
    },
    "papermill": {
     "duration": 0.097344,
     "end_time": "2025-04-10T15:41:51.719479",
     "exception": false,
     "start_time": "2025-04-10T15:41:51.622135",
     "status": "completed"
    },
    "tags": []
   },
   "outputs": [],
   "source": [
    "import json\n",
    "\n",
    "with open(\"/kaggle/working/custom_train.json\", \"w\") as f:\n",
    "    json.dump(train, f)\n",
    "with open(\"/kaggle/working/custom_valid.json\", \"w\") as f:\n",
    "    json.dump(valid, f)\n",
    "with open(\"/kaggle/working/custom_test.json\", \"w\") as f:\n",
    "    json.dump(test, f)"
   ]
  },
  {
   "cell_type": "markdown",
   "id": "317ccab3",
   "metadata": {
    "papermill": {
     "duration": 0.058495,
     "end_time": "2025-04-10T15:41:51.835959",
     "exception": false,
     "start_time": "2025-04-10T15:41:51.777464",
     "status": "completed"
    },
    "tags": []
   },
   "source": [
    "# Preprocessing"
   ]
  },
  {
   "cell_type": "markdown",
   "id": "303af0a2",
   "metadata": {
    "papermill": {
     "duration": 0.058322,
     "end_time": "2025-04-10T15:41:51.952941",
     "exception": false,
     "start_time": "2025-04-10T15:41:51.894619",
     "status": "completed"
    },
    "tags": []
   },
   "source": [
    "## Process into HuggingFace Dataset Format"
   ]
  },
  {
   "cell_type": "code",
   "execution_count": 13,
   "id": "10e88b05",
   "metadata": {
    "execution": {
     "iopub.execute_input": "2025-04-10T15:41:52.073990Z",
     "iopub.status.busy": "2025-04-10T15:41:52.073184Z",
     "iopub.status.idle": "2025-04-10T15:41:52.078106Z",
     "shell.execute_reply": "2025-04-10T15:41:52.077491Z"
    },
    "papermill": {
     "duration": 0.067204,
     "end_time": "2025-04-10T15:41:52.079692",
     "exception": false,
     "start_time": "2025-04-10T15:41:52.012488",
     "status": "completed"
    },
    "tags": []
   },
   "outputs": [],
   "source": [
    "def convert_to_feature_dict(data_dict):\n",
    "    # convert each feature into an array instead\n",
    "    audio_files = []\n",
    "    word_files = []\n",
    "    phonetic_files = []\n",
    "    for key, value in data_dict.items():\n",
    "        audio_files.append(value['audio_file'])\n",
    "        word_files.append(value['word_file'])\n",
    "        phonetic_files.append(value['phonetic_file'])\n",
    "    \n",
    "    return {\n",
    "        'audio_file': audio_files,\n",
    "        'word_file': word_files,\n",
    "        'phonetic_file': phonetic_files\n",
    "    }"
   ]
  },
  {
   "cell_type": "code",
   "execution_count": 14,
   "id": "274af6d4",
   "metadata": {
    "execution": {
     "iopub.execute_input": "2025-04-10T15:41:52.199536Z",
     "iopub.status.busy": "2025-04-10T15:41:52.199337Z",
     "iopub.status.idle": "2025-04-10T15:41:52.205344Z",
     "shell.execute_reply": "2025-04-10T15:41:52.204725Z"
    },
    "papermill": {
     "duration": 0.068464,
     "end_time": "2025-04-10T15:41:52.206778",
     "exception": false,
     "start_time": "2025-04-10T15:41:52.138314",
     "status": "completed"
    },
    "tags": []
   },
   "outputs": [],
   "source": [
    "train = convert_to_feature_dict(train)\n",
    "valid = convert_to_feature_dict(valid)\n",
    "test  = convert_to_feature_dict(test)"
   ]
  },
  {
   "cell_type": "code",
   "execution_count": 15,
   "id": "60972036",
   "metadata": {
    "execution": {
     "iopub.execute_input": "2025-04-10T15:41:52.325115Z",
     "iopub.status.busy": "2025-04-10T15:41:52.324949Z",
     "iopub.status.idle": "2025-04-10T15:41:52.351353Z",
     "shell.execute_reply": "2025-04-10T15:41:52.350890Z"
    },
    "papermill": {
     "duration": 0.087173,
     "end_time": "2025-04-10T15:41:52.352843",
     "exception": false,
     "start_time": "2025-04-10T15:41:52.265670",
     "status": "completed"
    },
    "tags": []
   },
   "outputs": [],
   "source": [
    "train_dataset = Dataset.from_dict(train)\n",
    "valid_dataset = Dataset.from_dict(valid)\n",
    "test_dataset = Dataset.from_dict(test)"
   ]
  },
  {
   "cell_type": "code",
   "execution_count": 16,
   "id": "0e4459b9",
   "metadata": {
    "execution": {
     "iopub.execute_input": "2025-04-10T15:41:52.469140Z",
     "iopub.status.busy": "2025-04-10T15:41:52.468963Z",
     "iopub.status.idle": "2025-04-10T15:41:52.472752Z",
     "shell.execute_reply": "2025-04-10T15:41:52.472039Z"
    },
    "papermill": {
     "duration": 0.063936,
     "end_time": "2025-04-10T15:41:52.474324",
     "exception": false,
     "start_time": "2025-04-10T15:41:52.410388",
     "status": "completed"
    },
    "tags": []
   },
   "outputs": [
    {
     "name": "stdout",
     "output_type": "stream",
     "text": [
      "Dataset({\n",
      "    features: ['audio_file', 'word_file', 'phonetic_file'],\n",
      "    num_rows: 2688\n",
      "})\n"
     ]
    }
   ],
   "source": [
    "print(train_dataset)"
   ]
  },
  {
   "cell_type": "markdown",
   "id": "1aab58e6",
   "metadata": {
    "papermill": {
     "duration": 0.057878,
     "end_time": "2025-04-10T15:41:52.591578",
     "exception": false,
     "start_time": "2025-04-10T15:41:52.533700",
     "status": "completed"
    },
    "tags": []
   },
   "source": [
    "## Read files for phonetics"
   ]
  },
  {
   "cell_type": "code",
   "execution_count": 17,
   "id": "55bb828e",
   "metadata": {
    "execution": {
     "iopub.execute_input": "2025-04-10T15:41:52.711152Z",
     "iopub.status.busy": "2025-04-10T15:41:52.710666Z",
     "iopub.status.idle": "2025-04-10T15:41:52.714910Z",
     "shell.execute_reply": "2025-04-10T15:41:52.714327Z"
    },
    "papermill": {
     "duration": 0.065555,
     "end_time": "2025-04-10T15:41:52.716513",
     "exception": false,
     "start_time": "2025-04-10T15:41:52.650958",
     "status": "completed"
    },
    "tags": []
   },
   "outputs": [],
   "source": [
    "def read_text_file(filepath):\n",
    "    with open(filepath) as f:\n",
    "        tokens = [line.split()[-1] for line in f]\n",
    "        return \" \".join(tokens)\n",
    "    \n",
    "def prepare_text_data(item):\n",
    "    item['text'] = read_text_file(item['word_file'])\n",
    "    item['phonetic'] = read_text_file(item['phonetic_file'])\n",
    "    return item"
   ]
  },
  {
   "cell_type": "code",
   "execution_count": 18,
   "id": "7059361c",
   "metadata": {
    "execution": {
     "iopub.execute_input": "2025-04-10T15:41:52.833668Z",
     "iopub.status.busy": "2025-04-10T15:41:52.833502Z",
     "iopub.status.idle": "2025-04-10T15:42:57.395056Z",
     "shell.execute_reply": "2025-04-10T15:42:57.394557Z"
    },
    "papermill": {
     "duration": 64.621639,
     "end_time": "2025-04-10T15:42:57.396622",
     "exception": false,
     "start_time": "2025-04-10T15:41:52.774983",
     "status": "completed"
    },
    "tags": []
   },
   "outputs": [
    {
     "data": {
      "application/vnd.jupyter.widget-view+json": {
       "model_id": "9588ddf97eac41f7bdebc35e4297b300",
       "version_major": 2,
       "version_minor": 0
      },
      "text/plain": [
       "  0%|          | 0/2688 [00:00<?, ?ex/s]"
      ]
     },
     "metadata": {},
     "output_type": "display_data"
    },
    {
     "data": {
      "application/vnd.jupyter.widget-view+json": {
       "model_id": "cd15de5c31484ac4912b548ff34ac02b",
       "version_major": 2,
       "version_minor": 0
      },
      "text/plain": [
       "  0%|          | 0/336 [00:00<?, ?ex/s]"
      ]
     },
     "metadata": {},
     "output_type": "display_data"
    },
    {
     "data": {
      "application/vnd.jupyter.widget-view+json": {
       "model_id": "9368a8c79c9b4d579ddeb63366adb033",
       "version_major": 2,
       "version_minor": 0
      },
      "text/plain": [
       "  0%|          | 0/336 [00:00<?, ?ex/s]"
      ]
     },
     "metadata": {},
     "output_type": "display_data"
    }
   ],
   "source": [
    "train_dataset = (train_dataset\n",
    "                 .map(prepare_text_data)\n",
    "                 .remove_columns([\"word_file\", \"phonetic_file\"]))\n",
    "valid_dataset = (valid_dataset\n",
    "                 .map(prepare_text_data)\n",
    "                 .remove_columns([\"word_file\", \"phonetic_file\"]))\n",
    "test_dataset  = (test_dataset\n",
    "                 .map(prepare_text_data)\n",
    "                 .remove_columns([\"word_file\", \"phonetic_file\"]))"
   ]
  },
  {
   "cell_type": "markdown",
   "id": "ebeb6d7e",
   "metadata": {
    "papermill": {
     "duration": 0.059942,
     "end_time": "2025-04-10T15:42:57.518787",
     "exception": false,
     "start_time": "2025-04-10T15:42:57.458845",
     "status": "completed"
    },
    "tags": []
   },
   "source": [
    "## Normalize the Phonetics"
   ]
  },
  {
   "cell_type": "markdown",
   "id": "bedd48ad",
   "metadata": {
    "papermill": {
     "duration": 0.061629,
     "end_time": "2025-04-10T15:42:57.640767",
     "exception": false,
     "start_time": "2025-04-10T15:42:57.579138",
     "status": "completed"
    },
    "tags": []
   },
   "source": [
    "As we can see the result below, there are *61* phones. However, we don't need to use all of them. \"tcl\", for example, is just a pause where there is a \"t\". So, let's keep it up and simplify them a bit."
   ]
  },
  {
   "cell_type": "code",
   "execution_count": 19,
   "id": "b34d54fc",
   "metadata": {
    "execution": {
     "iopub.execute_input": "2025-04-10T15:42:57.763260Z",
     "iopub.status.busy": "2025-04-10T15:42:57.762560Z",
     "iopub.status.idle": "2025-04-10T15:42:57.987233Z",
     "shell.execute_reply": "2025-04-10T15:42:57.986519Z"
    },
    "papermill": {
     "duration": 0.287626,
     "end_time": "2025-04-10T15:42:57.988954",
     "exception": false,
     "start_time": "2025-04-10T15:42:57.701328",
     "status": "completed"
    },
    "tags": []
   },
   "outputs": [
    {
     "name": "stdout",
     "output_type": "stream",
     "text": [
      "num of train phones:\t 61\n"
     ]
    }
   ],
   "source": [
    "train_phonetics = [phone for x in train_dataset for phone in x['phonetic'].split()]\n",
    "print(\"num of train phones:\\t\", len(set(train_phonetics)))"
   ]
  },
  {
   "cell_type": "code",
   "execution_count": 20,
   "id": "cfce8538",
   "metadata": {
    "execution": {
     "iopub.execute_input": "2025-04-10T15:42:58.111816Z",
     "iopub.status.busy": "2025-04-10T15:42:58.111363Z",
     "iopub.status.idle": "2025-04-10T15:42:58.118518Z",
     "shell.execute_reply": "2025-04-10T15:42:58.117975Z"
    },
    "papermill": {
     "duration": 0.069848,
     "end_time": "2025-04-10T15:42:58.119999",
     "exception": false,
     "start_time": "2025-04-10T15:42:58.050151",
     "status": "completed"
    },
    "tags": []
   },
   "outputs": [],
   "source": [
    "# TimitBet 61 phoneme mapping to 39 phonemes\n",
    "# by Lee, K.-F., & Hon, H.-W. (1989). Speaker-independent phone recognition using hidden Markov models. IEEE Transactions on Acoustics, Speech, and Signal Processing, 37(11), 1641–1648. doi:10.1109/29.46546 \n",
    "phon61_map39 = {\n",
    "    'iy':'iy',  'ih':'ih',   'eh':'eh',  'ae':'ae',    'ix':'ih',  'ax':'ah',   'ah':'ah',  'uw':'uw',\n",
    "    'ux':'uw',  'uh':'uh',   'ao':'aa',  'aa':'aa',    'ey':'ey',  'ay':'ay',   'oy':'oy',  'aw':'aw',\n",
    "    'ow':'ow',  'l':'l',     'el':'l',  'r':'r',      'y':'y',    'w':'w',     'er':'er',  'axr':'er',\n",
    "    'm':'m',    'em':'m',     'n':'n',    'nx':'n',     'en':'n',  'ng':'ng',   'eng':'ng', 'ch':'ch',\n",
    "    'jh':'jh',  'dh':'dh',   'b':'b',    'd':'d',      'dx':'dx',  'g':'g',     'p':'p',    't':'t',\n",
    "    'k':'k',    'z':'z',     'zh':'sh',  'v':'v',      'f':'f',    'th':'th',   's':'s',    'sh':'sh',\n",
    "    'hh':'hh',  'hv':'hh',   'pcl':'h#', 'tcl':'h#', 'kcl':'h#', 'qcl':'h#','bcl':'h#','dcl':'h#',\n",
    "    'gcl':'h#','h#':'h#',  '#h':'h#',  'pau':'h#', 'epi': 'h#','nx':'n',   'ax-h':'ah','q':'h#' \n",
    "}\n",
    "\n",
    "def convert_phon61_to_phon39(sentence):\n",
    "    tokens = [phon61_map39[x] for x in sentence.split()]\n",
    "    return \" \".join(tokens)\n",
    "\n",
    "def normalize_phones(item):\n",
    "    item['phonetic'] = convert_phon61_to_phon39(item['phonetic'])\n",
    "    return item"
   ]
  },
  {
   "cell_type": "code",
   "execution_count": 21,
   "id": "b7d4e354",
   "metadata": {
    "execution": {
     "iopub.execute_input": "2025-04-10T15:42:58.245565Z",
     "iopub.status.busy": "2025-04-10T15:42:58.245395Z",
     "iopub.status.idle": "2025-04-10T15:42:58.625129Z",
     "shell.execute_reply": "2025-04-10T15:42:58.624365Z"
    },
    "papermill": {
     "duration": 0.445037,
     "end_time": "2025-04-10T15:42:58.627545",
     "exception": false,
     "start_time": "2025-04-10T15:42:58.182508",
     "status": "completed"
    },
    "tags": []
   },
   "outputs": [
    {
     "data": {
      "application/vnd.jupyter.widget-view+json": {
       "model_id": "464a80b5e3e34f088e7db7913f9b36b4",
       "version_major": 2,
       "version_minor": 0
      },
      "text/plain": [
       "  0%|          | 0/2688 [00:00<?, ?ex/s]"
      ]
     },
     "metadata": {},
     "output_type": "display_data"
    },
    {
     "data": {
      "application/vnd.jupyter.widget-view+json": {
       "model_id": "f0e882b188aa4f5eaedf70f5c4bd64db",
       "version_major": 2,
       "version_minor": 0
      },
      "text/plain": [
       "  0%|          | 0/336 [00:00<?, ?ex/s]"
      ]
     },
     "metadata": {},
     "output_type": "display_data"
    },
    {
     "data": {
      "application/vnd.jupyter.widget-view+json": {
       "model_id": "fac0c22324ab40d2885031c3e903378b",
       "version_major": 2,
       "version_minor": 0
      },
      "text/plain": [
       "  0%|          | 0/336 [00:00<?, ?ex/s]"
      ]
     },
     "metadata": {},
     "output_type": "display_data"
    }
   ],
   "source": [
    "train_dataset = train_dataset.map(normalize_phones)\n",
    "valid_dataset = valid_dataset.map(normalize_phones)\n",
    "test_dataset = test_dataset.map(normalize_phones)"
   ]
  },
  {
   "cell_type": "code",
   "execution_count": 22,
   "id": "5a1530c2",
   "metadata": {
    "execution": {
     "iopub.execute_input": "2025-04-10T15:42:58.788543Z",
     "iopub.status.busy": "2025-04-10T15:42:58.787676Z",
     "iopub.status.idle": "2025-04-10T15:42:59.005060Z",
     "shell.execute_reply": "2025-04-10T15:42:59.004215Z"
    },
    "papermill": {
     "duration": 0.285102,
     "end_time": "2025-04-10T15:42:59.006897",
     "exception": false,
     "start_time": "2025-04-10T15:42:58.721795",
     "status": "completed"
    },
    "tags": []
   },
   "outputs": [
    {
     "name": "stdout",
     "output_type": "stream",
     "text": [
      "num of train phones:\t 39\n",
      "num of valid phones:\t 39\n",
      "num of test phones:\t 39\n"
     ]
    }
   ],
   "source": [
    "train_phonetics = [phone for x in train_dataset for phone in x['phonetic'].split()]\n",
    "valid_phonetics = [phone for x in valid_dataset for phone in x['phonetic'].split()]\n",
    "test_phonetics = [phone for x in test_dataset for phone in x['phonetic'].split()]\n",
    "\n",
    "print(\"num of train phones:\\t\", len(set(train_phonetics)))\n",
    "print(\"num of valid phones:\\t\", len(set(valid_phonetics)))\n",
    "print(\"num of test phones:\\t\", len(set(test_phonetics)))"
   ]
  },
  {
   "cell_type": "markdown",
   "id": "95c15a59",
   "metadata": {
    "papermill": {
     "duration": 0.06677,
     "end_time": "2025-04-10T15:42:59.154159",
     "exception": false,
     "start_time": "2025-04-10T15:42:59.087389",
     "status": "completed"
    },
    "tags": []
   },
   "source": [
    "## Phonetic Distribution\n",
    "Let's check the distribution of each phone across all three test set. Note that we don't do simple counting. Instead, for each phoneme, we show the ratio of that phoneme relative to that specific set. On test set, obviously, the count of each phoneme is less than the train, but the ratio should be similar to the training set."
   ]
  },
  {
   "cell_type": "code",
   "execution_count": 23,
   "id": "9df3b1e7",
   "metadata": {
    "execution": {
     "iopub.execute_input": "2025-04-10T15:42:59.282353Z",
     "iopub.status.busy": "2025-04-10T15:42:59.281793Z",
     "iopub.status.idle": "2025-04-10T15:42:59.291579Z",
     "shell.execute_reply": "2025-04-10T15:42:59.290870Z"
    },
    "papermill": {
     "duration": 0.074682,
     "end_time": "2025-04-10T15:42:59.293089",
     "exception": false,
     "start_time": "2025-04-10T15:42:59.218407",
     "status": "completed"
    },
    "tags": []
   },
   "outputs": [],
   "source": [
    "phone_vocabs = set(train_phonetics)\n",
    "phone_vocabs.remove('h#')\n",
    "phone_vocabs = sorted(phone_vocabs)\n",
    "\n",
    "def count_frequency(phonetics):\n",
    "    phone_counts = {phone: 0 for phone in phone_vocabs}\n",
    "    for phone in phonetics:\n",
    "        if phone in phone_vocabs:\n",
    "            phone_counts[phone] += 1\n",
    "    # eliminate h# for visualization purposes\n",
    "    return [phone_counts[phone] for phone in phone_vocabs] "
   ]
  },
  {
   "cell_type": "code",
   "execution_count": 24,
   "id": "9bd50e9b",
   "metadata": {
    "execution": {
     "iopub.execute_input": "2025-04-10T15:42:59.421010Z",
     "iopub.status.busy": "2025-04-10T15:42:59.420792Z",
     "iopub.status.idle": "2025-04-10T15:42:59.483094Z",
     "shell.execute_reply": "2025-04-10T15:42:59.482346Z"
    },
    "papermill": {
     "duration": 0.130111,
     "end_time": "2025-04-10T15:42:59.485526",
     "exception": false,
     "start_time": "2025-04-10T15:42:59.355415",
     "status": "completed"
    },
    "tags": []
   },
   "outputs": [],
   "source": [
    "train_phone_counts = count_frequency(train_phonetics)\n",
    "valid_phone_counts = count_frequency(valid_phonetics)\n",
    "test_phone_counts  = count_frequency(test_phonetics)"
   ]
  },
  {
   "cell_type": "code",
   "execution_count": 25,
   "id": "af0447cd",
   "metadata": {
    "execution": {
     "iopub.execute_input": "2025-04-10T15:42:59.640260Z",
     "iopub.status.busy": "2025-04-10T15:42:59.639643Z",
     "iopub.status.idle": "2025-04-10T15:42:59.644359Z",
     "shell.execute_reply": "2025-04-10T15:42:59.643593Z"
    },
    "papermill": {
     "duration": 0.081144,
     "end_time": "2025-04-10T15:42:59.646737",
     "exception": false,
     "start_time": "2025-04-10T15:42:59.565593",
     "status": "completed"
    },
    "tags": []
   },
   "outputs": [],
   "source": [
    "train_phone_ratio = [count / sum(train_phone_counts) for count in train_phone_counts]\n",
    "valid_phone_ratio = [count / sum(valid_phone_counts) for count in valid_phone_counts]\n",
    "test_phone_ratio  = [count / sum(test_phone_counts) for count in test_phone_counts]"
   ]
  },
  {
   "cell_type": "code",
   "execution_count": 26,
   "id": "b327afca",
   "metadata": {
    "execution": {
     "iopub.execute_input": "2025-04-10T15:42:59.783844Z",
     "iopub.status.busy": "2025-04-10T15:42:59.783080Z",
     "iopub.status.idle": "2025-04-10T15:43:00.271465Z",
     "shell.execute_reply": "2025-04-10T15:43:00.270719Z"
    },
    "papermill": {
     "duration": 0.552807,
     "end_time": "2025-04-10T15:43:00.273163",
     "exception": false,
     "start_time": "2025-04-10T15:42:59.720356",
     "status": "completed"
    },
    "tags": []
   },
   "outputs": [
    {
     "data": {
      "image/png": "[encoded data removed]",
      "text/plain": [
       "<Figure size 1800x720 with 1 Axes>"
      ]
     },
     "metadata": {
      "needs_background": "light"
     },
     "output_type": "display_data"
    }
   ],
   "source": [
    "import matplotlib.pyplot as plt\n",
    "\n",
    "plt.figure(figsize=(25,10))\n",
    "\n",
    "plt.bar(phone_vocabs, train_phone_ratio)\n",
    "plt.bar(phone_vocabs, valid_phone_ratio, bottom=train_phone_ratio)\n",
    "plt.bar(phone_vocabs, test_phone_ratio, bottom=[(x+y) for x,y in zip(train_phone_ratio, valid_phone_ratio)])\n",
    "\n",
    "plt.show()"
   ]
  },
  {
   "cell_type": "markdown",
   "id": "fbeae7ed",
   "metadata": {
    "papermill": {
     "duration": 0.063019,
     "end_time": "2025-04-10T15:43:00.398913",
     "exception": false,
     "start_time": "2025-04-10T15:43:00.335894",
     "status": "completed"
    },
    "tags": []
   },
   "source": [
    "## Load Audio File"
   ]
  },
  {
   "cell_type": "code",
   "execution_count": 27,
   "id": "978ce5fb",
   "metadata": {
    "execution": {
     "iopub.execute_input": "2025-04-10T15:43:00.527136Z",
     "iopub.status.busy": "2025-04-10T15:43:00.526917Z",
     "iopub.status.idle": "2025-04-10T15:43:00.540646Z",
     "shell.execute_reply": "2025-04-10T15:43:00.540148Z"
    },
    "papermill": {
     "duration": 0.078235,
     "end_time": "2025-04-10T15:43:00.542088",
     "exception": false,
     "start_time": "2025-04-10T15:43:00.463853",
     "status": "completed"
    },
    "tags": []
   },
   "outputs": [],
   "source": [
    "train_dataset = (train_dataset\n",
    "                 .cast_column(\"audio_file\", Audio(sampling_rate=16_000))\n",
    "                 .rename_column('audio_file', 'audio'))\n",
    "valid_dataset = (valid_dataset\n",
    "                 .cast_column(\"audio_file\", Audio(sampling_rate=16_000))\n",
    "                 .rename_column('audio_file', 'audio'))\n",
    "test_dataset = (test_dataset\n",
    "                 .cast_column(\"audio_file\", Audio(sampling_rate=16_000))\n",
    "                 .rename_column('audio_file', 'audio'))"
   ]
  },
  {
   "cell_type": "code",
   "execution_count": 28,
   "id": "cf7c98d7",
   "metadata": {
    "execution": {
     "iopub.execute_input": "2025-04-10T15:43:00.668480Z",
     "iopub.status.busy": "2025-04-10T15:43:00.667869Z",
     "iopub.status.idle": "2025-04-10T15:43:00.674548Z",
     "shell.execute_reply": "2025-04-10T15:43:00.673949Z"
    },
    "papermill": {
     "duration": 0.071739,
     "end_time": "2025-04-10T15:43:00.676142",
     "exception": false,
     "start_time": "2025-04-10T15:43:00.604403",
     "status": "completed"
    },
    "tags": []
   },
   "outputs": [
    {
     "data": {
      "text/plain": [
       "{'audio': {'path': '/kaggle/input/darpa-timit-acousticphonetic-continuous-speech/data/TEST/DR7/FISB0/SA1.WAV',\n",
       "  'array': array([-6.1035156e-05,  6.1035156e-05,  1.2207031e-04, ...,\n",
       "          9.1552734e-05,  3.6621094e-04, -3.0517578e-04], dtype=float32),\n",
       "  'sampling_rate': 16000},\n",
       " 'text': 'she had your dark suit in greasy wash water all year',\n",
       " 'phonetic': 'h# sh iy hh ae h# d y er h# d aa r h# k s uw h# ih n h# g r iy z iy w aa sh h# w aa dx er h# aa l y ih er h#'}"
      ]
     },
     "execution_count": 28,
     "metadata": {},
     "output_type": "execute_result"
    }
   ],
   "source": [
    "train_dataset[0]"
   ]
  },
  {
   "cell_type": "code",
   "execution_count": 29,
   "id": "6b16bd4e",
   "metadata": {
    "execution": {
     "iopub.execute_input": "2025-04-10T15:43:00.810609Z",
     "iopub.status.busy": "2025-04-10T15:43:00.809915Z",
     "iopub.status.idle": "2025-04-10T15:43:00.847203Z",
     "shell.execute_reply": "2025-04-10T15:43:00.846539Z"
    },
    "papermill": {
     "duration": 0.106224,
     "end_time": "2025-04-10T15:43:00.850612",
     "exception": false,
     "start_time": "2025-04-10T15:43:00.744388",
     "status": "completed"
    },
    "tags": []
   },
   "outputs": [
    {
     "name": "stdout",
     "output_type": "stream",
     "text": [
      "Text: chief interest in radiosterilization resides in the military services\n",
      "Phonetics: h# ch iy f ih n h# t er s h# t ih n r ey dx iy uh s h# t eh er l ah z ey sh ih n r ih z ay h# z ih n dh ih m ih l ih h# t eh r ih s er v er s ih z h#\n",
      "Input array shape: (69325,)\n",
      "Sampling rate: 16000\n"
     ]
    },
    {
     "data": {
      "text/html": [
       "\n",
       "                <audio  controls=\"controls\" >\n",
       "                    <source src=\"data:audio/wav;base64,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\" type=\"audio/wav\" />\n",
       "                    Your browser does not support the audio element.\n",
       "                </audio>\n",
       "              "
      ],
      "text/plain": [
       "<IPython.lib.display.Audio object>"
      ]
     },
     "execution_count": 29,
     "metadata": {},
     "output_type": "execute_result"
    }
   ],
   "source": [
    "import IPython.display as ipd\n",
    "import numpy as np\n",
    "import random\n",
    "\n",
    "rand_int = random.randint(0, len(train_dataset)-1)\n",
    "\n",
    "print(\"Text:\", train_dataset[rand_int][\"text\"])\n",
    "print(\"Phonetics:\", train_dataset[rand_int][\"phonetic\"])\n",
    "print(\"Input array shape:\", train_dataset[rand_int][\"audio\"][\"array\"].shape)\n",
    "print(\"Sampling rate:\", train_dataset[rand_int][\"audio\"][\"sampling_rate\"])\n",
    "ipd.Audio(data=train_dataset[rand_int][\"audio\"][\"array\"], autoplay=False, rate=16000)"
   ]
  },
  {
   "cell_type": "markdown",
   "id": "efafa2c7",
   "metadata": {
    "papermill": {
     "duration": 0.066641,
     "end_time": "2025-04-10T15:43:00.985519",
     "exception": false,
     "start_time": "2025-04-10T15:43:00.918878",
     "status": "completed"
    },
    "tags": []
   },
   "source": [
    "## Build Character Set"
   ]
  },
  {
   "cell_type": "code",
   "execution_count": 30,
   "id": "c058c950",
   "metadata": {
    "execution": {
     "iopub.execute_input": "2025-04-10T15:43:01.121707Z",
     "iopub.status.busy": "2025-04-10T15:43:01.121473Z",
     "iopub.status.idle": "2025-04-10T15:43:01.127848Z",
     "shell.execute_reply": "2025-04-10T15:43:01.127226Z"
    },
    "papermill": {
     "duration": 0.075671,
     "end_time": "2025-04-10T15:43:01.129381",
     "exception": false,
     "start_time": "2025-04-10T15:43:01.053710",
     "status": "completed"
    },
    "tags": []
   },
   "outputs": [],
   "source": [
    "vocab_train = list(set(train_phonetics)) + [' ']\n",
    "vocab_valid = list(set(valid_phonetics)) + [' ']\n",
    "vocab_test  = list(set(test_phonetics)) + [' ']"
   ]
  },
  {
   "cell_type": "code",
   "execution_count": 31,
   "id": "0665e3fb",
   "metadata": {
    "execution": {
     "iopub.execute_input": "2025-04-10T15:43:01.268132Z",
     "iopub.status.busy": "2025-04-10T15:43:01.267906Z",
     "iopub.status.idle": "2025-04-10T15:43:01.272676Z",
     "shell.execute_reply": "2025-04-10T15:43:01.271951Z"
    },
    "papermill": {
     "duration": 0.076207,
     "end_time": "2025-04-10T15:43:01.274382",
     "exception": false,
     "start_time": "2025-04-10T15:43:01.198175",
     "status": "completed"
    },
    "tags": []
   },
   "outputs": [
    {
     "name": "stdout",
     "output_type": "stream",
     "text": [
      "{' ': 0, 'aa': 1, 'ae': 2, 'ah': 3, 'aw': 4, 'ay': 5, 'b': 6, 'ch': 7, 'd': 8, 'dh': 9, 'dx': 10, 'eh': 11, 'er': 12, 'ey': 13, 'f': 14, 'g': 15, 'h#': 16, 'hh': 17, 'ih': 18, 'iy': 19, 'jh': 20, 'k': 21, 'l': 22, 'm': 23, 'n': 24, 'ng': 25, 'ow': 26, 'oy': 27, 'p': 28, 'r': 29, 's': 30, 'sh': 31, 't': 32, 'th': 33, 'uh': 34, 'uw': 35, 'v': 36, 'w': 37, 'y': 38, 'z': 39}\n"
     ]
    }
   ],
   "source": [
    "vocab_list = list(set(vocab_train + vocab_valid + vocab_test))\n",
    "vocab_dict = {v: k for k, v in enumerate(sorted(vocab_list))}\n",
    "\n",
    "print(vocab_dict)"
   ]
  },
  {
   "cell_type": "code",
   "execution_count": 32,
   "id": "0dba240b",
   "metadata": {
    "execution": {
     "iopub.execute_input": "2025-04-10T15:43:01.411108Z",
     "iopub.status.busy": "2025-04-10T15:43:01.410895Z",
     "iopub.status.idle": "2025-04-10T15:43:01.416424Z",
     "shell.execute_reply": "2025-04-10T15:43:01.415646Z"
    },
    "papermill": {
     "duration": 0.076263,
     "end_time": "2025-04-10T15:43:01.418105",
     "exception": false,
     "start_time": "2025-04-10T15:43:01.341842",
     "status": "completed"
    },
    "tags": []
   },
   "outputs": [
    {
     "data": {
      "text/plain": [
       "42"
      ]
     },
     "execution_count": 32,
     "metadata": {},
     "output_type": "execute_result"
    }
   ],
   "source": [
    "# make the space more intuitive to understand\n",
    "vocab_dict[\"|\"] = vocab_dict[\" \"]\n",
    "del vocab_dict[\" \"]\n",
    "\n",
    "vocab_dict[\"[UNK]\"] = len(vocab_dict)\n",
    "vocab_dict[\"[PAD]\"] = len(vocab_dict)\n",
    "len(vocab_dict)"
   ]
  },
  {
   "cell_type": "code",
   "execution_count": 33,
   "id": "6731eff9",
   "metadata": {
    "execution": {
     "iopub.execute_input": "2025-04-10T15:43:01.555862Z",
     "iopub.status.busy": "2025-04-10T15:43:01.555631Z",
     "iopub.status.idle": "2025-04-10T15:43:01.559757Z",
     "shell.execute_reply": "2025-04-10T15:43:01.559120Z"
    },
    "papermill": {
     "duration": 0.07449,
     "end_time": "2025-04-10T15:43:01.561228",
     "exception": false,
     "start_time": "2025-04-10T15:43:01.486738",
     "status": "completed"
    },
    "tags": []
   },
   "outputs": [],
   "source": [
    "# save vocab.json\n",
    "import json\n",
    "with open('/kaggle/working/vocab.json', 'w') as vocab_file:\n",
    "    json.dump(vocab_dict, vocab_file)"
   ]
  },
  {
   "cell_type": "markdown",
   "id": "ab006939",
   "metadata": {
    "papermill": {
     "duration": 0.071404,
     "end_time": "2025-04-10T15:43:01.701506",
     "exception": false,
     "start_time": "2025-04-10T15:43:01.630102",
     "status": "completed"
    },
    "tags": []
   },
   "source": [
    "## IPA Symbol\n",
    "We won't use these symbols in this notebook. This is just for reference, in case you need them."
   ]
  },
  {
   "cell_type": "code",
   "execution_count": 34,
   "id": "fed41c1b",
   "metadata": {
    "execution": {
     "iopub.execute_input": "2025-04-10T15:43:01.841546Z",
     "iopub.status.busy": "2025-04-10T15:43:01.840897Z",
     "iopub.status.idle": "2025-04-10T15:43:01.845500Z",
     "shell.execute_reply": "2025-04-10T15:43:01.844861Z"
    },
    "papermill": {
     "duration": 0.073993,
     "end_time": "2025-04-10T15:43:01.846939",
     "exception": false,
     "start_time": "2025-04-10T15:43:01.772946",
     "status": "completed"
    },
    "tags": []
   },
   "outputs": [],
   "source": [
    "symbols = {\"a\": \"ə\", \"ey\": \"eɪ\", \"aa\": \"ɑ\", \"ae\": \"æ\", \"ah\": \"ə\", \"ao\": \"ɔ\",\n",
    "           \"aw\": \"aʊ\", \"ay\": \"aɪ\", \"ch\": \"ʧ\", \"dh\": \"ð\", \"eh\": \"ɛ\", \"er\": \"ər\",\n",
    "           \"hh\": \"h\", \"ih\": \"ɪ\", \"jh\": \"ʤ\", \"ng\": \"ŋ\",  \"ow\": \"oʊ\", \"oy\": \"ɔɪ\",\n",
    "           \"sh\": \"ʃ\", \"th\": \"θ\", \"uh\": \"ʊ\", \"uw\": \"u\", \"zh\": \"ʒ\", \"iy\": \"i\", \"y\": \"j\"}"
   ]
  },
  {
   "cell_type": "markdown",
   "id": "5d4f4e81",
   "metadata": {
    "papermill": {
     "duration": 0.0688,
     "end_time": "2025-04-10T15:43:01.983156",
     "exception": false,
     "start_time": "2025-04-10T15:43:01.914356",
     "status": "completed"
    },
    "tags": []
   },
   "source": [
    "# Modeling"
   ]
  },
  {
   "cell_type": "markdown",
   "id": "f510b06e",
   "metadata": {
    "papermill": {
     "duration": 0.067633,
     "end_time": "2025-04-10T15:43:02.118816",
     "exception": false,
     "start_time": "2025-04-10T15:43:02.051183",
     "status": "completed"
    },
    "tags": []
   },
   "source": [
    "## Input Processor"
   ]
  },
  {
   "cell_type": "code",
   "execution_count": 35,
   "id": "2030b730",
   "metadata": {
    "execution": {
     "iopub.execute_input": "2025-04-10T15:43:02.259047Z",
     "iopub.status.busy": "2025-04-10T15:43:02.258448Z",
     "iopub.status.idle": "2025-04-10T15:43:02.478762Z",
     "shell.execute_reply": "2025-04-10T15:43:02.478223Z"
    },
    "papermill": {
     "duration": 0.292122,
     "end_time": "2025-04-10T15:43:02.480548",
     "exception": false,
     "start_time": "2025-04-10T15:43:02.188426",
     "status": "completed"
    },
    "tags": []
   },
   "outputs": [],
   "source": [
    "from transformers import Wav2Vec2CTCTokenizer\n",
    "from transformers import Wav2Vec2FeatureExtractor\n",
    "from transformers import Wav2Vec2Processor\n",
    "from tokenizers.processors import TemplateProcessing"
   ]
  },
  {
   "cell_type": "code",
   "execution_count": 36,
   "id": "cbfe449b",
   "metadata": {
    "execution": {
     "iopub.execute_input": "2025-04-10T15:43:02.618778Z",
     "iopub.status.busy": "2025-04-10T15:43:02.618510Z",
     "iopub.status.idle": "2025-04-10T15:43:02.627717Z",
     "shell.execute_reply": "2025-04-10T15:43:02.626966Z"
    },
    "papermill": {
     "duration": 0.080137,
     "end_time": "2025-04-10T15:43:02.629190",
     "exception": false,
     "start_time": "2025-04-10T15:43:02.549053",
     "status": "completed"
    },
    "tags": []
   },
   "outputs": [
    {
     "name": "stderr",
     "output_type": "stream",
     "text": [
      "Special tokens have been added in the vocabulary, make sure the associated word embeddings are fine-tuned or trained.\n"
     ]
    }
   ],
   "source": [
    "tokenizer = Wav2Vec2CTCTokenizer.from_pretrained(\"/kaggle/working/\", unk_token=\"[UNK]\", pad_token=\"[PAD]\", word_delimiter_token=\"|\", )  # './' load vocab.json in the current directory\n",
    "feature_extractor = Wav2Vec2FeatureExtractor(feature_size=1, sampling_rate=16000, padding_value=0.0, do_normalize=True, return_attention_mask=True)  \n",
    "processor = Wav2Vec2Processor(feature_extractor=feature_extractor, tokenizer=tokenizer)"
   ]
  },
  {
   "cell_type": "code",
   "execution_count": 37,
   "id": "83d648bb",
   "metadata": {
    "execution": {
     "iopub.execute_input": "2025-04-10T15:43:02.764022Z",
     "iopub.status.busy": "2025-04-10T15:43:02.763504Z",
     "iopub.status.idle": "2025-04-10T15:43:02.768020Z",
     "shell.execute_reply": "2025-04-10T15:43:02.767360Z"
    },
    "papermill": {
     "duration": 0.073799,
     "end_time": "2025-04-10T15:43:02.769562",
     "exception": false,
     "start_time": "2025-04-10T15:43:02.695763",
     "status": "completed"
    },
    "tags": []
   },
   "outputs": [],
   "source": [
    "# This does not prepare the input for the Transformer model.\n",
    "# This will resample the data and convert the sentence into indices\n",
    "# Batch here is just for one entry (row)\n",
    "def prepare_dataset(batch):\n",
    "    audio = batch[\"audio\"]\n",
    "    \n",
    "    # batched output is \"un-batched\"\n",
    "    batch[\"input_values\"] = processor(audio[\"array\"], sampling_rate=audio[\"sampling_rate\"]).input_values[0]\n",
    "    batch[\"input_length\"] = len(batch[\"input_values\"])\n",
    "    \n",
    "    with processor.as_target_processor():\n",
    "        batch[\"labels\"] = processor(batch[\"phonetic\"]).input_ids\n",
    "    return batch"
   ]
  },
  {
   "cell_type": "code",
   "execution_count": 38,
   "id": "8d759cdd",
   "metadata": {
    "execution": {
     "iopub.execute_input": "2025-04-10T15:43:02.905980Z",
     "iopub.status.busy": "2025-04-10T15:43:02.905776Z",
     "iopub.status.idle": "2025-04-10T15:45:22.479203Z",
     "shell.execute_reply": "2025-04-10T15:45:22.478633Z"
    },
    "papermill": {
     "duration": 139.644098,
     "end_time": "2025-04-10T15:45:22.481130",
     "exception": false,
     "start_time": "2025-04-10T15:43:02.837032",
     "status": "completed"
    },
    "tags": []
   },
   "outputs": [
    {
     "data": {
      "application/vnd.jupyter.widget-view+json": {
       "model_id": "ffda6594945446b680e5529bb4c2c04b",
       "version_major": 2,
       "version_minor": 0
      },
      "text/plain": [
       "  0%|          | 0/2688 [00:00<?, ?ex/s]"
      ]
     },
     "metadata": {},
     "output_type": "display_data"
    },
    {
     "data": {
      "application/vnd.jupyter.widget-view+json": {
       "model_id": "12f1a28c53364fab84e62cf39f86697b",
       "version_major": 2,
       "version_minor": 0
      },
      "text/plain": [
       "  0%|          | 0/336 [00:00<?, ?ex/s]"
      ]
     },
     "metadata": {},
     "output_type": "display_data"
    },
    {
     "data": {
      "application/vnd.jupyter.widget-view+json": {
       "model_id": "83f0834469cd47c1b1055930634800d9",
       "version_major": 2,
       "version_minor": 0
      },
      "text/plain": [
       "  0%|          | 0/336 [00:00<?, ?ex/s]"
      ]
     },
     "metadata": {},
     "output_type": "display_data"
    }
   ],
   "source": [
    "# train_dataset = train_dataset.map(prepare_dataset, remove_columns=train_dataset.column_names)\n",
    "# valid_dataset = valid_dataset.map(prepare_dataset, remove_columns=valid_dataset.column_names)\n",
    "# test_dataset = test_dataset.map(prepare_dataset, remove_columns=test_dataset.column_names)\n",
    "train_dataset = train_dataset.map(prepare_dataset)\n",
    "valid_dataset = valid_dataset.map(prepare_dataset)\n",
    "test_dataset = test_dataset.map(prepare_dataset)"
   ]
  },
  {
   "cell_type": "code",
   "execution_count": 39,
   "id": "210803e1",
   "metadata": {
    "execution": {
     "iopub.execute_input": "2025-04-10T15:45:22.621993Z",
     "iopub.status.busy": "2025-04-10T15:45:22.621368Z",
     "iopub.status.idle": "2025-04-10T15:45:22.629516Z",
     "shell.execute_reply": "2025-04-10T15:45:22.628842Z"
    },
    "papermill": {
     "duration": 0.079027,
     "end_time": "2025-04-10T15:45:22.631144",
     "exception": false,
     "start_time": "2025-04-10T15:45:22.552117",
     "status": "completed"
    },
    "tags": []
   },
   "outputs": [],
   "source": [
    "import torch\n",
    "\n",
    "from dataclasses import dataclass, field\n",
    "from typing import Any, Dict, List, Optional, Union\n",
    "\n",
    "@dataclass\n",
    "class DataCollatorCTCWithPadding:\n",
    "    \"\"\"\n",
    "    Data collator that will dynamically pad the inputs received.\n",
    "    Args:\n",
    "        processor (:class:`~transformers.Wav2Vec2Processor`)\n",
    "            The processor used for proccessing the data.\n",
    "        padding (:obj:`bool`, :obj:`str` or :class:`~transformers.tokenization_utils_base.PaddingStrategy`, `optional`, defaults to :obj:`True`):\n",
    "            Select a strategy to pad the returned sequences (according to the model's padding side and padding index)\n",
    "            among:\n",
    "            * :obj:`True` or :obj:`'longest'`: Pad to the longest sequence in the batch (or no padding if only a single\n",
    "              sequence if provided).\n",
    "            * :obj:`'max_length'`: Pad to a maximum length specified with the argument :obj:`max_length` or to the\n",
    "              maximum acceptable input length for the model if that argument is not provided.\n",
    "            * :obj:`False` or :obj:`'do_not_pad'` (default): No padding (i.e., can output a batch with sequences of\n",
    "              different lengths).\n",
    "    \"\"\"\n",
    "\n",
    "    processor: Wav2Vec2Processor\n",
    "    padding: Union[bool, str] = True\n",
    "\n",
    "    def __call__(self, features: List[Dict[str, Union[List[int], torch.Tensor]]]) -> Dict[str, torch.Tensor]:\n",
    "        # split inputs and labels since they have to be of different lenghts and need\n",
    "        # different padding methods\n",
    "        input_features = [{\"input_values\": feature[\"input_values\"]} for feature in features]\n",
    "        label_features = [{\"input_ids\": feature[\"labels\"]} for feature in features]\n",
    "\n",
    "        batch = self.processor.pad(\n",
    "            input_features,\n",
    "            padding=self.padding,\n",
    "            return_tensors=\"pt\",\n",
    "        )\n",
    "\n",
    "        with self.processor.as_target_processor():\n",
    "            labels_batch = self.processor.pad(\n",
    "                label_features,\n",
    "                padding=self.padding,\n",
    "                return_tensors=\"pt\",\n",
    "            )\n",
    "\n",
    "        # replace padding with -100 to ignore loss correctly\n",
    "        labels = labels_batch[\"input_ids\"].masked_fill(labels_batch.attention_mask.ne(1), -100)\n",
    "        batch[\"labels\"] = labels\n",
    "\n",
    "        return batch"
   ]
  },
  {
   "cell_type": "markdown",
   "id": "5461a5bd",
   "metadata": {
    "papermill": {
     "duration": 0.06705,
     "end_time": "2025-04-10T15:45:22.765641",
     "exception": false,
     "start_time": "2025-04-10T15:45:22.698591",
     "status": "completed"
    },
    "tags": []
   },
   "source": [
    "## Evaluation Metrics"
   ]
  },
  {
   "cell_type": "markdown",
   "id": "775d1e72",
   "metadata": {
    "papermill": {
     "duration": 0.067284,
     "end_time": "2025-04-10T15:45:22.900258",
     "exception": false,
     "start_time": "2025-04-10T15:45:22.832974",
     "status": "completed"
    },
    "tags": []
   },
   "source": [
    "We use WER (Word Error Rate) and CER (Character Error Rate) to measure the performance of our model. After the training, we realize that WER may not be the right fit. CER fits better.\n",
    "\n",
    "Note that CER here has some errors in our use case because each ARPAbet token is represented by one to three characters. For example, a label token is \"ch\" and another is \"ae\", that's two character error right there.\n",
    "\n",
    "After the training, we will re-evaluate on test-set one more time, which we will evaluate at token level."
   ]
  },
  {
   "cell_type": "code",
   "execution_count": 40,
   "id": "21405a6b",
   "metadata": {
    "execution": {
     "iopub.execute_input": "2025-04-10T15:45:23.037357Z",
     "iopub.status.busy": "2025-04-10T15:45:23.036829Z",
     "iopub.status.idle": "2025-04-10T15:45:23.042057Z",
     "shell.execute_reply": "2025-04-10T15:45:23.041382Z"
    },
    "papermill": {
     "duration": 0.075684,
     "end_time": "2025-04-10T15:45:23.043652",
     "exception": false,
     "start_time": "2025-04-10T15:45:22.967968",
     "status": "completed"
    },
    "tags": []
   },
   "outputs": [],
   "source": [
    "def compute_metrics(pred):\n",
    "    pred_logits = pred.predictions\n",
    "    pred_ids = np.argmax(pred_logits, axis=-1)\n",
    "\n",
    "    pred.label_ids[pred.label_ids == -100] = tokenizer.pad_token_id\n",
    "\n",
    "    pred_str = tokenizer.batch_decode(pred_ids)\n",
    "    label_str = tokenizer.batch_decode(pred.label_ids, group_tokens=False)\n",
    "    \n",
    "    #wer = wer_metric.compute(predictions=pred_str, references=label_str)\n",
    "    cer = cer_metric.compute(predictions=pred_str, references=label_str)\n",
    "    \n",
    "    print(\"Predicted sample\", pred_str[0])\n",
    "    print(\"GT sample\", label_str[0])\n",
    "\n",
    "    return {\n",
    "        #\"wer\": wer,\n",
    "        \"cer\": cer\n",
    "    }"
   ]
  },
  {
   "cell_type": "code",
   "execution_count": 41,
   "id": "864930ef",
   "metadata": {
    "execution": {
     "iopub.execute_input": "2025-04-10T15:45:23.180414Z",
     "iopub.status.busy": "2025-04-10T15:45:23.180184Z",
     "iopub.status.idle": "2025-04-10T15:45:23.601672Z",
     "shell.execute_reply": "2025-04-10T15:45:23.600968Z"
    },
    "papermill": {
     "duration": 0.491741,
     "end_time": "2025-04-10T15:45:23.603299",
     "exception": false,
     "start_time": "2025-04-10T15:45:23.111558",
     "status": "completed"
    },
    "tags": []
   },
   "outputs": [
    {
     "data": {
      "application/vnd.jupyter.widget-view+json": {
       "model_id": "3a65f44cca354f53b24b847b1076cbd7",
       "version_major": 2,
       "version_minor": 0
      },
      "text/plain": [
       "Downloading builder script:   0%|          | 0.00/2.16k [00:00<?, ?B/s]"
      ]
     },
     "metadata": {},
     "output_type": "display_data"
    }
   ],
   "source": [
    "data_collator = DataCollatorCTCWithPadding(processor=processor, padding=True)\n",
    "# wer_metric = load_metric(\"wer\")\n",
    "cer_metric = load_metric(\"cer\")"
   ]
  },
  {
   "cell_type": "code",
   "execution_count": 42,
   "id": "14549e1c",
   "metadata": {
    "execution": {
     "iopub.execute_input": "2025-04-10T15:45:23.743048Z",
     "iopub.status.busy": "2025-04-10T15:45:23.742469Z",
     "iopub.status.idle": "2025-04-10T15:45:46.015398Z",
     "shell.execute_reply": "2025-04-10T15:45:46.014737Z"
    },
    "papermill": {
     "duration": 22.344523,
     "end_time": "2025-04-10T15:45:46.017173",
     "exception": false,
     "start_time": "2025-04-10T15:45:23.672650",
     "status": "completed"
    },
    "tags": []
   },
   "outputs": [
    {
     "data": {
      "application/vnd.jupyter.widget-view+json": {
       "model_id": "eb05ecbed1a140659e314959cda7a2c4",
       "version_major": 2,
       "version_minor": 0
      },
      "text/plain": [
       "Downloading:   0%|          | 0.00/1.53k [00:00<?, ?B/s]"
      ]
     },
     "metadata": {},
     "output_type": "display_data"
    },
    {
     "data": {
      "application/vnd.jupyter.widget-view+json": {
       "model_id": "18edb65db815441a9b9ce1863fae8c85",
       "version_major": 2,
       "version_minor": 0
      },
      "text/plain": [
       "Downloading:   0%|          | 0.00/1.18G [00:00<?, ?B/s]"
      ]
     },
     "metadata": {},
     "output_type": "display_data"
    },
    {
     "name": "stderr",
     "output_type": "stream",
     "text": [
      "Some weights of the model checkpoint at facebook/wav2vec2-xls-r-300m were not used when initializing Wav2Vec2ForCTC: ['quantizer.codevectors', 'quantizer.weight_proj.bias', 'project_q.bias', 'project_hid.weight', 'quantizer.weight_proj.weight', 'project_hid.bias', 'project_q.weight']\n",
      "- This IS expected if you are initializing Wav2Vec2ForCTC from the checkpoint of a model trained on another task or with another architecture (e.g. initializing a BertForSequenceClassification model from a BertForPreTraining model).\n",
      "- This IS NOT expected if you are initializing Wav2Vec2ForCTC from the checkpoint of a model that you expect to be exactly identical (initializing a BertForSequenceClassification model from a BertForSequenceClassification model).\n",
      "Some weights of Wav2Vec2ForCTC were not initialized from the model checkpoint at facebook/wav2vec2-xls-r-300m and are newly initialized: ['lm_head.weight', 'lm_head.bias']\n",
      "You should probably TRAIN this model on a down-stream task to be able to use it for predictions and inference.\n"
     ]
    }
   ],
   "source": [
    "from transformers import Wav2Vec2ForCTC\n",
    "\n",
    "model = Wav2Vec2ForCTC.from_pretrained(\n",
    "    \"facebook/wav2vec2-xls-r-300m\", \n",
    "    attention_dropout=0.1,\n",
    "    layerdrop=0.0,\n",
    "    feat_proj_dropout=0.0,\n",
    "#     mask_time_prob=0.75, \n",
    "#     mask_time_length=10,\n",
    "#     mask_feature_prob=0.25,\n",
    "#     mask_feature_length=64,\n",
    "    ctc_loss_reduction=\"mean\",\n",
    "    pad_token_id=processor.tokenizer.pad_token_id,\n",
    "    vocab_size=len(processor.tokenizer)\n",
    ")"
   ]
  },
  {
   "cell_type": "code",
   "execution_count": 43,
   "id": "62e3e6d5",
   "metadata": {
    "execution": {
     "iopub.execute_input": "2025-04-10T15:45:46.160679Z",
     "iopub.status.busy": "2025-04-10T15:45:46.160470Z",
     "iopub.status.idle": "2025-04-10T15:45:46.164034Z",
     "shell.execute_reply": "2025-04-10T15:45:46.163443Z"
    },
    "papermill": {
     "duration": 0.076619,
     "end_time": "2025-04-10T15:45:46.165583",
     "exception": false,
     "start_time": "2025-04-10T15:45:46.088964",
     "status": "completed"
    },
    "tags": []
   },
   "outputs": [],
   "source": [
    "model.freeze_feature_encoder()"
   ]
  },
  {
   "cell_type": "markdown",
   "id": "3b3dad9b",
   "metadata": {
    "papermill": {
     "duration": 0.070741,
     "end_time": "2025-04-10T15:45:46.306431",
     "exception": false,
     "start_time": "2025-04-10T15:45:46.235690",
     "status": "completed"
    },
    "tags": []
   },
   "source": [
    "## Training"
   ]
  },
  {
   "cell_type": "code",
   "execution_count": 44,
   "id": "005d4fe0",
   "metadata": {
    "execution": {
     "iopub.execute_input": "2025-04-10T15:45:46.460301Z",
     "iopub.status.busy": "2025-04-10T15:45:46.459829Z",
     "iopub.status.idle": "2025-04-10T15:45:46.555940Z",
     "shell.execute_reply": "2025-04-10T15:45:46.555221Z"
    },
    "papermill": {
     "duration": 0.173152,
     "end_time": "2025-04-10T15:45:46.557637",
     "exception": false,
     "start_time": "2025-04-10T15:45:46.384485",
     "status": "completed"
    },
    "tags": []
   },
   "outputs": [
    {
     "name": "stderr",
     "output_type": "stream",
     "text": [
      "Using the `WAND_DISABLED` environment variable is deprecated and will be removed in v5. Use the --report_to flag to control the integrations used for logging result (for instance --report_to none).\n"
     ]
    }
   ],
   "source": [
    "from transformers import TrainingArguments\n",
    "\n",
    "training_args = TrainingArguments(\n",
    "    output_dir='/kaggle/working/',\n",
    "    group_by_length=True,\n",
    "    per_device_train_batch_size=16,\n",
    "    gradient_accumulation_steps=1,\n",
    "    evaluation_strategy=\"steps\",\n",
    "    gradient_checkpointing=True,\n",
    "    fp16=True,\n",
    "    max_steps=2000,\n",
    "    save_steps=100,  #100,\n",
    "    eval_steps=100,\n",
    "    logging_steps=100,\n",
    "    learning_rate=1e-4,\n",
    "    warmup_steps=20,\n",
    "    save_total_limit=3,\n",
    "    load_best_model_at_end=True\n",
    ")"
   ]
  },
  {
   "cell_type": "code",
   "execution_count": 45,
   "id": "cf5a20dd",
   "metadata": {
    "execution": {
     "iopub.execute_input": "2025-04-10T15:45:46.700810Z",
     "iopub.status.busy": "2025-04-10T15:45:46.700366Z",
     "iopub.status.idle": "2025-04-10T15:45:53.182587Z",
     "shell.execute_reply": "2025-04-10T15:45:53.181925Z"
    },
    "papermill": {
     "duration": 6.553301,
     "end_time": "2025-04-10T15:45:53.184077",
     "exception": false,
     "start_time": "2025-04-10T15:45:46.630776",
     "status": "completed"
    },
    "tags": []
   },
   "outputs": [
    {
     "name": "stderr",
     "output_type": "stream",
     "text": [
      "max_steps is given, it will override any value given in num_train_epochs\n",
      "Using amp half precision backend\n"
     ]
    }
   ],
   "source": [
    "from transformers import Trainer\n",
    "\n",
    "trainer = Trainer(\n",
    "    model=model,\n",
    "    data_collator=data_collator,\n",
    "    args=training_args,\n",
    "    compute_metrics=compute_metrics,\n",
    "    train_dataset=train_dataset,\n",
    "    eval_dataset=valid_dataset,\n",
    "    tokenizer=processor.feature_extractor\n",
    ")"
   ]
  },
  {
   "cell_type": "code",
   "execution_count": 46,
   "id": "731c5ad8",
   "metadata": {
    "execution": {
     "iopub.execute_input": "2025-04-10T15:45:53.325934Z",
     "iopub.status.busy": "2025-04-10T15:45:53.325411Z",
     "iopub.status.idle": "2025-04-10T20:28:19.334741Z",
     "shell.execute_reply": "2025-04-10T20:28:19.333997Z"
    },
    "papermill": {
     "duration": 16946.081527,
     "end_time": "2025-04-10T20:28:19.336537",
     "exception": false,
     "start_time": "2025-04-10T15:45:53.255010",
     "status": "completed"
    },
    "tags": []
   },
   "outputs": [
    {
     "name": "stderr",
     "output_type": "stream",
     "text": [
      "The following columns in the training set  don't have a corresponding argument in `Wav2Vec2ForCTC.forward` and have been ignored: phonetic, text, input_length, audio. If phonetic, text, input_length, audio are not expected by `Wav2Vec2ForCTC.forward`,  you can safely ignore this message.\n",
      "/opt/conda/lib/python3.7/site-packages/transformers/optimization.py:309: FutureWarning: This implementation of AdamW is deprecated and will be removed in a future version. Use the PyTorch implementation torch.optim.AdamW instead, or set `no_deprecation_warning=True` to disable this warning\n",
      "  FutureWarning,\n",
      "***** Running training *****\n",
      "  Num examples = 2688\n",
      "  Num Epochs = 24\n",
      "  Instantaneous batch size per device = 16\n",
      "  Total train batch size (w. parallel, distributed & accumulation) = 32\n",
      "  Gradient Accumulation steps = 1\n",
      "  Total optimization steps = 2000\n",
      "/opt/conda/lib/python3.7/site-packages/torch/nn/parallel/_functions.py:68: UserWarning: Was asked to gather along dimension 0, but all input tensors were scalars; will instead unsqueeze and return a vector.\n",
      "  warnings.warn('Was asked to gather along dimension 0, but all '\n"
     ]
    },
    {
     "data": {
      "text/html": [
       "\n",
       "    <div>\n",
       "      \n",
       "      <progress value='2000' max='2000' style='width:300px; height:20px; vertical-align: middle;'></progress>\n",
       "      [2000/2000 4:41:27, Epoch 23/24]\n",
       "    </div>\n",
       "    <table border=\"1\" class=\"dataframe\">\n",
       "  <thead>\n",
       " <tr style=\"text-align: left;\">\n",
       "      <th>Step</th>\n",
       "      <th>Training Loss</th>\n",
       "      <th>Validation Loss</th>\n",
       "      <th>Cer</th>\n",
       "    </tr>\n",
       "  </thead>\n",
       "  <tbody>\n",
       "    <tr>\n",
       "      <td>100</td>\n",
       "      <td>5.023300</td>\n",
       "      <td>3.283651</td>\n",
       "      <td>1.000000</td>\n",
       "    </tr>\n",
       "    <tr>\n",
       "      <td>200</td>\n",
       "      <td>3.085800</td>\n",
       "      <td>2.644819</td>\n",
       "      <td>0.746826</td>\n",
       "    </tr>\n",
       "    <tr>\n",
       "      <td>300</td>\n",
       "      <td>1.979700</td>\n",
       "      <td>0.898844</td>\n",
       "      <td>0.163344</td>\n",
       "    </tr>\n",
       "    <tr>\n",
       "      <td>400</td>\n",
       "      <td>0.949100</td>\n",
       "      <td>0.547953</td>\n",
       "      <td>0.120537</td>\n",
       "    </tr>\n",
       "    <tr>\n",
       "      <td>500</td>\n",
       "      <td>0.701600</td>\n",
       "      <td>0.453629</td>\n",
       "      <td>0.100142</td>\n",
       "    </tr>\n",
       "    <tr>\n",
       "      <td>600</td>\n",
       "      <td>0.598100</td>\n",
       "      <td>0.405588</td>\n",
       "      <td>0.095971</td>\n",
       "    </tr>\n",
       "    <tr>\n",
       "      <td>700</td>\n",
       "      <td>0.536900</td>\n",
       "      <td>0.381533</td>\n",
       "      <td>0.089876</td>\n",
       "    </tr>\n",
       "    <tr>\n",
       "      <td>800</td>\n",
       "      <td>0.489900</td>\n",
       "      <td>0.380843</td>\n",
       "      <td>0.090197</td>\n",
       "    </tr>\n",
       "    <tr>\n",
       "      <td>900</td>\n",
       "      <td>0.448100</td>\n",
       "      <td>0.355521</td>\n",
       "      <td>0.086576</td>\n",
       "    </tr>\n",
       "    <tr>\n",
       "      <td>1000</td>\n",
       "      <td>0.417700</td>\n",
       "      <td>0.354042</td>\n",
       "      <td>0.086988</td>\n",
       "    </tr>\n",
       "    <tr>\n",
       "      <td>1100</td>\n",
       "      <td>0.389100</td>\n",
       "      <td>0.339545</td>\n",
       "      <td>0.084055</td>\n",
       "    </tr>\n",
       "    <tr>\n",
       "      <td>1200</td>\n",
       "      <td>0.364100</td>\n",
       "      <td>0.336181</td>\n",
       "      <td>0.084101</td>\n",
       "    </tr>\n",
       "    <tr>\n",
       "      <td>1300</td>\n",
       "      <td>0.333500</td>\n",
       "      <td>0.340350</td>\n",
       "      <td>0.082130</td>\n",
       "    </tr>\n",
       "    <tr>\n",
       "      <td>1400</td>\n",
       "      <td>0.311800</td>\n",
       "      <td>0.322815</td>\n",
       "      <td>0.081443</td>\n",
       "    </tr>\n",
       "    <tr>\n",
       "      <td>1500</td>\n",
       "      <td>0.300100</td>\n",
       "      <td>0.334531</td>\n",
       "      <td>0.084559</td>\n",
       "    </tr>\n",
       "    <tr>\n",
       "      <td>1600</td>\n",
       "      <td>0.283500</td>\n",
       "      <td>0.337858</td>\n",
       "      <td>0.084972</td>\n",
       "    </tr>\n",
       "    <tr>\n",
       "      <td>1700</td>\n",
       "      <td>0.268500</td>\n",
       "      <td>0.327985</td>\n",
       "      <td>0.085430</td>\n",
       "    </tr>\n",
       "    <tr>\n",
       "      <td>1800</td>\n",
       "      <td>0.261900</td>\n",
       "      <td>0.332467</td>\n",
       "      <td>0.084376</td>\n",
       "    </tr>\n",
       "    <tr>\n",
       "      <td>1900</td>\n",
       "      <td>0.255000</td>\n",
       "      <td>0.334552</td>\n",
       "      <td>0.084651</td>\n",
       "    </tr>\n",
       "    <tr>\n",
       "      <td>2000</td>\n",
       "      <td>0.253800</td>\n",
       "      <td>0.334132</td>\n",
       "      <td>0.083964</td>\n",
       "    </tr>\n",
       "  </tbody>\n",
       "</table><p>"
      ],
      "text/plain": [
       "<IPython.core.display.HTML object>"
      ]
     },
     "metadata": {},
     "output_type": "display_data"
    },
    {
     "name": "stderr",
     "output_type": "stream",
     "text": [
      "The following columns in the evaluation set  don't have a corresponding argument in `Wav2Vec2ForCTC.forward` and have been ignored: phonetic, text, input_length, audio. If phonetic, text, input_length, audio are not expected by `Wav2Vec2ForCTC.forward`,  you can safely ignore this message.\n",
      "***** Running Evaluation *****\n",
      "  Num examples = 336\n",
      "  Batch size = 16\n"
     ]
    },
    {
     "name": "stdout",
     "output_type": "stream",
     "text": [
      "Predicted sample \n",
      "GT sample h#wuhh#d yuwahlawaeh#k sahvaylihnh#sh#\n"
     ]
    },
    {
     "name": "stderr",
     "output_type": "stream",
     "text": [
      "Saving model checkpoint to /kaggle/working/checkpoint-100\n",
      "Configuration saved in /kaggle/working/checkpoint-100/config.json\n",
      "Model weights saved in /kaggle/working/checkpoint-100/pytorch_model.bin\n",
      "Feature extractor saved in /kaggle/working/checkpoint-100/preprocessor_config.json\n",
      "/opt/conda/lib/python3.7/site-packages/torch/nn/parallel/_functions.py:68: UserWarning: Was asked to gather along dimension 0, but all input tensors were scalars; will instead unsqueeze and return a vector.\n",
      "  warnings.warn('Was asked to gather along dimension 0, but all '\n",
      "The following columns in the evaluation set  don't have a corresponding argument in `Wav2Vec2ForCTC.forward` and have been ignored: phonetic, text, input_length, audio. If phonetic, text, input_length, audio are not expected by `Wav2Vec2ForCTC.forward`,  you can safely ignore this message.\n",
      "***** Running Evaluation *****\n",
      "  Num examples = 336\n",
      "  Batch size = 16\n"
     ]
    },
    {
     "name": "stdout",
     "output_type": "stream",
     "text": [
      "Predicted sample h#h#kth#th#\n",
      "GT sample h#wuhh#d yuwahlawaeh#k sahvaylihnh#sh#\n"
     ]
    },
    {
     "name": "stderr",
     "output_type": "stream",
     "text": [
      "Saving model checkpoint to /kaggle/working/checkpoint-200\n",
      "Configuration saved in /kaggle/working/checkpoint-200/config.json\n",
      "Model weights saved in /kaggle/working/checkpoint-200/pytorch_model.bin\n",
      "Feature extractor saved in /kaggle/working/checkpoint-200/preprocessor_config.json\n",
      "/opt/conda/lib/python3.7/site-packages/torch/nn/parallel/_functions.py:68: UserWarning: Was asked to gather along dimension 0, but all input tensors were scalars; will instead unsqueeze and return a vector.\n",
      "  warnings.warn('Was asked to gather along dimension 0, but all '\n",
      "The following columns in the evaluation set  don't have a corresponding argument in `Wav2Vec2ForCTC.forward` and have been ignored: phonetic, text, input_length, audio. If phonetic, text, input_length, audio are not expected by `Wav2Vec2ForCTC.forward`,  you can safely ignore this message.\n",
      "***** Running Evaluation *****\n",
      "  Num examples = 336\n",
      "  Batch size = 16\n"
     ]
    },
    {
     "name": "stdout",
     "output_type": "stream",
     "text": [
      "Predicted sample h#wihh#d uwuwlaaayh#k sahvaylihnh#t sh#\n",
      "GT sample h#wuhh#d yuwahlawaeh#k sahvaylihnh#sh#\n"
     ]
    },
    {
     "name": "stderr",
     "output_type": "stream",
     "text": [
      "Saving model checkpoint to /kaggle/working/checkpoint-300\n",
      "Configuration saved in /kaggle/working/checkpoint-300/config.json\n",
      "Model weights saved in /kaggle/working/checkpoint-300/pytorch_model.bin\n",
      "Feature extractor saved in /kaggle/working/checkpoint-300/preprocessor_config.json\n",
      "/opt/conda/lib/python3.7/site-packages/torch/nn/parallel/_functions.py:68: UserWarning: Was asked to gather along dimension 0, but all input tensors were scalars; will instead unsqueeze and return a vector.\n",
      "  warnings.warn('Was asked to gather along dimension 0, but all '\n",
      "The following columns in the evaluation set  don't have a corresponding argument in `Wav2Vec2ForCTC.forward` and have been ignored: phonetic, text, input_length, audio. If phonetic, text, input_length, audio are not expected by `Wav2Vec2ForCTC.forward`,  you can safely ignore this message.\n",
      "***** Running Evaluation *****\n",
      "  Num examples = 336\n",
      "  Batch size = 16\n"
     ]
    },
    {
     "name": "stdout",
     "output_type": "stream",
     "text": [
      "Predicted sample h#wihh#d yuwahloyaeh#k sahvaylahnh#t sh#h#\n",
      "GT sample h#wuhh#d yuwahlawaeh#k sahvaylihnh#sh#\n"
     ]
    },
    {
     "name": "stderr",
     "output_type": "stream",
     "text": [
      "Saving model checkpoint to /kaggle/working/checkpoint-400\n",
      "Configuration saved in /kaggle/working/checkpoint-400/config.json\n",
      "Model weights saved in /kaggle/working/checkpoint-400/pytorch_model.bin\n",
      "Feature extractor saved in /kaggle/working/checkpoint-400/preprocessor_config.json\n",
      "Deleting older checkpoint [/kaggle/working/checkpoint-100] due to args.save_total_limit\n",
      "/opt/conda/lib/python3.7/site-packages/torch/nn/parallel/_functions.py:68: UserWarning: Was asked to gather along dimension 0, but all input tensors were scalars; will instead unsqueeze and return a vector.\n",
      "  warnings.warn('Was asked to gather along dimension 0, but all '\n",
      "The following columns in the evaluation set  don't have a corresponding argument in `Wav2Vec2ForCTC.forward` and have been ignored: phonetic, text, input_length, audio. If phonetic, text, input_length, audio are not expected by `Wav2Vec2ForCTC.forward`,  you can safely ignore this message.\n",
      "***** Running Evaluation *****\n",
      "  Num examples = 336\n",
      "  Batch size = 16\n"
     ]
    },
    {
     "name": "stdout",
     "output_type": "stream",
     "text": [
      "Predicted sample h#wuhh#d yuwahlawh#aeh#k sahvvaylahnh#t sh#\n",
      "GT sample h#wuhh#d yuwahlawaeh#k sahvaylihnh#sh#\n"
     ]
    },
    {
     "name": "stderr",
     "output_type": "stream",
     "text": [
      "Saving model checkpoint to /kaggle/working/checkpoint-500\n",
      "Configuration saved in /kaggle/working/checkpoint-500/config.json\n",
      "Model weights saved in /kaggle/working/checkpoint-500/pytorch_model.bin\n",
      "Feature extractor saved in /kaggle/working/checkpoint-500/preprocessor_config.json\n",
      "Deleting older checkpoint [/kaggle/working/checkpoint-200] due to args.save_total_limit\n",
      "/opt/conda/lib/python3.7/site-packages/torch/nn/parallel/_functions.py:68: UserWarning: Was asked to gather along dimension 0, but all input tensors were scalars; will instead unsqueeze and return a vector.\n",
      "  warnings.warn('Was asked to gather along dimension 0, but all '\n",
      "The following columns in the evaluation set  don't have a corresponding argument in `Wav2Vec2ForCTC.forward` and have been ignored: phonetic, text, input_length, audio. If phonetic, text, input_length, audio are not expected by `Wav2Vec2ForCTC.forward`,  you can safely ignore this message.\n",
      "***** Running Evaluation *****\n",
      "  Num examples = 336\n",
      "  Batch size = 16\n"
     ]
    },
    {
     "name": "stdout",
     "output_type": "stream",
     "text": [
      "Predicted sample h#wuhh#d yuwahlawh#aeh#k sahvaylahnh#t sh#\n",
      "GT sample h#wuhh#d yuwahlawaeh#k sahvaylihnh#sh#\n"
     ]
    },
    {
     "name": "stderr",
     "output_type": "stream",
     "text": [
      "Saving model checkpoint to /kaggle/working/checkpoint-600\n",
      "Configuration saved in /kaggle/working/checkpoint-600/config.json\n",
      "Model weights saved in /kaggle/working/checkpoint-600/pytorch_model.bin\n",
      "Feature extractor saved in /kaggle/working/checkpoint-600/preprocessor_config.json\n",
      "Deleting older checkpoint [/kaggle/working/checkpoint-300] due to args.save_total_limit\n",
      "/opt/conda/lib/python3.7/site-packages/torch/nn/parallel/_functions.py:68: UserWarning: Was asked to gather along dimension 0, but all input tensors were scalars; will instead unsqueeze and return a vector.\n",
      "  warnings.warn('Was asked to gather along dimension 0, but all '\n",
      "The following columns in the evaluation set  don't have a corresponding argument in `Wav2Vec2ForCTC.forward` and have been ignored: phonetic, text, input_length, audio. If phonetic, text, input_length, audio are not expected by `Wav2Vec2ForCTC.forward`,  you can safely ignore this message.\n",
      "***** Running Evaluation *****\n",
      "  Num examples = 336\n",
      "  Batch size = 16\n"
     ]
    },
    {
     "name": "stdout",
     "output_type": "stream",
     "text": [
      "Predicted sample h#wihh#d yuwahlawh#aeh#k sahvaylahnh#t sh#\n",
      "GT sample h#wuhh#d yuwahlawaeh#k sahvaylihnh#sh#\n"
     ]
    },
    {
     "name": "stderr",
     "output_type": "stream",
     "text": [
      "Saving model checkpoint to /kaggle/working/checkpoint-700\n",
      "Configuration saved in /kaggle/working/checkpoint-700/config.json\n",
      "Model weights saved in /kaggle/working/checkpoint-700/pytorch_model.bin\n",
      "Feature extractor saved in /kaggle/working/checkpoint-700/preprocessor_config.json\n",
      "Deleting older checkpoint [/kaggle/working/checkpoint-400] due to args.save_total_limit\n",
      "/opt/conda/lib/python3.7/site-packages/torch/nn/parallel/_functions.py:68: UserWarning: Was asked to gather along dimension 0, but all input tensors were scalars; will instead unsqueeze and return a vector.\n",
      "  warnings.warn('Was asked to gather along dimension 0, but all '\n",
      "The following columns in the evaluation set  don't have a corresponding argument in `Wav2Vec2ForCTC.forward` and have been ignored: phonetic, text, input_length, audio. If phonetic, text, input_length, audio are not expected by `Wav2Vec2ForCTC.forward`,  you can safely ignore this message.\n",
      "***** Running Evaluation *****\n",
      "  Num examples = 336\n",
      "  Batch size = 16\n"
     ]
    },
    {
     "name": "stdout",
     "output_type": "stream",
     "text": [
      "Predicted sample h#wuhh#d yuwahlawh#aeh#k sahvaylahnh#t sh#\n",
      "GT sample h#wuhh#d yuwahlawaeh#k sahvaylihnh#sh#\n"
     ]
    },
    {
     "name": "stderr",
     "output_type": "stream",
     "text": [
      "Saving model checkpoint to /kaggle/working/checkpoint-800\n",
      "Configuration saved in /kaggle/working/checkpoint-800/config.json\n",
      "Model weights saved in /kaggle/working/checkpoint-800/pytorch_model.bin\n",
      "Feature extractor saved in /kaggle/working/checkpoint-800/preprocessor_config.json\n",
      "Deleting older checkpoint [/kaggle/working/checkpoint-500] due to args.save_total_limit\n",
      "/opt/conda/lib/python3.7/site-packages/torch/nn/parallel/_functions.py:68: UserWarning: Was asked to gather along dimension 0, but all input tensors were scalars; will instead unsqueeze and return a vector.\n",
      "  warnings.warn('Was asked to gather along dimension 0, but all '\n",
      "The following columns in the evaluation set  don't have a corresponding argument in `Wav2Vec2ForCTC.forward` and have been ignored: phonetic, text, input_length, audio. If phonetic, text, input_length, audio are not expected by `Wav2Vec2ForCTC.forward`,  you can safely ignore this message.\n",
      "***** Running Evaluation *****\n",
      "  Num examples = 336\n",
      "  Batch size = 16\n"
     ]
    },
    {
     "name": "stdout",
     "output_type": "stream",
     "text": [
      "Predicted sample h#wuhh#d yuwahlawh#aeh#k sahvaylahnh#t sh#\n",
      "GT sample h#wuhh#d yuwahlawaeh#k sahvaylihnh#sh#\n"
     ]
    },
    {
     "name": "stderr",
     "output_type": "stream",
     "text": [
      "Saving model checkpoint to /kaggle/working/checkpoint-900\n",
      "Configuration saved in /kaggle/working/checkpoint-900/config.json\n",
      "Model weights saved in /kaggle/working/checkpoint-900/pytorch_model.bin\n",
      "Feature extractor saved in /kaggle/working/checkpoint-900/preprocessor_config.json\n",
      "Deleting older checkpoint [/kaggle/working/checkpoint-600] due to args.save_total_limit\n",
      "/opt/conda/lib/python3.7/site-packages/torch/nn/parallel/_functions.py:68: UserWarning: Was asked to gather along dimension 0, but all input tensors were scalars; will instead unsqueeze and return a vector.\n",
      "  warnings.warn('Was asked to gather along dimension 0, but all '\n",
      "The following columns in the evaluation set  don't have a corresponding argument in `Wav2Vec2ForCTC.forward` and have been ignored: phonetic, text, input_length, audio. If phonetic, text, input_length, audio are not expected by `Wav2Vec2ForCTC.forward`,  you can safely ignore this message.\n",
      "***** Running Evaluation *****\n",
      "  Num examples = 336\n",
      "  Batch size = 16\n"
     ]
    },
    {
     "name": "stdout",
     "output_type": "stream",
     "text": [
      "Predicted sample h#wuhh#d yuwahlawh#aeh#k sahvaylahnh#t sh#\n",
      "GT sample h#wuhh#d yuwahlawaeh#k sahvaylihnh#sh#\n"
     ]
    },
    {
     "name": "stderr",
     "output_type": "stream",
     "text": [
      "Saving model checkpoint to /kaggle/working/checkpoint-1000\n",
      "Configuration saved in /kaggle/working/checkpoint-1000/config.json\n",
      "Model weights saved in /kaggle/working/checkpoint-1000/pytorch_model.bin\n",
      "Feature extractor saved in /kaggle/working/checkpoint-1000/preprocessor_config.json\n",
      "Deleting older checkpoint [/kaggle/working/checkpoint-700] due to args.save_total_limit\n",
      "/opt/conda/lib/python3.7/site-packages/torch/nn/parallel/_functions.py:68: UserWarning: Was asked to gather along dimension 0, but all input tensors were scalars; will instead unsqueeze and return a vector.\n",
      "  warnings.warn('Was asked to gather along dimension 0, but all '\n",
      "The following columns in the evaluation set  don't have a corresponding argument in `Wav2Vec2ForCTC.forward` and have been ignored: phonetic, text, input_length, audio. If phonetic, text, input_length, audio are not expected by `Wav2Vec2ForCTC.forward`,  you can safely ignore this message.\n",
      "***** Running Evaluation *****\n",
      "  Num examples = 336\n",
      "  Batch size = 16\n"
     ]
    },
    {
     "name": "stdout",
     "output_type": "stream",
     "text": [
      "Predicted sample h#wuhh#d yuwahlawaeh#k sahvaylahnh#t sh#\n",
      "GT sample h#wuhh#d yuwahlawaeh#k sahvaylihnh#sh#\n"
     ]
    },
    {
     "name": "stderr",
     "output_type": "stream",
     "text": [
      "Saving model checkpoint to /kaggle/working/checkpoint-1100\n",
      "Configuration saved in /kaggle/working/checkpoint-1100/config.json\n",
      "Model weights saved in /kaggle/working/checkpoint-1100/pytorch_model.bin\n",
      "Feature extractor saved in /kaggle/working/checkpoint-1100/preprocessor_config.json\n",
      "Deleting older checkpoint [/kaggle/working/checkpoint-800] due to args.save_total_limit\n",
      "/opt/conda/lib/python3.7/site-packages/torch/nn/parallel/_functions.py:68: UserWarning: Was asked to gather along dimension 0, but all input tensors were scalars; will instead unsqueeze and return a vector.\n",
      "  warnings.warn('Was asked to gather along dimension 0, but all '\n",
      "The following columns in the evaluation set  don't have a corresponding argument in `Wav2Vec2ForCTC.forward` and have been ignored: phonetic, text, input_length, audio. If phonetic, text, input_length, audio are not expected by `Wav2Vec2ForCTC.forward`,  you can safely ignore this message.\n",
      "***** Running Evaluation *****\n",
      "  Num examples = 336\n",
      "  Batch size = 16\n"
     ]
    },
    {
     "name": "stdout",
     "output_type": "stream",
     "text": [
      "Predicted sample h#wuhh#d yuwahlawaeh#k sahvaylahnh#t sh#h#\n",
      "GT sample h#wuhh#d yuwahlawaeh#k sahvaylihnh#sh#\n"
     ]
    },
    {
     "name": "stderr",
     "output_type": "stream",
     "text": [
      "Saving model checkpoint to /kaggle/working/checkpoint-1200\n",
      "Configuration saved in /kaggle/working/checkpoint-1200/config.json\n",
      "Model weights saved in /kaggle/working/checkpoint-1200/pytorch_model.bin\n",
      "Feature extractor saved in /kaggle/working/checkpoint-1200/preprocessor_config.json\n",
      "Deleting older checkpoint [/kaggle/working/checkpoint-900] due to args.save_total_limit\n",
      "/opt/conda/lib/python3.7/site-packages/torch/nn/parallel/_functions.py:68: UserWarning: Was asked to gather along dimension 0, but all input tensors were scalars; will instead unsqueeze and return a vector.\n",
      "  warnings.warn('Was asked to gather along dimension 0, but all '\n",
      "The following columns in the evaluation set  don't have a corresponding argument in `Wav2Vec2ForCTC.forward` and have been ignored: phonetic, text, input_length, audio. If phonetic, text, input_length, audio are not expected by `Wav2Vec2ForCTC.forward`,  you can safely ignore this message.\n",
      "***** Running Evaluation *****\n",
      "  Num examples = 336\n",
      "  Batch size = 16\n"
     ]
    },
    {
     "name": "stdout",
     "output_type": "stream",
     "text": [
      "Predicted sample h#wuhh#d yuwahlawh#aeh#k sahvaylahnh#t sh#\n",
      "GT sample h#wuhh#d yuwahlawaeh#k sahvaylihnh#sh#\n"
     ]
    },
    {
     "name": "stderr",
     "output_type": "stream",
     "text": [
      "Saving model checkpoint to /kaggle/working/checkpoint-1300\n",
      "Configuration saved in /kaggle/working/checkpoint-1300/config.json\n",
      "Model weights saved in /kaggle/working/checkpoint-1300/pytorch_model.bin\n",
      "Feature extractor saved in /kaggle/working/checkpoint-1300/preprocessor_config.json\n",
      "Deleting older checkpoint [/kaggle/working/checkpoint-1000] due to args.save_total_limit\n",
      "/opt/conda/lib/python3.7/site-packages/torch/nn/parallel/_functions.py:68: UserWarning: Was asked to gather along dimension 0, but all input tensors were scalars; will instead unsqueeze and return a vector.\n",
      "  warnings.warn('Was asked to gather along dimension 0, but all '\n",
      "The following columns in the evaluation set  don't have a corresponding argument in `Wav2Vec2ForCTC.forward` and have been ignored: phonetic, text, input_length, audio. If phonetic, text, input_length, audio are not expected by `Wav2Vec2ForCTC.forward`,  you can safely ignore this message.\n",
      "***** Running Evaluation *****\n",
      "  Num examples = 336\n",
      "  Batch size = 16\n"
     ]
    },
    {
     "name": "stdout",
     "output_type": "stream",
     "text": [
      "Predicted sample h#wuhh#d yuwahlawaeh#k sahvaylahnh#t sh#\n",
      "GT sample h#wuhh#d yuwahlawaeh#k sahvaylihnh#sh#\n"
     ]
    },
    {
     "name": "stderr",
     "output_type": "stream",
     "text": [
      "Saving model checkpoint to /kaggle/working/checkpoint-1400\n",
      "Configuration saved in /kaggle/working/checkpoint-1400/config.json\n",
      "Model weights saved in /kaggle/working/checkpoint-1400/pytorch_model.bin\n",
      "Feature extractor saved in /kaggle/working/checkpoint-1400/preprocessor_config.json\n",
      "Deleting older checkpoint [/kaggle/working/checkpoint-1100] due to args.save_total_limit\n",
      "/opt/conda/lib/python3.7/site-packages/torch/nn/parallel/_functions.py:68: UserWarning: Was asked to gather along dimension 0, but all input tensors were scalars; will instead unsqueeze and return a vector.\n",
      "  warnings.warn('Was asked to gather along dimension 0, but all '\n",
      "The following columns in the evaluation set  don't have a corresponding argument in `Wav2Vec2ForCTC.forward` and have been ignored: phonetic, text, input_length, audio. If phonetic, text, input_length, audio are not expected by `Wav2Vec2ForCTC.forward`,  you can safely ignore this message.\n",
      "***** Running Evaluation *****\n",
      "  Num examples = 336\n",
      "  Batch size = 16\n"
     ]
    },
    {
     "name": "stdout",
     "output_type": "stream",
     "text": [
      "Predicted sample h#wuhh#d yuwahlawaeh#k sahvaylahnh#t sh#h#\n",
      "GT sample h#wuhh#d yuwahlawaeh#k sahvaylihnh#sh#\n"
     ]
    },
    {
     "name": "stderr",
     "output_type": "stream",
     "text": [
      "Saving model checkpoint to /kaggle/working/checkpoint-1500\n",
      "Configuration saved in /kaggle/working/checkpoint-1500/config.json\n",
      "Model weights saved in /kaggle/working/checkpoint-1500/pytorch_model.bin\n",
      "Feature extractor saved in /kaggle/working/checkpoint-1500/preprocessor_config.json\n",
      "Deleting older checkpoint [/kaggle/working/checkpoint-1200] due to args.save_total_limit\n",
      "/opt/conda/lib/python3.7/site-packages/torch/nn/parallel/_functions.py:68: UserWarning: Was asked to gather along dimension 0, but all input tensors were scalars; will instead unsqueeze and return a vector.\n",
      "  warnings.warn('Was asked to gather along dimension 0, but all '\n",
      "The following columns in the evaluation set  don't have a corresponding argument in `Wav2Vec2ForCTC.forward` and have been ignored: phonetic, text, input_length, audio. If phonetic, text, input_length, audio are not expected by `Wav2Vec2ForCTC.forward`,  you can safely ignore this message.\n",
      "***** Running Evaluation *****\n",
      "  Num examples = 336\n",
      "  Batch size = 16\n"
     ]
    },
    {
     "name": "stdout",
     "output_type": "stream",
     "text": [
      "Predicted sample h#wuhh#d yuwahlawaeh#k sahvaylahnh#t sh#h#\n",
      "GT sample h#wuhh#d yuwahlawaeh#k sahvaylihnh#sh#\n"
     ]
    },
    {
     "name": "stderr",
     "output_type": "stream",
     "text": [
      "Saving model checkpoint to /kaggle/working/checkpoint-1600\n",
      "Configuration saved in /kaggle/working/checkpoint-1600/config.json\n",
      "Model weights saved in /kaggle/working/checkpoint-1600/pytorch_model.bin\n",
      "Feature extractor saved in /kaggle/working/checkpoint-1600/preprocessor_config.json\n",
      "Deleting older checkpoint [/kaggle/working/checkpoint-1300] due to args.save_total_limit\n",
      "/opt/conda/lib/python3.7/site-packages/torch/nn/parallel/_functions.py:68: UserWarning: Was asked to gather along dimension 0, but all input tensors were scalars; will instead unsqueeze and return a vector.\n",
      "  warnings.warn('Was asked to gather along dimension 0, but all '\n",
      "The following columns in the evaluation set  don't have a corresponding argument in `Wav2Vec2ForCTC.forward` and have been ignored: phonetic, text, input_length, audio. If phonetic, text, input_length, audio are not expected by `Wav2Vec2ForCTC.forward`,  you can safely ignore this message.\n",
      "***** Running Evaluation *****\n",
      "  Num examples = 336\n",
      "  Batch size = 16\n"
     ]
    },
    {
     "name": "stdout",
     "output_type": "stream",
     "text": [
      "Predicted sample h#wuhh#d yuwahlawaeh#k sahvaylahnh#t sh#h#\n",
      "GT sample h#wuhh#d yuwahlawaeh#k sahvaylihnh#sh#\n"
     ]
    },
    {
     "name": "stderr",
     "output_type": "stream",
     "text": [
      "Saving model checkpoint to /kaggle/working/checkpoint-1700\n",
      "Configuration saved in /kaggle/working/checkpoint-1700/config.json\n",
      "Model weights saved in /kaggle/working/checkpoint-1700/pytorch_model.bin\n",
      "Feature extractor saved in /kaggle/working/checkpoint-1700/preprocessor_config.json\n",
      "Deleting older checkpoint [/kaggle/working/checkpoint-1500] due to args.save_total_limit\n",
      "/opt/conda/lib/python3.7/site-packages/torch/nn/parallel/_functions.py:68: UserWarning: Was asked to gather along dimension 0, but all input tensors were scalars; will instead unsqueeze and return a vector.\n",
      "  warnings.warn('Was asked to gather along dimension 0, but all '\n",
      "The following columns in the evaluation set  don't have a corresponding argument in `Wav2Vec2ForCTC.forward` and have been ignored: phonetic, text, input_length, audio. If phonetic, text, input_length, audio are not expected by `Wav2Vec2ForCTC.forward`,  you can safely ignore this message.\n",
      "***** Running Evaluation *****\n",
      "  Num examples = 336\n",
      "  Batch size = 16\n"
     ]
    },
    {
     "name": "stdout",
     "output_type": "stream",
     "text": [
      "Predicted sample h#wuhh#d yuwahlawaeh#k sahvaylahnh#t sh#h#\n",
      "GT sample h#wuhh#d yuwahlawaeh#k sahvaylihnh#sh#\n"
     ]
    },
    {
     "name": "stderr",
     "output_type": "stream",
     "text": [
      "Saving model checkpoint to /kaggle/working/checkpoint-1800\n",
      "Configuration saved in /kaggle/working/checkpoint-1800/config.json\n",
      "Model weights saved in /kaggle/working/checkpoint-1800/pytorch_model.bin\n",
      "Feature extractor saved in /kaggle/working/checkpoint-1800/preprocessor_config.json\n",
      "Deleting older checkpoint [/kaggle/working/checkpoint-1600] due to args.save_total_limit\n",
      "/opt/conda/lib/python3.7/site-packages/torch/nn/parallel/_functions.py:68: UserWarning: Was asked to gather along dimension 0, but all input tensors were scalars; will instead unsqueeze and return a vector.\n",
      "  warnings.warn('Was asked to gather along dimension 0, but all '\n",
      "The following columns in the evaluation set  don't have a corresponding argument in `Wav2Vec2ForCTC.forward` and have been ignored: phonetic, text, input_length, audio. If phonetic, text, input_length, audio are not expected by `Wav2Vec2ForCTC.forward`,  you can safely ignore this message.\n",
      "***** Running Evaluation *****\n",
      "  Num examples = 336\n",
      "  Batch size = 16\n"
     ]
    },
    {
     "name": "stdout",
     "output_type": "stream",
     "text": [
      "Predicted sample h#wuhh#d yuwahlawaeh#k sahvaylahnh#t sh#h#\n",
      "GT sample h#wuhh#d yuwahlawaeh#k sahvaylihnh#sh#\n"
     ]
    },
    {
     "name": "stderr",
     "output_type": "stream",
     "text": [
      "Saving model checkpoint to /kaggle/working/checkpoint-1900\n",
      "Configuration saved in /kaggle/working/checkpoint-1900/config.json\n",
      "Model weights saved in /kaggle/working/checkpoint-1900/pytorch_model.bin\n",
      "Feature extractor saved in /kaggle/working/checkpoint-1900/preprocessor_config.json\n",
      "Deleting older checkpoint [/kaggle/working/checkpoint-1700] due to args.save_total_limit\n",
      "/opt/conda/lib/python3.7/site-packages/torch/nn/parallel/_functions.py:68: UserWarning: Was asked to gather along dimension 0, but all input tensors were scalars; will instead unsqueeze and return a vector.\n",
      "  warnings.warn('Was asked to gather along dimension 0, but all '\n",
      "The following columns in the evaluation set  don't have a corresponding argument in `Wav2Vec2ForCTC.forward` and have been ignored: phonetic, text, input_length, audio. If phonetic, text, input_length, audio are not expected by `Wav2Vec2ForCTC.forward`,  you can safely ignore this message.\n",
      "***** Running Evaluation *****\n",
      "  Num examples = 336\n",
      "  Batch size = 16\n"
     ]
    },
    {
     "name": "stdout",
     "output_type": "stream",
     "text": [
      "Predicted sample h#wuhh#d yuwahlawaeh#k sahvaylahnh#t sh#h#\n",
      "GT sample h#wuhh#d yuwahlawaeh#k sahvaylihnh#sh#\n"
     ]
    },
    {
     "name": "stderr",
     "output_type": "stream",
     "text": [
      "Saving model checkpoint to /kaggle/working/checkpoint-2000\n",
      "Configuration saved in /kaggle/working/checkpoint-2000/config.json\n",
      "Model weights saved in /kaggle/working/checkpoint-2000/pytorch_model.bin\n",
      "Feature extractor saved in /kaggle/working/checkpoint-2000/preprocessor_config.json\n",
      "Deleting older checkpoint [/kaggle/working/checkpoint-1800] due to args.save_total_limit\n",
      "\n",
      "\n",
      "Training completed. Do not forget to share your model on huggingface.co/models =)\n",
      "\n",
      "\n",
      "Loading best model from /kaggle/working/checkpoint-1400 (score: 0.32281526923179626).\n"
     ]
    },
    {
     "data": {
      "text/plain": [
       "TrainOutput(global_step=2000, training_loss=0.8625827150344849, metrics={'train_runtime': 16907.1921, 'train_samples_per_second': 3.785, 'train_steps_per_second': 0.118, 'total_flos': 6.263664947469473e+18, 'train_loss': 0.8625827150344849, 'epoch': 23.81})"
      ]
     },
     "execution_count": 46,
     "metadata": {},
     "output_type": "execute_result"
    }
   ],
   "source": [
    "os.environ[\"WANDB_DISABLED\"] = \"true\"\n",
    "trainer.train()"
   ]
  },
  {
   "cell_type": "markdown",
   "id": "90ec49ac",
   "metadata": {
    "papermill": {
     "duration": 0.132966,
     "end_time": "2025-04-10T20:28:19.601554",
     "exception": false,
     "start_time": "2025-04-10T20:28:19.468588",
     "status": "completed"
    },
    "tags": []
   },
   "source": [
    "## Evaluate on Test Set"
   ]
  },
  {
   "cell_type": "code",
   "execution_count": 47,
   "id": "c5668533",
   "metadata": {
    "execution": {
     "iopub.execute_input": "2025-04-10T20:28:19.875892Z",
     "iopub.status.busy": "2025-04-10T20:28:19.871744Z",
     "iopub.status.idle": "2025-04-10T20:28:33.057518Z",
     "shell.execute_reply": "2025-04-10T20:28:33.056838Z"
    },
    "papermill": {
     "duration": 13.330873,
     "end_time": "2025-04-10T20:28:33.059099",
     "exception": false,
     "start_time": "2025-04-10T20:28:19.728226",
     "status": "completed"
    },
    "tags": []
   },
   "outputs": [
    {
     "name": "stderr",
     "output_type": "stream",
     "text": [
      "The following columns in the evaluation set  don't have a corresponding argument in `Wav2Vec2ForCTC.forward` and have been ignored: phonetic, text, input_length, audio. If phonetic, text, input_length, audio are not expected by `Wav2Vec2ForCTC.forward`,  you can safely ignore this message.\n",
      "***** Running Evaluation *****\n",
      "  Num examples = 336\n",
      "  Batch size = 16\n",
      "/opt/conda/lib/python3.7/site-packages/torch/nn/parallel/_functions.py:68: UserWarning: Was asked to gather along dimension 0, but all input tensors were scalars; will instead unsqueeze and return a vector.\n",
      "  warnings.warn('Was asked to gather along dimension 0, but all '\n"
     ]
    },
    {
     "data": {
      "text/html": [
       "\n",
       "    <div>\n",
       "      \n",
       "      <progress value='189' max='21' style='width:300px; height:20px; vertical-align: middle;'></progress>\n",
       "      [21/21 01:55]\n",
       "    </div>\n",
       "    "
      ],
      "text/plain": [
       "<IPython.core.display.HTML object>"
      ]
     },
     "metadata": {},
     "output_type": "display_data"
    },
    {
     "name": "stdout",
     "output_type": "stream",
     "text": [
      "Predicted sample h#tehn yiherzihh#gowdheyh#b luwahh#p sahnah vaarh#dihh#chihsh#\n",
      "GT sample h#tehn yihr zihh#gowdheyh#b luwahh#p sahmahvaarh#dihh#chihsh#\n"
     ]
    },
    {
     "data": {
      "text/plain": [
       "{'eval_loss': 0.3380519449710846,\n",
       " 'eval_cer': 0.08458352508053382,\n",
       " 'eval_runtime': 13.1671,\n",
       " 'eval_samples_per_second': 25.518,\n",
       " 'eval_steps_per_second': 1.595,\n",
       " 'epoch': 23.81}"
      ]
     },
     "execution_count": 47,
     "metadata": {},
     "output_type": "execute_result"
    }
   ],
   "source": [
    "trainer.evaluate(test_dataset)"
   ]
  },
  {
   "cell_type": "code",
   "execution_count": 48,
   "id": "af45fdb9",
   "metadata": {
    "execution": {
     "iopub.execute_input": "2025-04-10T20:28:33.316332Z",
     "iopub.status.busy": "2025-04-10T20:28:33.315865Z",
     "iopub.status.idle": "2025-04-10T20:30:17.455891Z",
     "shell.execute_reply": "2025-04-10T20:30:17.455235Z"
    },
    "papermill": {
     "duration": 104.26814,
     "end_time": "2025-04-10T20:30:17.457632",
     "exception": false,
     "start_time": "2025-04-10T20:28:33.189492",
     "status": "completed"
    },
    "tags": []
   },
   "outputs": [
    {
     "name": "stderr",
     "output_type": "stream",
     "text": [
      "The following columns in the evaluation set  don't have a corresponding argument in `Wav2Vec2ForCTC.forward` and have been ignored: phonetic, text, input_length, audio. If phonetic, text, input_length, audio are not expected by `Wav2Vec2ForCTC.forward`,  you can safely ignore this message.\n",
      "***** Running Evaluation *****\n",
      "  Num examples = 2688\n",
      "  Batch size = 16\n"
     ]
    },
    {
     "name": "stdout",
     "output_type": "stream",
     "text": [
      "Predicted sample h#shiyhhaeh#d yerh#daarh#k suwh#ihnh#g riyziywaashh#waadxerh#aal yiherh#\n",
      "GT sample h#shiyhhaeh#d yerh#daarh#k suwh#ihnh#g riyziywaashh#waadxerh#aal yiherh#\n"
     ]
    },
    {
     "data": {
      "text/plain": [
       "{'eval_loss': 0.12003766745328903,\n",
       " 'eval_cer': 0.03579557210842127,\n",
       " 'eval_runtime': 104.1209,\n",
       " 'eval_samples_per_second': 25.816,\n",
       " 'eval_steps_per_second': 1.614,\n",
       " 'epoch': 23.81}"
      ]
     },
     "execution_count": 48,
     "metadata": {},
     "output_type": "execute_result"
    }
   ],
   "source": [
    "trainer.evaluate(train_dataset)"
   ]
  },
  {
   "cell_type": "markdown",
   "id": "51764aab",
   "metadata": {
    "papermill": {
     "duration": 0.126387,
     "end_time": "2025-04-10T20:30:17.709117",
     "exception": false,
     "start_time": "2025-04-10T20:30:17.582730",
     "status": "completed"
    },
    "tags": []
   },
   "source": [
    "## Save Model"
   ]
  },
  {
   "cell_type": "code",
   "execution_count": 49,
   "id": "ca531a35",
   "metadata": {
    "execution": {
     "iopub.execute_input": "2025-04-10T20:30:17.959304Z",
     "iopub.status.busy": "2025-04-10T20:30:17.958980Z",
     "iopub.status.idle": "2025-04-10T20:30:19.743664Z",
     "shell.execute_reply": "2025-04-10T20:30:19.743070Z"
    },
    "papermill": {
     "duration": 1.911341,
     "end_time": "2025-04-10T20:30:19.745281",
     "exception": false,
     "start_time": "2025-04-10T20:30:17.833940",
     "status": "completed"
    },
    "tags": []
   },
   "outputs": [
    {
     "name": "stderr",
     "output_type": "stream",
     "text": [
      "Saving model checkpoint to /kaggle/working/phoneme_recognition\n",
      "Configuration saved in /kaggle/working/phoneme_recognition/config.json\n",
      "Model weights saved in /kaggle/working/phoneme_recognition/pytorch_model.bin\n",
      "Feature extractor saved in /kaggle/working/phoneme_recognition/preprocessor_config.json\n"
     ]
    }
   ],
   "source": [
    "# save locally\n",
    "# trainer.save_model()\n",
    "trainer.save_model(\"/kaggle/working/phoneme_recognition\")\n"
   ]
  },
  {
   "cell_type": "code",
   "execution_count": 50,
   "id": "964b8f5b",
   "metadata": {
    "execution": {
     "iopub.execute_input": "2025-04-10T20:30:20.000513Z",
     "iopub.status.busy": "2025-04-10T20:30:19.999941Z",
     "iopub.status.idle": "2025-04-10T20:31:28.216304Z",
     "shell.execute_reply": "2025-04-10T20:31:28.215427Z"
    },
    "papermill": {
     "duration": 68.372386,
     "end_time": "2025-04-10T20:31:28.243992",
     "exception": false,
     "start_time": "2025-04-10T20:30:19.871606",
     "status": "completed"
    },
    "tags": []
   },
   "outputs": [
    {
     "name": "stdout",
     "output_type": "stream",
     "text": [
      "  adding: kaggle/working/phoneme_recognition/ (stored 0%)\r\n",
      "  adding: kaggle/working/phoneme_recognition/config.json (deflated 64%)\r\n",
      "  adding: kaggle/working/phoneme_recognition/pytorch_model.bin (deflated 8%)\r\n",
      "  adding: kaggle/working/phoneme_recognition/preprocessor_config.json (deflated 35%)\r\n",
      "  adding: kaggle/working/phoneme_recognition/training_args.bin (deflated 48%)\r\n"
     ]
    }
   ],
   "source": [
    "!zip -r /kaggle/working/phoneme_recognition.zip /kaggle/working/phoneme_recognition\n"
   ]
  },
  {
   "cell_type": "code",
   "execution_count": 51,
   "id": "23a58e2e",
   "metadata": {
    "execution": {
     "iopub.execute_input": "2025-04-10T20:31:28.499239Z",
     "iopub.status.busy": "2025-04-10T20:31:28.498953Z",
     "iopub.status.idle": "2025-04-10T20:31:28.502402Z",
     "shell.execute_reply": "2025-04-10T20:31:28.501782Z"
    },
    "papermill": {
     "duration": 0.132445,
     "end_time": "2025-04-10T20:31:28.504002",
     "exception": false,
     "start_time": "2025-04-10T20:31:28.371557",
     "status": "completed"
    },
    "tags": []
   },
   "outputs": [],
   "source": [
    "# trainer.push_to_hub(repo_name=\"vitouphy/wav2vec2-xls-r-300m-phoneme\")"
   ]
  },
  {
   "cell_type": "code",
   "execution_count": 52,
   "id": "8093cd61",
   "metadata": {
    "execution": {
     "iopub.execute_input": "2025-04-10T20:31:28.770861Z",
     "iopub.status.busy": "2025-04-10T20:31:28.770633Z",
     "iopub.status.idle": "2025-04-10T20:31:28.773721Z",
     "shell.execute_reply": "2025-04-10T20:31:28.773062Z"
    },
    "papermill": {
     "duration": 0.140052,
     "end_time": "2025-04-10T20:31:28.775179",
     "exception": false,
     "start_time": "2025-04-10T20:31:28.635127",
     "status": "completed"
    },
    "tags": []
   },
   "outputs": [],
   "source": [
    "# tokenizer.push_to_hub('vitouphy/xls-r-300m-km')\n",
    "# model.push_to_hub(repo_path_or_name='vitouphy/wav2vec2-xls-r-300m-phoneme')"
   ]
  },
  {
   "cell_type": "markdown",
   "id": "d598363f",
   "metadata": {
    "papermill": {
     "duration": 0.126116,
     "end_time": "2025-04-10T20:31:29.027262",
     "exception": false,
     "start_time": "2025-04-10T20:31:28.901146",
     "status": "completed"
    },
    "tags": []
   },
   "source": [
    "# Error Analysis"
   ]
  },
  {
   "cell_type": "markdown",
   "id": "5f97d7f4",
   "metadata": {
    "papermill": {
     "duration": 0.126629,
     "end_time": "2025-04-10T20:31:29.281986",
     "exception": false,
     "start_time": "2025-04-10T20:31:29.155357",
     "status": "completed"
    },
    "tags": []
   },
   "source": [
    "## Closer Look at Test Set\n",
    "Let's run the prediction on the test one more time."
   ]
  },
  {
   "cell_type": "code",
   "execution_count": 53,
   "id": "7804bcf7",
   "metadata": {
    "execution": {
     "iopub.execute_input": "2025-04-10T20:31:29.534692Z",
     "iopub.status.busy": "2025-04-10T20:31:29.534040Z",
     "iopub.status.idle": "2025-04-10T20:31:29.571738Z",
     "shell.execute_reply": "2025-04-10T20:31:29.571246Z"
    },
    "papermill": {
     "duration": 0.165989,
     "end_time": "2025-04-10T20:31:29.573258",
     "exception": false,
     "start_time": "2025-04-10T20:31:29.407269",
     "status": "completed"
    },
    "tags": []
   },
   "outputs": [],
   "source": [
    "import Levenshtein\n",
    "from typing import Tuple"
   ]
  },
  {
   "cell_type": "code",
   "execution_count": 54,
   "id": "22542bd3",
   "metadata": {
    "execution": {
     "iopub.execute_input": "2025-04-10T20:31:29.828389Z",
     "iopub.status.busy": "2025-04-10T20:31:29.828130Z",
     "iopub.status.idle": "2025-04-10T20:31:29.837909Z",
     "shell.execute_reply": "2025-04-10T20:31:29.837363Z"
    },
    "papermill": {
     "duration": 0.138156,
     "end_time": "2025-04-10T20:31:29.839423",
     "exception": false,
     "start_time": "2025-04-10T20:31:29.701267",
     "status": "completed"
    },
    "tags": []
   },
   "outputs": [],
   "source": [
    "PAD_ID = tokenizer.encode(\"[PAD]\")[0]\n",
    "EMPTY_ID = tokenizer.encode(\" \")[0]\n",
    "\n",
    "def collapse_tokens(tokens: List[Union[str, int]]) -> List[Union[str, int]]:\n",
    "    prev_token = None\n",
    "    out = []\n",
    "    for token in tokens:\n",
    "        if token != prev_token and prev_token is not None:\n",
    "            out.append(prev_token)\n",
    "        prev_token = token\n",
    "    return out\n",
    "\n",
    "def clean_token_ids(token_ids: List[int]) -> List[int]:\n",
    "    \"\"\"\n",
    "    Remove [PAD] and collapse duplicated token_ids\n",
    "    \"\"\"\n",
    "    token_ids = [x for x in token_ids if x not in [PAD_ID, EMPTY_ID]]\n",
    "    token_ids = collapse_tokens(token_ids)\n",
    "    return token_ids\n",
    "\n",
    "def decode_operations(predicted_chr: str, label_chr: str, editops: List[Tuple[str, int, int]]) -> List[Tuple[str, str, str]]:\n",
    "    ops = []\n",
    "    for editop in editops:\n",
    "        op, pred_idx, label_idx = editop\n",
    "        \n",
    "        if op == \"insert\":\n",
    "            label_token = tokenizer.decode(ord(label_chr[label_idx]), group_tokens=False)\n",
    "            ops.append((op, label_token, label_token))\n",
    "        elif op == \"delete\":\n",
    "            pred_token = tokenizer.decode(ord(predicted_chr[pred_idx]), group_tokens=False)\n",
    "            ops.append((op, pred_token, pred_token))\n",
    "        else:\n",
    "            label_token = tokenizer.decode(ord(label_chr[label_idx]), group_tokens=False)\n",
    "            pred_token = tokenizer.decode(ord(predicted_chr[pred_idx]), group_tokens=False)\n",
    "            ops.append((op, pred_token, label_token))\n",
    "            \n",
    "    return ops"
   ]
  },
  {
   "cell_type": "code",
   "execution_count": 55,
   "id": "eca7aa54",
   "metadata": {
    "execution": {
     "iopub.execute_input": "2025-04-10T20:31:30.092894Z",
     "iopub.status.busy": "2025-04-10T20:31:30.092672Z",
     "iopub.status.idle": "2025-04-10T20:31:50.266605Z",
     "shell.execute_reply": "2025-04-10T20:31:50.265949Z"
    },
    "papermill": {
     "duration": 20.302185,
     "end_time": "2025-04-10T20:31:50.268406",
     "exception": false,
     "start_time": "2025-04-10T20:31:29.966221",
     "status": "completed"
    },
    "tags": []
   },
   "outputs": [
    {
     "data": {
      "application/vnd.jupyter.widget-view+json": {
       "model_id": "78c80face24a4d41a5df74a4cac19d9f",
       "version_major": 2,
       "version_minor": 0
      },
      "text/plain": [
       "  0%|          | 0/336 [00:00<?, ?it/s]"
      ]
     },
     "metadata": {},
     "output_type": "display_data"
    }
   ],
   "source": [
    "result = []\n",
    "for x in tqdm(test_dataset):\n",
    "    example_id = \"/\".join(x['audio']['path'].split('/')[5:])\n",
    "    input_values = torch.Tensor(x['input_values']).unsqueeze(0).to('cuda')\n",
    "    label_ids = torch.Tensor(x['labels']).unsqueeze(0).to('cuda')\n",
    "    \n",
    "    with torch.no_grad():\n",
    "        logits = model(input_values).logits\n",
    "        predicted_ids = torch.argmax(logits, dim=-1)\n",
    "        \n",
    "        # Convert ID to Char because Levenstein library operates on char level\n",
    "        predicted_ids = clean_token_ids(predicted_ids[0].tolist())\n",
    "        predicted_str = tokenizer.decode(predicted_ids, group_tokens=False)\n",
    "        predicted_chr = \"\".join([chr(x) for x in predicted_ids])\n",
    "        \n",
    "        label_ids = clean_token_ids(label_ids[0].int().tolist())\n",
    "        label_str = tokenizer.decode(label_ids, group_tokens=False)\n",
    "        label_chr = \"\".join([chr(x) for x in label_ids])\n",
    "        \n",
    "        # Compute CER (character-error rate). Each character is IPA character\n",
    "        cer_score = cer_metric.compute(predictions=[predicted_chr], references=[label_chr])\n",
    "\n",
    "        # Observe the operations like insertion, deletion and substitution\n",
    "        editops = Levenshtein.editops(predicted_chr, label_chr)\n",
    "        editops = decode_operations(predicted_chr, label_chr, editops)\n",
    "        \n",
    "        result.append((example_id, predicted_str, label_str, editops, cer_score))"
   ]
  },
  {
   "cell_type": "code",
   "execution_count": 56,
   "id": "6cfff597",
   "metadata": {
    "execution": {
     "iopub.execute_input": "2025-04-10T20:31:50.526632Z",
     "iopub.status.busy": "2025-04-10T20:31:50.526084Z",
     "iopub.status.idle": "2025-04-10T20:31:50.530690Z",
     "shell.execute_reply": "2025-04-10T20:31:50.529945Z"
    },
    "papermill": {
     "duration": 0.133899,
     "end_time": "2025-04-10T20:31:50.532226",
     "exception": false,
     "start_time": "2025-04-10T20:31:50.398327",
     "status": "completed"
    },
    "tags": []
   },
   "outputs": [
    {
     "name": "stdout",
     "output_type": "stream",
     "text": [
      "Avg CER score: 0.09959625838663687\n"
     ]
    }
   ],
   "source": [
    "# Recalculate CER store for Test Set\n",
    "total_cer = 0\n",
    "for entry in result:\n",
    "    total_cer += entry[-1]\n",
    "print(f\"Avg CER score: {total_cer / len(result)}\")"
   ]
  },
  {
   "cell_type": "markdown",
   "id": "78f5983c",
   "metadata": {
    "papermill": {
     "duration": 0.12967,
     "end_time": "2025-04-10T20:31:50.789112",
     "exception": false,
     "start_time": "2025-04-10T20:31:50.659442",
     "status": "completed"
    },
    "tags": []
   },
   "source": [
    "## Visualization Insertion/Deletion"
   ]
  },
  {
   "cell_type": "code",
   "execution_count": 57,
   "id": "53d3f344",
   "metadata": {
    "execution": {
     "iopub.execute_input": "2025-04-10T20:31:51.049739Z",
     "iopub.status.busy": "2025-04-10T20:31:51.049233Z",
     "iopub.status.idle": "2025-04-10T20:31:51.054075Z",
     "shell.execute_reply": "2025-04-10T20:31:51.053462Z"
    },
    "papermill": {
     "duration": 0.134659,
     "end_time": "2025-04-10T20:31:51.055701",
     "exception": false,
     "start_time": "2025-04-10T20:31:50.921042",
     "status": "completed"
    },
    "tags": []
   },
   "outputs": [
    {
     "data": {
      "text/plain": [
       "('TRAIN/DR3/MBEF0/SI1911.WAV',\n",
       " 'h#tehnyiherzihh#gowdheyh#bluwahh#psahnahvaarh#dihh#chihs',\n",
       " 'h#tehnyihrzihh#gowdheyh#bluwahh#psahmahvaarh#dihh#chihs',\n",
       " [('replace', 'er', 'r'), ('replace', 'n', 'm')],\n",
       " 0.06451612903225806)"
      ]
     },
     "execution_count": 57,
     "metadata": {},
     "output_type": "execute_result"
    }
   ],
   "source": [
    "result[0]"
   ]
  },
  {
   "cell_type": "code",
   "execution_count": 58,
   "id": "11a30c38",
   "metadata": {
    "execution": {
     "iopub.execute_input": "2025-04-10T20:31:51.311713Z",
     "iopub.status.busy": "2025-04-10T20:31:51.311071Z",
     "iopub.status.idle": "2025-04-10T20:31:51.316571Z",
     "shell.execute_reply": "2025-04-10T20:31:51.315751Z"
    },
    "papermill": {
     "duration": 0.13557,
     "end_time": "2025-04-10T20:31:51.318097",
     "exception": false,
     "start_time": "2025-04-10T20:31:51.182527",
     "status": "completed"
    },
    "tags": []
   },
   "outputs": [],
   "source": [
    "insertions = []\n",
    "deletions = []\n",
    "replaces = []\n",
    "\n",
    "for entry in result:\n",
    "    editops = entry[3]\n",
    "    for op, pred_token, label_token in editops:\n",
    "        if op == \"insert\":\n",
    "            insertions.append(label_token)\n",
    "        elif op == \"delete\":\n",
    "            deletions.append(pred_token)\n",
    "        else:\n",
    "            replaces.append((pred_token, label_token))"
   ]
  },
  {
   "cell_type": "code",
   "execution_count": 59,
   "id": "83fd0637",
   "metadata": {
    "execution": {
     "iopub.execute_input": "2025-04-10T20:31:51.574214Z",
     "iopub.status.busy": "2025-04-10T20:31:51.573955Z",
     "iopub.status.idle": "2025-04-10T20:31:51.578248Z",
     "shell.execute_reply": "2025-04-10T20:31:51.577608Z"
    },
    "papermill": {
     "duration": 0.134049,
     "end_time": "2025-04-10T20:31:51.579699",
     "exception": false,
     "start_time": "2025-04-10T20:31:51.445650",
     "status": "completed"
    },
    "tags": []
   },
   "outputs": [],
   "source": [
    "insert_freqs = {x: 0 for x in set(insertions)}\n",
    "for insert_token in insertions:\n",
    "    insert_freqs[insert_token] += 1\n",
    "    \n",
    "delete_freqs = {x: 0 for x in set(deletions)}\n",
    "for delete_token in deletions:\n",
    "    delete_freqs[delete_token] += 1"
   ]
  },
  {
   "cell_type": "code",
   "execution_count": 60,
   "id": "91e416f4",
   "metadata": {
    "execution": {
     "iopub.execute_input": "2025-04-10T20:31:51.835175Z",
     "iopub.status.busy": "2025-04-10T20:31:51.834960Z",
     "iopub.status.idle": "2025-04-10T20:31:52.379062Z",
     "shell.execute_reply": "2025-04-10T20:31:52.378252Z"
    },
    "papermill": {
     "duration": 0.673239,
     "end_time": "2025-04-10T20:31:52.380896",
     "exception": false,
     "start_time": "2025-04-10T20:31:51.707657",
     "status": "completed"
    },
    "tags": []
   },
   "outputs": [
    {
     "data": {
      "image/png": "[encoded data removed]",
      "text/plain": [
       "<Figure size 2160x360 with 2 Axes>"
      ]
     },
     "metadata": {
      "needs_background": "light"
     },
     "output_type": "display_data"
    }
   ],
   "source": [
    "plt.figure(figsize=(30,5))\n",
    "\n",
    "plt.subplot(1,3,1)\n",
    "plt.bar(insert_freqs.keys(), insert_freqs.values())\n",
    "plt.title('Insertion (Model is missing tokens)')\n",
    "\n",
    "plt.subplot(1,3,2)\n",
    "plt.bar(delete_freqs.keys(), delete_freqs.values())\n",
    "plt.title('Delete (Model adds extra tokens)')\n",
    "\n",
    "plt.show()"
   ]
  },
  {
   "cell_type": "markdown",
   "id": "c5a1011f",
   "metadata": {
    "papermill": {
     "duration": 0.130403,
     "end_time": "2025-04-10T20:31:52.656168",
     "exception": false,
     "start_time": "2025-04-10T20:31:52.525765",
     "status": "completed"
    },
    "tags": []
   },
   "source": [
    "The two figure aboves shows that:\n",
    "- Model are confused for tokens \"ah\", \"t\", \"ih\", \"h#\". The model either added those tokens when it's not needed or didn't add them where it's needed.\n",
    "- Model tends to add extra on \"r\", \"d\", \"k\" \"g\""
   ]
  },
  {
   "cell_type": "markdown",
   "id": "6bf9a347",
   "metadata": {
    "papermill": {
     "duration": 0.127499,
     "end_time": "2025-04-10T20:31:52.913550",
     "exception": false,
     "start_time": "2025-04-10T20:31:52.786051",
     "status": "completed"
    },
    "tags": []
   },
   "source": [
    "## Visualize With Substitution"
   ]
  },
  {
   "cell_type": "code",
   "execution_count": 61,
   "id": "1a05aca8",
   "metadata": {
    "execution": {
     "iopub.execute_input": "2025-04-10T20:31:53.172129Z",
     "iopub.status.busy": "2025-04-10T20:31:53.171882Z",
     "iopub.status.idle": "2025-04-10T20:31:53.176221Z",
     "shell.execute_reply": "2025-04-10T20:31:53.175526Z"
    },
    "papermill": {
     "duration": 0.13545,
     "end_time": "2025-04-10T20:31:53.177769",
     "exception": false,
     "start_time": "2025-04-10T20:31:53.042319",
     "status": "completed"
    },
    "tags": []
   },
   "outputs": [],
   "source": [
    "replace_freqs = {}\n",
    "for replace in replaces:\n",
    "    if replace not in replace_freqs:\n",
    "        replace_freqs[replace] = 0\n",
    "    replace_freqs[replace] += 1"
   ]
  },
  {
   "cell_type": "code",
   "execution_count": 62,
   "id": "e98efc88",
   "metadata": {
    "execution": {
     "iopub.execute_input": "2025-04-10T20:31:53.503237Z",
     "iopub.status.busy": "2025-04-10T20:31:53.502964Z",
     "iopub.status.idle": "2025-04-10T20:31:53.507111Z",
     "shell.execute_reply": "2025-04-10T20:31:53.506447Z"
    },
    "papermill": {
     "duration": 0.135283,
     "end_time": "2025-04-10T20:31:53.508759",
     "exception": false,
     "start_time": "2025-04-10T20:31:53.373476",
     "status": "completed"
    },
    "tags": []
   },
   "outputs": [],
   "source": [
    "sorted_replace_freqs = sorted(replace_freqs.items(), key=lambda x: x[-1], reverse=True)\n",
    "top_replace_freqs = list(filter(lambda x: x[-1] >= 5, sorted_replace_freqs))"
   ]
  },
  {
   "cell_type": "code",
   "execution_count": 63,
   "id": "1741ce42",
   "metadata": {
    "execution": {
     "iopub.execute_input": "2025-04-10T20:31:53.769514Z",
     "iopub.status.busy": "2025-04-10T20:31:53.769273Z",
     "iopub.status.idle": "2025-04-10T20:31:53.775571Z",
     "shell.execute_reply": "2025-04-10T20:31:53.774883Z"
    },
    "papermill": {
     "duration": 0.138561,
     "end_time": "2025-04-10T20:31:53.777183",
     "exception": false,
     "start_time": "2025-04-10T20:31:53.638622",
     "status": "completed"
    },
    "tags": []
   },
   "outputs": [
    {
     "data": {
      "text/plain": [
       "[(('ih', 'ah'), 68),\n",
       " (('ah', 'ih'), 58),\n",
       " (('iy', 'ih'), 45),\n",
       " (('ih', 'iy'), 28),\n",
       " (('ih', 'eh'), 19),\n",
       " (('eh', 'ih'), 17),\n",
       " (('s', 'z'), 16),\n",
       " (('r', 'er'), 14),\n",
       " (('aa', 'ah'), 13),\n",
       " (('z', 's'), 13),\n",
       " (('ae', 'eh'), 11),\n",
       " (('er', 'r'), 10),\n",
       " (('er', 'ah'), 10),\n",
       " (('aa', 'ay'), 9),\n",
       " (('er', 'ih'), 9),\n",
       " (('ah', 'eh'), 9),\n",
       " (('ng', 'n'), 7),\n",
       " (('ey', 'eh'), 6),\n",
       " (('ey', 'ih'), 6),\n",
       " (('dx', 'h#'), 6),\n",
       " (('d', 't'), 6),\n",
       " (('ih', 'ey'), 6),\n",
       " (('eh', 'ae'), 6),\n",
       " (('n', 'ng'), 6),\n",
       " (('t', 'd'), 5),\n",
       " (('ih', 'uw'), 5),\n",
       " (('dh', 'd'), 5),\n",
       " (('ay', 'aa'), 5),\n",
       " (('dx', 'd'), 5)]"
      ]
     },
     "execution_count": 63,
     "metadata": {},
     "output_type": "execute_result"
    }
   ],
   "source": [
    "top_replace_freqs"
   ]
  },
  {
   "cell_type": "code",
   "execution_count": 64,
   "id": "d5ae2024",
   "metadata": {
    "execution": {
     "iopub.execute_input": "2025-04-10T20:31:54.036549Z",
     "iopub.status.busy": "2025-04-10T20:31:54.036328Z",
     "iopub.status.idle": "2025-04-10T20:31:54.145156Z",
     "shell.execute_reply": "2025-04-10T20:31:54.144456Z"
    },
    "papermill": {
     "duration": 0.24016,
     "end_time": "2025-04-10T20:31:54.146990",
     "exception": false,
     "start_time": "2025-04-10T20:31:53.906830",
     "status": "completed"
    },
    "tags": []
   },
   "outputs": [],
   "source": [
    "import numpy as np\n",
    "import seaborn as sns\n",
    "import matplotlib.pylab as plt"
   ]
  },
  {
   "cell_type": "code",
   "execution_count": 65,
   "id": "02872729",
   "metadata": {
    "execution": {
     "iopub.execute_input": "2025-04-10T20:31:54.408926Z",
     "iopub.status.busy": "2025-04-10T20:31:54.408684Z",
     "iopub.status.idle": "2025-04-10T20:31:54.413601Z",
     "shell.execute_reply": "2025-04-10T20:31:54.412922Z"
    },
    "papermill": {
     "duration": 0.13798,
     "end_time": "2025-04-10T20:31:54.415093",
     "exception": false,
     "start_time": "2025-04-10T20:31:54.277113",
     "status": "completed"
    },
    "tags": []
   },
   "outputs": [],
   "source": [
    "src = set([src_token for (src_token, dst_token), freq in top_replace_freqs])\n",
    "dst = set([dst_token for (src_token, dst_token), freq in top_replace_freqs])\n",
    "\n",
    "src_indices = {x: i for i, x in enumerate(sorted(src))}\n",
    "dst_indices = {x: i for i, x in enumerate(sorted(dst))}"
   ]
  },
  {
   "cell_type": "code",
   "execution_count": 66,
   "id": "603b94db",
   "metadata": {
    "execution": {
     "iopub.execute_input": "2025-04-10T20:31:54.674440Z",
     "iopub.status.busy": "2025-04-10T20:31:54.674214Z",
     "iopub.status.idle": "2025-04-10T20:31:54.678367Z",
     "shell.execute_reply": "2025-04-10T20:31:54.677802Z"
    },
    "papermill": {
     "duration": 0.135328,
     "end_time": "2025-04-10T20:31:54.679799",
     "exception": false,
     "start_time": "2025-04-10T20:31:54.544471",
     "status": "completed"
    },
    "tags": []
   },
   "outputs": [],
   "source": [
    "matrix = [[0]*len(dst_indices) for _ in range(len(src_indices))]\n",
    "\n",
    "for (src_token, dst_token), freq in top_replace_freqs:\n",
    "    src_idx = src_indices[src_token]\n",
    "    dst_idx = dst_indices[dst_token]\n",
    "    matrix[src_idx][dst_idx] = freq"
   ]
  },
  {
   "cell_type": "code",
   "execution_count": 67,
   "id": "2b036bb4",
   "metadata": {
    "execution": {
     "iopub.execute_input": "2025-04-10T20:31:54.940426Z",
     "iopub.status.busy": "2025-04-10T20:31:54.939927Z",
     "iopub.status.idle": "2025-04-10T20:31:56.059034Z",
     "shell.execute_reply": "2025-04-10T20:31:56.058347Z"
    },
    "papermill": {
     "duration": 1.251221,
     "end_time": "2025-04-10T20:31:56.060858",
     "exception": false,
     "start_time": "2025-04-10T20:31:54.809637",
     "status": "completed"
    },
    "tags": []
   },
   "outputs": [
    {
     "data": {
      "image/png": "[encoded data removed]",
      "text/plain": [
       "<Figure size 1440x720 with 2 Axes>"
      ]
     },
     "metadata": {
      "needs_background": "light"
     },
     "output_type": "display_data"
    }
   ],
   "source": [
    "plt.figure(figsize=(20,10))\n",
    "ax = sns.heatmap(matrix, linewidth=0.5, xticklabels=sorted(dst), yticklabels=sorted(src), cmap=sns.color_palette(\"ch:s=-.2,r=.6\", as_cmap=True), annot=True, robust=True)\n",
    "plt.title(\"Confusion Matrix. Row is where model's output (which is wrong). Column is what the token is supposed to be.\")\n",
    "plt.show()"
   ]
  },
  {
   "cell_type": "markdown",
   "id": "54c79095",
   "metadata": {
    "papermill": {
     "duration": 0.130233,
     "end_time": "2025-04-10T20:31:56.321752",
     "exception": false,
     "start_time": "2025-04-10T20:31:56.191519",
     "status": "completed"
    },
    "tags": []
   },
   "source": [
    "The figure above illustrates the confusion matrix (partial). Here we can understand better how the model focuses between tokens.\n",
    "- Model tends to confuse between \n",
    "  - \"ih\" <-> \"ah\"\n",
    "  - \"ih\" <-> \"eh\"\n",
    "  - \"ih\" <-> \"iy\"\n",
    "- Model tends to output:\n",
    "  - \"aa\" instead of \"ah\"\n",
    "  - \"ae\" instead of \"eh\"\n",
    "  - \"er\" instead of \"ah\"\n",
    "  - \"r\" instead of \"er\"\n"
   ]
  },
  {
   "cell_type": "code",
   "execution_count": null,
   "id": "17600a6d",
   "metadata": {
    "papermill": {
     "duration": 0.129501,
     "end_time": "2025-04-10T20:31:56.580345",
     "exception": false,
     "start_time": "2025-04-10T20:31:56.450844",
     "status": "completed"
    },
    "tags": []
   },
   "outputs": [],
   "source": []
  }
 ],
 "metadata": {
  "kaggle": {
   "accelerator": "nvidiaTeslaT4",
   "dataSources": [
    {
     "datasetId": 212391,
     "sourceId": 471627,
     "sourceType": "datasetVersion"
    },
    {
     "datasetId": 7104770,
     "sourceId": 11353527,
     "sourceType": "datasetVersion"
    }
   ],
   "dockerImageVersionId": 30192,
   "isGpuEnabled": true,
   "isInternetEnabled": true,
   "language": "python",
   "sourceType": "notebook"
  },
  "kernelspec": {
   "display_name": "Python 3",
   "language": "python",
   "name": "python3"
  },
  "language_info": {
   "codemirror_mode": {
    "name": "ipython",
    "version": 3
   },
   "file_extension": ".py",
   "mimetype": "text/x-python",
   "name": "python",
   "nbconvert_exporter": "python",
   "pygments_lexer": "ipython3",
   "version": "3.7.12"
  },
  "papermill": {
   "default_parameters": {},
   "duration": 17529.988982,
   "end_time": "2025-04-10T20:32:00.795305",
   "environment_variables": {},
   "exception": null,
   "input_path": "__notebook__.ipynb",
   "output_path": "__notebook__.ipynb",
   "parameters": {},
   "start_time": "2025-04-10T15:39:50.806323",
   "version": "2.3.4"
  },
  "widgets": {
   "application/vnd.jupyter.widget-state+json": {
    "state": {
     "002311ccd02e4bcc97a4a73460d0a6c0": {
      "model_module": "@jupyter-widgets/controls",
      "model_module_version": "1.5.0",
      "model_name": "DescriptionStyleModel",
      "state": {
       "_model_module": "@jupyter-widgets/controls",
       "_model_module_version": "1.5.0",
       "_model_name": "DescriptionStyleModel",
       "_view_count": null,
       "_view_module": "@jupyter-widgets/base",
       "_view_module_version": "1.2.0",
       "_view_name": "StyleView",
       "description_width": ""
      }
     },
     "03d37a03ed214ed18dcc6bbba1351b82": {
      "model_module": "@jupyter-widgets/controls",
      "model_module_version": "1.5.0",
      "model_name": "ProgressStyleModel",
      "state": {
       "_model_module": "@jupyter-widgets/controls",
       "_model_module_version": "1.5.0",
       "_model_name": "ProgressStyleModel",
       "_view_count": null,
       "_view_module": "@jupyter-widgets/base",
       "_view_module_version": "1.2.0",
       "_view_name": "StyleView",
       "bar_color": null,
       "description_width": ""
      }
     },
     "048e0f6e84e24720b57fcf55f7004480": {
      "model_module": "@jupyter-widgets/base",
      "model_module_version": "1.2.0",
      "model_name": "LayoutModel",
      "state": {
       "_model_module": "@jupyter-widgets/base",
       "_model_module_version": "1.2.0",
       "_model_name": "LayoutModel",
       "_view_count": null,
       "_view_module": "@jupyter-widgets/base",
       "_view_module_version": "1.2.0",
       "_view_name": "LayoutView",
       "align_content": null,
       "align_items": null,
       "align_self": null,
       "border": null,
       "bottom": null,
       "display": null,
       "flex": null,
       "flex_flow": null,
       "grid_area": null,
       "grid_auto_columns": null,
       "grid_auto_flow": null,
       "grid_auto_rows": null,
       "grid_column": null,
       "grid_gap": null,
       "grid_row": null,
       "grid_template_areas": null,
       "grid_template_columns": null,
       "grid_template_rows": null,
       "height": null,
       "justify_content": null,
       "justify_items": null,
       "left": null,
       "margin": null,
       "max_height": null,
       "max_width": null,
       "min_height": null,
       "min_width": null,
       "object_fit": null,
       "object_position": null,
       "order": null,
       "overflow": null,
       "overflow_x": null,
       "overflow_y": null,
       "padding": null,
       "right": null,
       "top": null,
       "visibility": null,
       "width": null
      }
     },
     "059138907018411ea7c45511246811da": {
      "model_module": "@jupyter-widgets/controls",
      "model_module_version": "1.5.0",
      "model_name": "FloatProgressModel",
      "state": {
       "_dom_classes": [],
       "_model_module": "@jupyter-widgets/controls",
       "_model_module_version": "1.5.0",
       "_model_name": "FloatProgressModel",
       "_view_count": null,
       "_view_module": "@jupyter-widgets/controls",
       "_view_module_version": "1.5.0",
       "_view_name": "ProgressView",
       "bar_style": "success",
       "description": "",
       "description_tooltip": null,
       "layout": "IPY_MODEL_f516d8784b554caeafd2643a7055f82d",
       "max": 2688.0,
       "min": 0.0,
       "orientation": "horizontal",
       "style": "IPY_MODEL_5c1b5fd44818470bad52d9d942304fb7",
       "value": 2688.0
      }
     },
     "0621542d20134e7a818ddf4093aa108a": {
      "model_module": "@jupyter-widgets/controls",
      "model_module_version": "1.5.0",
      "model_name": "DescriptionStyleModel",
      "state": {
       "_model_module": "@jupyter-widgets/controls",
       "_model_module_version": "1.5.0",
       "_model_name": "DescriptionStyleModel",
       "_view_count": null,
       "_view_module": "@jupyter-widgets/base",
       "_view_module_version": "1.2.0",
       "_view_name": "StyleView",
       "description_width": ""
      }
     },
     "06a051d3fd0d4236bacc53f416427a87": {
      "model_module": "@jupyter-widgets/controls",
      "model_module_version": "1.5.0",
      "model_name": "FloatProgressModel",
      "state": {
       "_dom_classes": [],
       "_model_module": "@jupyter-widgets/controls",
       "_model_module_version": "1.5.0",
       "_model_name": "FloatProgressModel",
       "_view_count": null,
       "_view_module": "@jupyter-widgets/controls",
       "_view_module_version": "1.5.0",
       "_view_name": "ProgressView",
       "bar_style": "success",
       "description": "",
       "description_tooltip": null,
       "layout": "IPY_MODEL_06ed14417996427db277b0ea59c3d207",
       "max": 336.0,
       "min": 0.0,
       "orientation": "horizontal",
       "style": "IPY_MODEL_ec0a6d3d70c1482c80e7b18f11d2a6aa",
       "value": 336.0
      }
     },
     "06ed14417996427db277b0ea59c3d207": {
      "model_module": "@jupyter-widgets/base",
      "model_module_version": "1.2.0",
      "model_name": "LayoutModel",
      "state": {
       "_model_module": "@jupyter-widgets/base",
       "_model_module_version": "1.2.0",
       "_model_name": "LayoutModel",
       "_view_count": null,
       "_view_module": "@jupyter-widgets/base",
       "_view_module_version": "1.2.0",
       "_view_name": "LayoutView",
       "align_content": null,
       "align_items": null,
       "align_self": null,
       "border": null,
       "bottom": null,
       "display": null,
       "flex": null,
       "flex_flow": null,
       "grid_area": null,
       "grid_auto_columns": null,
       "grid_auto_flow": null,
       "grid_auto_rows": null,
       "grid_column": null,
       "grid_gap": null,
       "grid_row": null,
       "grid_template_areas": null,
       "grid_template_columns": null,
       "grid_template_rows": null,
       "height": null,
       "justify_content": null,
       "justify_items": null,
       "left": null,
       "margin": null,
       "max_height": null,
       "max_width": null,
       "min_height": null,
       "min_width": null,
       "object_fit": null,
       "object_position": null,
       "order": null,
       "overflow": null,
       "overflow_x": null,
       "overflow_y": null,
       "padding": null,
       "right": null,
       "top": null,
       "visibility": null,
       "width": null
      }
     },
     "082e8e5523424ffca0e8473fb36ad210": {
      "model_module": "@jupyter-widgets/controls",
      "model_module_version": "1.5.0",
      "model_name": "HTMLModel",
      "state": {
       "_dom_classes": [],
       "_model_module": "@jupyter-widgets/controls",
       "_model_module_version": "1.5.0",
       "_model_name": "HTMLModel",
       "_view_count": null,
       "_view_module": "@jupyter-widgets/controls",
       "_view_module_version": "1.5.0",
       "_view_name": "HTMLView",
       "description": "",
       "description_tooltip": null,
       "layout": "IPY_MODEL_da6eb15a75b24d8385a06e42dac8a3d2",
       "placeholder": "​",
       "style": "IPY_MODEL_5bfc4ccc4d4d48cf832acbcb00bb9554",
       "value": "100%"
      }
     },
     "0b91c30d10584df79ebbbe5a54d3285b": {
      "model_module": "@jupyter-widgets/base",
      "model_module_version": "1.2.0",
      "model_name": "LayoutModel",
      "state": {
       "_model_module": "@jupyter-widgets/base",
       "_model_module_version": "1.2.0",
       "_model_name": "LayoutModel",
       "_view_count": null,
       "_view_module": "@jupyter-widgets/base",
       "_view_module_version": "1.2.0",
       "_view_name": "LayoutView",
       "align_content": null,
       "align_items": null,
       "align_self": null,
       "border": null,
       "bottom": null,
       "display": null,
       "flex": null,
       "flex_flow": null,
       "grid_area": null,
       "grid_auto_columns": null,
       "grid_auto_flow": null,
       "grid_auto_rows": null,
       "grid_column": null,
       "grid_gap": null,
       "grid_row": null,
       "grid_template_areas": null,
       "grid_template_columns": null,
       "grid_template_rows": null,
       "height": null,
       "justify_content": null,
       "justify_items": null,
       "left": null,
       "margin": null,
       "max_height": null,
       "max_width": null,
       "min_height": null,
       "min_width": null,
       "object_fit": null,
       "object_position": null,
       "order": null,
       "overflow": null,
       "overflow_x": null,
       "overflow_y": null,
       "padding": null,
       "right": null,
       "top": null,
       "visibility": null,
       "width": null
      }
     },
     "0d7661438d14424db87662142fbd15d3": {
      "model_module": "@jupyter-widgets/controls",
      "model_module_version": "1.5.0",
      "model_name": "DescriptionStyleModel",
      "state": {
       "_model_module": "@jupyter-widgets/controls",
       "_model_module_version": "1.5.0",
       "_model_name": "DescriptionStyleModel",
       "_view_count": null,
       "_view_module": "@jupyter-widgets/base",
       "_view_module_version": "1.2.0",
       "_view_name": "StyleView",
       "description_width": ""
      }
     },
     "0f4f9116df4348ec968f8fe2cfa11cee": {
      "model_module": "@jupyter-widgets/controls",
      "model_module_version": "1.5.0",
      "model_name": "HTMLModel",
      "state": {
       "_dom_classes": [],
       "_model_module": "@jupyter-widgets/controls",
       "_model_module_version": "1.5.0",
       "_model_name": "HTMLModel",
       "_view_count": null,
       "_view_module": "@jupyter-widgets/controls",
       "_view_module_version": "1.5.0",
       "_view_name": "HTMLView",
       "description": "",
       "description_tooltip": null,
       "layout": "IPY_MODEL_e2a77f4a83a3411fa3d6aa67f5ca731c",
       "placeholder": "​",
       "style": "IPY_MODEL_4da395ceba624710955e8013fc6a1daf",
       "value": " 336/336 [00:20&lt;00:00, 15.71it/s]"
      }
     },
     "0f536e9029eb482d9865500c88bb7f09": {
      "model_module": "@jupyter-widgets/base",
      "model_module_version": "1.2.0",
      "model_name": "LayoutModel",
      "state": {
       "_model_module": "@jupyter-widgets/base",
       "_model_module_version": "1.2.0",
       "_model_name": "LayoutModel",
       "_view_count": null,
       "_view_module": "@jupyter-widgets/base",
       "_view_module_version": "1.2.0",
       "_view_name": "LayoutView",
       "align_content": null,
       "align_items": null,
       "align_self": null,
       "border": null,
       "bottom": null,
       "display": null,
       "flex": null,
       "flex_flow": null,
       "grid_area": null,
       "grid_auto_columns": null,
       "grid_auto_flow": null,
       "grid_auto_rows": null,
       "grid_column": null,
       "grid_gap": null,
       "grid_row": null,
       "grid_template_areas": null,
       "grid_template_columns": null,
       "grid_template_rows": null,
       "height": null,
       "justify_content": null,
       "justify_items": null,
       "left": null,
       "margin": null,
       "max_height": null,
       "max_width": null,
       "min_height": null,
       "min_width": null,
       "object_fit": null,
       "object_position": null,
       "order": null,
       "overflow": null,
       "overflow_x": null,
       "overflow_y": null,
       "padding": null,
       "right": null,
       "top": null,
       "visibility": null,
       "width": null
      }
     },
     "12ca8ecd9b71443e9925e5088fd77df4": {
      "model_module": "@jupyter-widgets/controls",
      "model_module_version": "1.5.0",
      "model_name": "HTMLModel",
      "state": {
       "_dom_classes": [],
       "_model_module": "@jupyter-widgets/controls",
       "_model_module_version": "1.5.0",
       "_model_name": "HTMLModel",
       "_view_count": null,
       "_view_module": "@jupyter-widgets/controls",
       "_view_module_version": "1.5.0",
       "_view_name": "HTMLView",
       "description": "",
       "description_tooltip": null,
       "layout": "IPY_MODEL_605506645a6842ec8346372d8c1fdc94",
       "placeholder": "​",
       "style": "IPY_MODEL_5daf5bdcb86d4422a94ca679ba1435b7",
       "value": "Downloading: 100%"
      }
     },
     "12f1a28c53364fab84e62cf39f86697b": {
      "model_module": "@jupyter-widgets/controls",
      "model_module_version": "1.5.0",
      "model_name": "HBoxModel",
      "state": {
       "_dom_classes": [],
       "_model_module": "@jupyter-widgets/controls",
       "_model_module_version": "1.5.0",
       "_model_name": "HBoxModel",
       "_view_count": null,
       "_view_module": "@jupyter-widgets/controls",
       "_view_module_version": "1.5.0",
       "_view_name": "HBoxView",
       "box_style": "",
       "children": [
        "IPY_MODEL_1835838e7b2f400ba8c8e1a013a75211",
        "IPY_MODEL_60a02be253e14c86a4867c81908cd839",
        "IPY_MODEL_fa718fe6a7624cd5be407334d35853f3"
       ],
       "layout": "IPY_MODEL_9decdca953914729bc912fd99ea13a80"
      }
     },
     "164744ee01c440588ca309d7a72ada26": {
      "model_module": "@jupyter-widgets/controls",
      "model_module_version": "1.5.0",
      "model_name": "HTMLModel",
      "state": {
       "_dom_classes": [],
       "_model_module": "@jupyter-widgets/controls",
       "_model_module_version": "1.5.0",
       "_model_name": "HTMLModel",
       "_view_count": null,
       "_view_module": "@jupyter-widgets/controls",
       "_view_module_version": "1.5.0",
       "_view_name": "HTMLView",
       "description": "",
       "description_tooltip": null,
       "layout": "IPY_MODEL_20d7ddf404104acc8bba3b057cc16989",
       "placeholder": "​",
       "style": "IPY_MODEL_4c577c8fb3ad4ffc912fafcb9d011972",
       "value": " 336/336 [00:00&lt;00:00, 5991.63ex/s]"
      }
     },
     "17ad5d72e7f646658b87001e7016be89": {
      "model_module": "@jupyter-widgets/controls",
      "model_module_version": "1.5.0",
      "model_name": "ProgressStyleModel",
      "state": {
       "_model_module": "@jupyter-widgets/controls",
       "_model_module_version": "1.5.0",
       "_model_name": "ProgressStyleModel",
       "_view_count": null,
       "_view_module": "@jupyter-widgets/base",
       "_view_module_version": "1.2.0",
       "_view_name": "StyleView",
       "bar_color": null,
       "description_width": ""
      }
     },
     "17c3bbb8650a404480c69c0cdc482f19": {
      "model_module": "@jupyter-widgets/controls",
      "model_module_version": "1.5.0",
      "model_name": "HTMLModel",
      "state": {
       "_dom_classes": [],
       "_model_module": "@jupyter-widgets/controls",
       "_model_module_version": "1.5.0",
       "_model_name": "HTMLModel",
       "_view_count": null,
       "_view_module": "@jupyter-widgets/controls",
       "_view_module_version": "1.5.0",
       "_view_name": "HTMLView",
       "description": "",
       "description_tooltip": null,
       "layout": "IPY_MODEL_9b6efaa9870841a0a99f42726f2bc551",
       "placeholder": "​",
       "style": "IPY_MODEL_0d7661438d14424db87662142fbd15d3",
       "value": "100%"
      }
     },
     "1823bfedb77f409c8f997822e1443fe4": {
      "model_module": "@jupyter-widgets/base",
      "model_module_version": "1.2.0",
      "model_name": "LayoutModel",
      "state": {
       "_model_module": "@jupyter-widgets/base",
       "_model_module_version": "1.2.0",
       "_model_name": "LayoutModel",
       "_view_count": null,
       "_view_module": "@jupyter-widgets/base",
       "_view_module_version": "1.2.0",
       "_view_name": "LayoutView",
       "align_content": null,
       "align_items": null,
       "align_self": null,
       "border": null,
       "bottom": null,
       "display": null,
       "flex": null,
       "flex_flow": null,
       "grid_area": null,
       "grid_auto_columns": null,
       "grid_auto_flow": null,
       "grid_auto_rows": null,
       "grid_column": null,
       "grid_gap": null,
       "grid_row": null,
       "grid_template_areas": null,
       "grid_template_columns": null,
       "grid_template_rows": null,
       "height": null,
       "justify_content": null,
       "justify_items": null,
       "left": null,
       "margin": null,
       "max_height": null,
       "max_width": null,
       "min_height": null,
       "min_width": null,
       "object_fit": null,
       "object_position": null,
       "order": null,
       "overflow": null,
       "overflow_x": null,
       "overflow_y": null,
       "padding": null,
       "right": null,
       "top": null,
       "visibility": null,
       "width": null
      }
     },
     "1835838e7b2f400ba8c8e1a013a75211": {
      "model_module": "@jupyter-widgets/controls",
      "model_module_version": "1.5.0",
      "model_name": "HTMLModel",
      "state": {
       "_dom_classes": [],
       "_model_module": "@jupyter-widgets/controls",
       "_model_module_version": "1.5.0",
       "_model_name": "HTMLModel",
       "_view_count": null,
       "_view_module": "@jupyter-widgets/controls",
       "_view_module_version": "1.5.0",
       "_view_name": "HTMLView",
       "description": "",
       "description_tooltip": null,
       "layout": "IPY_MODEL_609d94fda2e24a398649f93606867a80",
       "placeholder": "​",
       "style": "IPY_MODEL_482a6ac419dd4c5ca558a2d82095872c",
       "value": "100%"
      }
     },
     "1857a2af183b4e2eb5e59f62c4ecfbb7": {
      "model_module": "@jupyter-widgets/base",
      "model_module_version": "1.2.0",
      "model_name": "LayoutModel",
      "state": {
       "_model_module": "@jupyter-widgets/base",
       "_model_module_version": "1.2.0",
       "_model_name": "LayoutModel",
       "_view_count": null,
       "_view_module": "@jupyter-widgets/base",
       "_view_module_version": "1.2.0",
       "_view_name": "LayoutView",
       "align_content": null,
       "align_items": null,
       "align_self": null,
       "border": null,
       "bottom": null,
       "display": null,
       "flex": null,
       "flex_flow": null,
       "grid_area": null,
       "grid_auto_columns": null,
       "grid_auto_flow": null,
       "grid_auto_rows": null,
       "grid_column": null,
       "grid_gap": null,
       "grid_row": null,
       "grid_template_areas": null,
       "grid_template_columns": null,
       "grid_template_rows": null,
       "height": null,
       "justify_content": null,
       "justify_items": null,
       "left": null,
       "margin": null,
       "max_height": null,
       "max_width": null,
       "min_height": null,
       "min_width": null,
       "object_fit": null,
       "object_position": null,
       "order": null,
       "overflow": null,
       "overflow_x": null,
       "overflow_y": null,
       "padding": null,
       "right": null,
       "top": null,
       "visibility": null,
       "width": null
      }
     },
     "18edb65db815441a9b9ce1863fae8c85": {
      "model_module": "@jupyter-widgets/controls",
      "model_module_version": "1.5.0",
      "model_name": "HBoxModel",
      "state": {
       "_dom_classes": [],
       "_model_module": "@jupyter-widgets/controls",
       "_model_module_version": "1.5.0",
       "_model_name": "HBoxModel",
       "_view_count": null,
       "_view_module": "@jupyter-widgets/controls",
       "_view_module_version": "1.5.0",
       "_view_name": "HBoxView",
       "box_style": "",
       "children": [
        "IPY_MODEL_680f75971bff422e8b4f99e147930251",
        "IPY_MODEL_a9a2cabe68204675990b70d8ee0ce308",
        "IPY_MODEL_b3d708c218414f28be9fc2a484be44dd"
       ],
       "layout": "IPY_MODEL_98cc3abe7eb7487489b2d4045a3a3cc9"
      }
     },
     "1bf8ad1b52b94ae4a378e48cf4eb845f": {
      "model_module": "@jupyter-widgets/base",
      "model_module_version": "1.2.0",
      "model_name": "LayoutModel",
      "state": {
       "_model_module": "@jupyter-widgets/base",
       "_model_module_version": "1.2.0",
       "_model_name": "LayoutModel",
       "_view_count": null,
       "_view_module": "@jupyter-widgets/base",
       "_view_module_version": "1.2.0",
       "_view_name": "LayoutView",
       "align_content": null,
       "align_items": null,
       "align_self": null,
       "border": null,
       "bottom": null,
       "display": null,
       "flex": null,
       "flex_flow": null,
       "grid_area": null,
       "grid_auto_columns": null,
       "grid_auto_flow": null,
       "grid_auto_rows": null,
       "grid_column": null,
       "grid_gap": null,
       "grid_row": null,
       "grid_template_areas": null,
       "grid_template_columns": null,
       "grid_template_rows": null,
       "height": null,
       "justify_content": null,
       "justify_items": null,
       "left": null,
       "margin": null,
       "max_height": null,
       "max_width": null,
       "min_height": null,
       "min_width": null,
       "object_fit": null,
       "object_position": null,
       "order": null,
       "overflow": null,
       "overflow_x": null,
       "overflow_y": null,
       "padding": null,
       "right": null,
       "top": null,
       "visibility": null,
       "width": null
      }
     },
     "1e26c2d64ff04e63a109aa5b867dcb1c": {
      "model_module": "@jupyter-widgets/controls",
      "model_module_version": "1.5.0",
      "model_name": "HTMLModel",
      "state": {
       "_dom_classes": [],
       "_model_module": "@jupyter-widgets/controls",
       "_model_module_version": "1.5.0",
       "_model_name": "HTMLModel",
       "_view_count": null,
       "_view_module": "@jupyter-widgets/controls",
       "_view_module_version": "1.5.0",
       "_view_name": "HTMLView",
       "description": "",
       "description_tooltip": null,
       "layout": "IPY_MODEL_439a11dca3114916bc1b012eac3a6028",
       "placeholder": "​",
       "style": "IPY_MODEL_46755c70874b44a89a87002cdad91361",
       "value": " 2688/2688 [00:00&lt;00:00, 10666.04ex/s]"
      }
     },
     "1fbe2260109c4769aa7a6de1a6214bf4": {
      "model_module": "@jupyter-widgets/controls",
      "model_module_version": "1.5.0",
      "model_name": "DescriptionStyleModel",
      "state": {
       "_model_module": "@jupyter-widgets/controls",
       "_model_module_version": "1.5.0",
       "_model_name": "DescriptionStyleModel",
       "_view_count": null,
       "_view_module": "@jupyter-widgets/base",
       "_view_module_version": "1.2.0",
       "_view_name": "StyleView",
       "description_width": ""
      }
     },
     "20d7ddf404104acc8bba3b057cc16989": {
      "model_module": "@jupyter-widgets/base",
      "model_module_version": "1.2.0",
      "model_name": "LayoutModel",
      "state": {
       "_model_module": "@jupyter-widgets/base",
       "_model_module_version": "1.2.0",
       "_model_name": "LayoutModel",
       "_view_count": null,
       "_view_module": "@jupyter-widgets/base",
       "_view_module_version": "1.2.0",
       "_view_name": "LayoutView",
       "align_content": null,
       "align_items": null,
       "align_self": null,
       "border": null,
       "bottom": null,
       "display": null,
       "flex": null,
       "flex_flow": null,
       "grid_area": null,
       "grid_auto_columns": null,
       "grid_auto_flow": null,
       "grid_auto_rows": null,
       "grid_column": null,
       "grid_gap": null,
       "grid_row": null,
       "grid_template_areas": null,
       "grid_template_columns": null,
       "grid_template_rows": null,
       "height": null,
       "justify_content": null,
       "justify_items": null,
       "left": null,
       "margin": null,
       "max_height": null,
       "max_width": null,
       "min_height": null,
       "min_width": null,
       "object_fit": null,
       "object_position": null,
       "order": null,
       "overflow": null,
       "overflow_x": null,
       "overflow_y": null,
       "padding": null,
       "right": null,
       "top": null,
       "visibility": null,
       "width": null
      }
     },
     "22b1da46a65e4dc1a786cb0169c92582": {
      "model_module": "@jupyter-widgets/base",
      "model_module_version": "1.2.0",
      "model_name": "LayoutModel",
      "state": {
       "_model_module": "@jupyter-widgets/base",
       "_model_module_version": "1.2.0",
       "_model_name": "LayoutModel",
       "_view_count": null,
       "_view_module": "@jupyter-widgets/base",
       "_view_module_version": "1.2.0",
       "_view_name": "LayoutView",
       "align_content": null,
       "align_items": null,
       "align_self": null,
       "border": null,
       "bottom": null,
       "display": null,
       "flex": null,
       "flex_flow": null,
       "grid_area": null,
       "grid_auto_columns": null,
       "grid_auto_flow": null,
       "grid_auto_rows": null,
       "grid_column": null,
       "grid_gap": null,
       "grid_row": null,
       "grid_template_areas": null,
       "grid_template_columns": null,
       "grid_template_rows": null,
       "height": null,
       "justify_content": null,
       "justify_items": null,
       "left": null,
       "margin": null,
       "max_height": null,
       "max_width": null,
       "min_height": null,
       "min_width": null,
       "object_fit": null,
       "object_position": null,
       "order": null,
       "overflow": null,
       "overflow_x": null,
       "overflow_y": null,
       "padding": null,
       "right": null,
       "top": null,
       "visibility": null,
       "width": null
      }
     },
     "269f09e8b4d940a8ba3aaad945393a61": {
      "model_module": "@jupyter-widgets/base",
      "model_module_version": "1.2.0",
      "model_name": "LayoutModel",
      "state": {
       "_model_module": "@jupyter-widgets/base",
       "_model_module_version": "1.2.0",
       "_model_name": "LayoutModel",
       "_view_count": null,
       "_view_module": "@jupyter-widgets/base",
       "_view_module_version": "1.2.0",
       "_view_name": "LayoutView",
       "align_content": null,
       "align_items": null,
       "align_self": null,
       "border": null,
       "bottom": null,
       "display": null,
       "flex": null,
       "flex_flow": null,
       "grid_area": null,
       "grid_auto_columns": null,
       "grid_auto_flow": null,
       "grid_auto_rows": null,
       "grid_column": null,
       "grid_gap": null,
       "grid_row": null,
       "grid_template_areas": null,
       "grid_template_columns": null,
       "grid_template_rows": null,
       "height": null,
       "justify_content": null,
       "justify_items": null,
       "left": null,
       "margin": null,
       "max_height": null,
       "max_width": null,
       "min_height": null,
       "min_width": null,
       "object_fit": null,
       "object_position": null,
       "order": null,
       "overflow": null,
       "overflow_x": null,
       "overflow_y": null,
       "padding": null,
       "right": null,
       "top": null,
       "visibility": null,
       "width": null
      }
     },
     "2847259fc4194b469a4eb51399420c44": {
      "model_module": "@jupyter-widgets/controls",
      "model_module_version": "1.5.0",
      "model_name": "FloatProgressModel",
      "state": {
       "_dom_classes": [],
       "_model_module": "@jupyter-widgets/controls",
       "_model_module_version": "1.5.0",
       "_model_name": "FloatProgressModel",
       "_view_count": null,
       "_view_module": "@jupyter-widgets/controls",
       "_view_module_version": "1.5.0",
       "_view_name": "ProgressView",
       "bar_style": "success",
       "description": "",
       "description_tooltip": null,
       "layout": "IPY_MODEL_22b1da46a65e4dc1a786cb0169c92582",
       "max": 336.0,
       "min": 0.0,
       "orientation": "horizontal",
       "style": "IPY_MODEL_74f857d48af048f680e052e68ce63002",
       "value": 336.0
      }
     },
     "2b9341f1bbb3407bad3e980a4d210d08": {
      "model_module": "@jupyter-widgets/controls",
      "model_module_version": "1.5.0",
      "model_name": "HTMLModel",
      "state": {
       "_dom_classes": [],
       "_model_module": "@jupyter-widgets/controls",
       "_model_module_version": "1.5.0",
       "_model_name": "HTMLModel",
       "_view_count": null,
       "_view_module": "@jupyter-widgets/controls",
       "_view_module_version": "1.5.0",
       "_view_name": "HTMLView",
       "description": "",
       "description_tooltip": null,
       "layout": "IPY_MODEL_7757369b2d264154922f45ec5948de9c",
       "placeholder": "​",
       "style": "IPY_MODEL_4e9f74561e8e4d5cb057cc541af40588",
       "value": " 336/336 [00:05&lt;00:00, 58.95ex/s]"
      }
     },
     "2c98d936120a4b63ba0df247c6b47caa": {
      "model_module": "@jupyter-widgets/controls",
      "model_module_version": "1.5.0",
      "model_name": "ProgressStyleModel",
      "state": {
       "_model_module": "@jupyter-widgets/controls",
       "_model_module_version": "1.5.0",
       "_model_name": "ProgressStyleModel",
       "_view_count": null,
       "_view_module": "@jupyter-widgets/base",
       "_view_module_version": "1.2.0",
       "_view_name": "StyleView",
       "bar_color": null,
       "description_width": ""
      }
     },
     "2d9530cd1b4745a1b1403338ee41977f": {
      "model_module": "@jupyter-widgets/controls",
      "model_module_version": "1.5.0",
      "model_name": "HTMLModel",
      "state": {
       "_dom_classes": [],
       "_model_module": "@jupyter-widgets/controls",
       "_model_module_version": "1.5.0",
       "_model_name": "HTMLModel",
       "_view_count": null,
       "_view_module": "@jupyter-widgets/controls",
       "_view_module_version": "1.5.0",
       "_view_name": "HTMLView",
       "description": "",
       "description_tooltip": null,
       "layout": "IPY_MODEL_d559810f338e4d8587a725de71a6c6dc",
       "placeholder": "​",
       "style": "IPY_MODEL_ef05eabb13ea4ebead56737f14e10be7",
       "value": "100%"
      }
     },
     "2e2c6ef986964790af633a8d5bccc943": {
      "model_module": "@jupyter-widgets/base",
      "model_module_version": "1.2.0",
      "model_name": "LayoutModel",
      "state": {
       "_model_module": "@jupyter-widgets/base",
       "_model_module_version": "1.2.0",
       "_model_name": "LayoutModel",
       "_view_count": null,
       "_view_module": "@jupyter-widgets/base",
       "_view_module_version": "1.2.0",
       "_view_name": "LayoutView",
       "align_content": null,
       "align_items": null,
       "align_self": null,
       "border": null,
       "bottom": null,
       "display": null,
       "flex": null,
       "flex_flow": null,
       "grid_area": null,
       "grid_auto_columns": null,
       "grid_auto_flow": null,
       "grid_auto_rows": null,
       "grid_column": null,
       "grid_gap": null,
       "grid_row": null,
       "grid_template_areas": null,
       "grid_template_columns": null,
       "grid_template_rows": null,
       "height": null,
       "justify_content": null,
       "justify_items": null,
       "left": null,
       "margin": null,
       "max_height": null,
       "max_width": null,
       "min_height": null,
       "min_width": null,
       "object_fit": null,
       "object_position": null,
       "order": null,
       "overflow": null,
       "overflow_x": null,
       "overflow_y": null,
       "padding": null,
       "right": null,
       "top": null,
       "visibility": null,
       "width": null
      }
     },
     "3170965518404f7eaed1a16bd7c8a50e": {
      "model_module": "@jupyter-widgets/controls",
      "model_module_version": "1.5.0",
      "model_name": "DescriptionStyleModel",
      "state": {
       "_model_module": "@jupyter-widgets/controls",
       "_model_module_version": "1.5.0",
       "_model_name": "DescriptionStyleModel",
       "_view_count": null,
       "_view_module": "@jupyter-widgets/base",
       "_view_module_version": "1.2.0",
       "_view_name": "StyleView",
       "description_width": ""
      }
     },
     "3173407e2a3849a69d5e063a8962b4da": {
      "model_module": "@jupyter-widgets/base",
      "model_module_version": "1.2.0",
      "model_name": "LayoutModel",
      "state": {
       "_model_module": "@jupyter-widgets/base",
       "_model_module_version": "1.2.0",
       "_model_name": "LayoutModel",
       "_view_count": null,
       "_view_module": "@jupyter-widgets/base",
       "_view_module_version": "1.2.0",
       "_view_name": "LayoutView",
       "align_content": null,
       "align_items": null,
       "align_self": null,
       "border": null,
       "bottom": null,
       "display": null,
       "flex": null,
       "flex_flow": null,
       "grid_area": null,
       "grid_auto_columns": null,
       "grid_auto_flow": null,
       "grid_auto_rows": null,
       "grid_column": null,
       "grid_gap": null,
       "grid_row": null,
       "grid_template_areas": null,
       "grid_template_columns": null,
       "grid_template_rows": null,
       "height": null,
       "justify_content": null,
       "justify_items": null,
       "left": null,
       "margin": null,
       "max_height": null,
       "max_width": null,
       "min_height": null,
       "min_width": null,
       "object_fit": null,
       "object_position": null,
       "order": null,
       "overflow": null,
       "overflow_x": null,
       "overflow_y": null,
       "padding": null,
       "right": null,
       "top": null,
       "visibility": null,
       "width": null
      }
     },
     "36dd67283ebd436cbd85f6f2325e7b6d": {
      "model_module": "@jupyter-widgets/controls",
      "model_module_version": "1.5.0",
      "model_name": "HBoxModel",
      "state": {
       "_dom_classes": [],
       "_model_module": "@jupyter-widgets/controls",
       "_model_module_version": "1.5.0",
       "_model_name": "HBoxModel",
       "_view_count": null,
       "_view_module": "@jupyter-widgets/controls",
       "_view_module_version": "1.5.0",
       "_view_name": "HBoxView",
       "box_style": "",
       "children": [
        "IPY_MODEL_c20949a87b6443b5aac7ccd5254cff2d",
        "IPY_MODEL_5493fd5915044061b6f24a11a656ab06",
        "IPY_MODEL_ae8b094492e64d29a1a840a34509d1d3"
       ],
       "layout": "IPY_MODEL_b21210d5129c48779d7c7aaab04f626a"
      }
     },
     "3a65f44cca354f53b24b847b1076cbd7": {
      "model_module": "@jupyter-widgets/controls",
      "model_module_version": "1.5.0",
      "model_name": "HBoxModel",
      "state": {
       "_dom_classes": [],
       "_model_module": "@jupyter-widgets/controls",
       "_model_module_version": "1.5.0",
       "_model_name": "HBoxModel",
       "_view_count": null,
       "_view_module": "@jupyter-widgets/controls",
       "_view_module_version": "1.5.0",
       "_view_name": "HBoxView",
       "box_style": "",
       "children": [
        "IPY_MODEL_3a70b239420f4d46a8ead6e91d92e0c1",
        "IPY_MODEL_7160688539f649e0acfcd57a155191dc",
        "IPY_MODEL_665119cce8de472b86a0daa037d46714"
       ],
       "layout": "IPY_MODEL_048e0f6e84e24720b57fcf55f7004480"
      }
     },
     "3a70b239420f4d46a8ead6e91d92e0c1": {
      "model_module": "@jupyter-widgets/controls",
      "model_module_version": "1.5.0",
      "model_name": "HTMLModel",
      "state": {
       "_dom_classes": [],
       "_model_module": "@jupyter-widgets/controls",
       "_model_module_version": "1.5.0",
       "_model_name": "HTMLModel",
       "_view_count": null,
       "_view_module": "@jupyter-widgets/controls",
       "_view_module_version": "1.5.0",
       "_view_name": "HTMLView",
       "description": "",
       "description_tooltip": null,
       "layout": "IPY_MODEL_d0f9c611e0354b9f8b824ed8ab879fd5",
       "placeholder": "​",
       "style": "IPY_MODEL_5f40f1cb12e9408da0367d89be19a3d8",
       "value": "Downloading builder script: "
      }
     },
     "3de08f520d8740a1a3009a550612aa53": {
      "model_module": "@jupyter-widgets/controls",
      "model_module_version": "1.5.0",
      "model_name": "DescriptionStyleModel",
      "state": {
       "_model_module": "@jupyter-widgets/controls",
       "_model_module_version": "1.5.0",
       "_model_name": "DescriptionStyleModel",
       "_view_count": null,
       "_view_module": "@jupyter-widgets/base",
       "_view_module_version": "1.2.0",
       "_view_name": "StyleView",
       "description_width": ""
      }
     },
     "3f0ac49d63964a55962d494564770136": {
      "model_module": "@jupyter-widgets/base",
      "model_module_version": "1.2.0",
      "model_name": "LayoutModel",
      "state": {
       "_model_module": "@jupyter-widgets/base",
       "_model_module_version": "1.2.0",
       "_model_name": "LayoutModel",
       "_view_count": null,
       "_view_module": "@jupyter-widgets/base",
       "_view_module_version": "1.2.0",
       "_view_name": "LayoutView",
       "align_content": null,
       "align_items": null,
       "align_self": null,
       "border": null,
       "bottom": null,
       "display": null,
       "flex": null,
       "flex_flow": null,
       "grid_area": null,
       "grid_auto_columns": null,
       "grid_auto_flow": null,
       "grid_auto_rows": null,
       "grid_column": null,
       "grid_gap": null,
       "grid_row": null,
       "grid_template_areas": null,
       "grid_template_columns": null,
       "grid_template_rows": null,
       "height": null,
       "justify_content": null,
       "justify_items": null,
       "left": null,
       "margin": null,
       "max_height": null,
       "max_width": null,
       "min_height": null,
       "min_width": null,
       "object_fit": null,
       "object_position": null,
       "order": null,
       "overflow": null,
       "overflow_x": null,
       "overflow_y": null,
       "padding": null,
       "right": null,
       "top": null,
       "visibility": null,
       "width": null
      }
     },
     "439a11dca3114916bc1b012eac3a6028": {
      "model_module": "@jupyter-widgets/base",
      "model_module_version": "1.2.0",
      "model_name": "LayoutModel",
      "state": {
       "_model_module": "@jupyter-widgets/base",
       "_model_module_version": "1.2.0",
       "_model_name": "LayoutModel",
       "_view_count": null,
       "_view_module": "@jupyter-widgets/base",
       "_view_module_version": "1.2.0",
       "_view_name": "LayoutView",
       "align_content": null,
       "align_items": null,
       "align_self": null,
       "border": null,
       "bottom": null,
       "display": null,
       "flex": null,
       "flex_flow": null,
       "grid_area": null,
       "grid_auto_columns": null,
       "grid_auto_flow": null,
       "grid_auto_rows": null,
       "grid_column": null,
       "grid_gap": null,
       "grid_row": null,
       "grid_template_areas": null,
       "grid_template_columns": null,
       "grid_template_rows": null,
       "height": null,
       "justify_content": null,
       "justify_items": null,
       "left": null,
       "margin": null,
       "max_height": null,
       "max_width": null,
       "min_height": null,
       "min_width": null,
       "object_fit": null,
       "object_position": null,
       "order": null,
       "overflow": null,
       "overflow_x": null,
       "overflow_y": null,
       "padding": null,
       "right": null,
       "top": null,
       "visibility": null,
       "width": null
      }
     },
     "43b104f908134db2bbb7dca88a3e308e": {
      "model_module": "@jupyter-widgets/controls",
      "model_module_version": "1.5.0",
      "model_name": "FloatProgressModel",
      "state": {
       "_dom_classes": [],
       "_model_module": "@jupyter-widgets/controls",
       "_model_module_version": "1.5.0",
       "_model_name": "FloatProgressModel",
       "_view_count": null,
       "_view_module": "@jupyter-widgets/controls",
       "_view_module_version": "1.5.0",
       "_view_name": "ProgressView",
       "bar_style": "success",
       "description": "",
       "description_tooltip": null,
       "layout": "IPY_MODEL_bb70e68f5fe74b28b2498373ec059291",
       "max": 2688.0,
       "min": 0.0,
       "orientation": "horizontal",
       "style": "IPY_MODEL_5af71309c2884605a84f8db991733049",
       "value": 2688.0
      }
     },
     "449502942b684486a8896fe658a6ca9e": {
      "model_module": "@jupyter-widgets/controls",
      "model_module_version": "1.5.0",
      "model_name": "HTMLModel",
      "state": {
       "_dom_classes": [],
       "_model_module": "@jupyter-widgets/controls",
       "_model_module_version": "1.5.0",
       "_model_name": "HTMLModel",
       "_view_count": null,
       "_view_module": "@jupyter-widgets/controls",
       "_view_module_version": "1.5.0",
       "_view_name": "HTMLView",
       "description": "",
       "description_tooltip": null,
       "layout": "IPY_MODEL_1823bfedb77f409c8f997822e1443fe4",
       "placeholder": "​",
       "style": "IPY_MODEL_0621542d20134e7a818ddf4093aa108a",
       "value": " 336/336 [00:06&lt;00:00, 58.75ex/s]"
      }
     },
     "45e57ba962cb426180d73d3bcce88223": {
      "model_module": "@jupyter-widgets/controls",
      "model_module_version": "1.5.0",
      "model_name": "HTMLModel",
      "state": {
       "_dom_classes": [],
       "_model_module": "@jupyter-widgets/controls",
       "_model_module_version": "1.5.0",
       "_model_name": "HTMLModel",
       "_view_count": null,
       "_view_module": "@jupyter-widgets/controls",
       "_view_module_version": "1.5.0",
       "_view_name": "HTMLView",
       "description": "",
       "description_tooltip": null,
       "layout": "IPY_MODEL_f1dfc9b79543405591ef71c3625183e2",
       "placeholder": "​",
       "style": "IPY_MODEL_002311ccd02e4bcc97a4a73460d0a6c0",
       "value": "100%"
      }
     },
     "464a80b5e3e34f088e7db7913f9b36b4": {
      "model_module": "@jupyter-widgets/controls",
      "model_module_version": "1.5.0",
      "model_name": "HBoxModel",
      "state": {
       "_dom_classes": [],
       "_model_module": "@jupyter-widgets/controls",
       "_model_module_version": "1.5.0",
       "_model_name": "HBoxModel",
       "_view_count": null,
       "_view_module": "@jupyter-widgets/controls",
       "_view_module_version": "1.5.0",
       "_view_name": "HBoxView",
       "box_style": "",
       "children": [
        "IPY_MODEL_58f17d18f8b14f308ea4c09797e00475",
        "IPY_MODEL_6007bcc19d8a4940b97345b6decce568",
        "IPY_MODEL_1e26c2d64ff04e63a109aa5b867dcb1c"
       ],
       "layout": "IPY_MODEL_6a0e93d3bb5041c583875e5d1cb8ef5f"
      }
     },
     "467246c705854a6f8c1529fdd7ee8d0c": {
      "model_module": "@jupyter-widgets/base",
      "model_module_version": "1.2.0",
      "model_name": "LayoutModel",
      "state": {
       "_model_module": "@jupyter-widgets/base",
       "_model_module_version": "1.2.0",
       "_model_name": "LayoutModel",
       "_view_count": null,
       "_view_module": "@jupyter-widgets/base",
       "_view_module_version": "1.2.0",
       "_view_name": "LayoutView",
       "align_content": null,
       "align_items": null,
       "align_self": null,
       "border": null,
       "bottom": null,
       "display": null,
       "flex": null,
       "flex_flow": null,
       "grid_area": null,
       "grid_auto_columns": null,
       "grid_auto_flow": null,
       "grid_auto_rows": null,
       "grid_column": null,
       "grid_gap": null,
       "grid_row": null,
       "grid_template_areas": null,
       "grid_template_columns": null,
       "grid_template_rows": null,
       "height": null,
       "justify_content": null,
       "justify_items": null,
       "left": null,
       "margin": null,
       "max_height": null,
       "max_width": null,
       "min_height": null,
       "min_width": null,
       "object_fit": null,
       "object_position": null,
       "order": null,
       "overflow": null,
       "overflow_x": null,
       "overflow_y": null,
       "padding": null,
       "right": null,
       "top": null,
       "visibility": null,
       "width": null
      }
     },
     "46755c70874b44a89a87002cdad91361": {
      "model_module": "@jupyter-widgets/controls",
      "model_module_version": "1.5.0",
      "model_name": "DescriptionStyleModel",
      "state": {
       "_model_module": "@jupyter-widgets/controls",
       "_model_module_version": "1.5.0",
       "_model_name": "DescriptionStyleModel",
       "_view_count": null,
       "_view_module": "@jupyter-widgets/base",
       "_view_module_version": "1.2.0",
       "_view_name": "StyleView",
       "description_width": ""
      }
     },
     "482a6ac419dd4c5ca558a2d82095872c": {
      "model_module": "@jupyter-widgets/controls",
      "model_module_version": "1.5.0",
      "model_name": "DescriptionStyleModel",
      "state": {
       "_model_module": "@jupyter-widgets/controls",
       "_model_module_version": "1.5.0",
       "_model_name": "DescriptionStyleModel",
       "_view_count": null,
       "_view_module": "@jupyter-widgets/base",
       "_view_module_version": "1.2.0",
       "_view_name": "StyleView",
       "description_width": ""
      }
     },
     "4a2a37883c9e46e38162d173e67ee6e2": {
      "model_module": "@jupyter-widgets/controls",
      "model_module_version": "1.5.0",
      "model_name": "ProgressStyleModel",
      "state": {
       "_model_module": "@jupyter-widgets/controls",
       "_model_module_version": "1.5.0",
       "_model_name": "ProgressStyleModel",
       "_view_count": null,
       "_view_module": "@jupyter-widgets/base",
       "_view_module_version": "1.2.0",
       "_view_name": "StyleView",
       "bar_color": null,
       "description_width": ""
      }
     },
     "4b34874a09114616accd4b1afe7a315f": {
      "model_module": "@jupyter-widgets/controls",
      "model_module_version": "1.5.0",
      "model_name": "HTMLModel",
      "state": {
       "_dom_classes": [],
       "_model_module": "@jupyter-widgets/controls",
       "_model_module_version": "1.5.0",
       "_model_name": "HTMLModel",
       "_view_count": null,
       "_view_module": "@jupyter-widgets/controls",
       "_view_module_version": "1.5.0",
       "_view_name": "HTMLView",
       "description": "",
       "description_tooltip": null,
       "layout": "IPY_MODEL_863ea32c696e490e9161e5400a93bedd",
       "placeholder": "​",
       "style": "IPY_MODEL_98dc1877456a46ea88c420ac02a27686",
       "value": "100%"
      }
     },
     "4c577c8fb3ad4ffc912fafcb9d011972": {
      "model_module": "@jupyter-widgets/controls",
      "model_module_version": "1.5.0",
      "model_name": "DescriptionStyleModel",
      "state": {
       "_model_module": "@jupyter-widgets/controls",
       "_model_module_version": "1.5.0",
       "_model_name": "DescriptionStyleModel",
       "_view_count": null,
       "_view_module": "@jupyter-widgets/base",
       "_view_module_version": "1.2.0",
       "_view_name": "StyleView",
       "description_width": ""
      }
     },
     "4da395ceba624710955e8013fc6a1daf": {
      "model_module": "@jupyter-widgets/controls",
      "model_module_version": "1.5.0",
      "model_name": "DescriptionStyleModel",
      "state": {
       "_model_module": "@jupyter-widgets/controls",
       "_model_module_version": "1.5.0",
       "_model_name": "DescriptionStyleModel",
       "_view_count": null,
       "_view_module": "@jupyter-widgets/base",
       "_view_module_version": "1.2.0",
       "_view_name": "StyleView",
       "description_width": ""
      }
     },
     "4e9f74561e8e4d5cb057cc541af40588": {
      "model_module": "@jupyter-widgets/controls",
      "model_module_version": "1.5.0",
      "model_name": "DescriptionStyleModel",
      "state": {
       "_model_module": "@jupyter-widgets/controls",
       "_model_module_version": "1.5.0",
       "_model_name": "DescriptionStyleModel",
       "_view_count": null,
       "_view_module": "@jupyter-widgets/base",
       "_view_module_version": "1.2.0",
       "_view_name": "StyleView",
       "description_width": ""
      }
     },
     "50a3b2a597c9451bb01542d4b270078b": {
      "model_module": "@jupyter-widgets/controls",
      "model_module_version": "1.5.0",
      "model_name": "DescriptionStyleModel",
      "state": {
       "_model_module": "@jupyter-widgets/controls",
       "_model_module_version": "1.5.0",
       "_model_name": "DescriptionStyleModel",
       "_view_count": null,
       "_view_module": "@jupyter-widgets/base",
       "_view_module_version": "1.2.0",
       "_view_name": "StyleView",
       "description_width": ""
      }
     },
     "5493fd5915044061b6f24a11a656ab06": {
      "model_module": "@jupyter-widgets/controls",
      "model_module_version": "1.5.0",
      "model_name": "FloatProgressModel",
      "state": {
       "_dom_classes": [],
       "_model_module": "@jupyter-widgets/controls",
       "_model_module_version": "1.5.0",
       "_model_name": "FloatProgressModel",
       "_view_count": null,
       "_view_module": "@jupyter-widgets/controls",
       "_view_module_version": "1.5.0",
       "_view_name": "ProgressView",
       "bar_style": "success",
       "description": "",
       "description_tooltip": null,
       "layout": "IPY_MODEL_d2aa9e71e7ad40d69b1cc5d60885d1a6",
       "max": 1.0,
       "min": 0.0,
       "orientation": "horizontal",
       "style": "IPY_MODEL_2c98d936120a4b63ba0df247c6b47caa",
       "value": 1.0
      }
     },
     "57d476afa5ce4a998c5d1f4b34103f99": {
      "model_module": "@jupyter-widgets/controls",
      "model_module_version": "1.5.0",
      "model_name": "HTMLModel",
      "state": {
       "_dom_classes": [],
       "_model_module": "@jupyter-widgets/controls",
       "_model_module_version": "1.5.0",
       "_model_name": "HTMLModel",
       "_view_count": null,
       "_view_module": "@jupyter-widgets/controls",
       "_view_module_version": "1.5.0",
       "_view_name": "HTMLView",
       "description": "",
       "description_tooltip": null,
       "layout": "IPY_MODEL_1bf8ad1b52b94ae4a378e48cf4eb845f",
       "placeholder": "​",
       "style": "IPY_MODEL_3de08f520d8740a1a3009a550612aa53",
       "value": "100%"
      }
     },
     "58371872740c4749b74d712b24295244": {
      "model_module": "@jupyter-widgets/controls",
      "model_module_version": "1.5.0",
      "model_name": "HTMLModel",
      "state": {
       "_dom_classes": [],
       "_model_module": "@jupyter-widgets/controls",
       "_model_module_version": "1.5.0",
       "_model_name": "HTMLModel",
       "_view_count": null,
       "_view_module": "@jupyter-widgets/controls",
       "_view_module_version": "1.5.0",
       "_view_name": "HTMLView",
       "description": "",
       "description_tooltip": null,
       "layout": "IPY_MODEL_c8a56fb9bb3d4a268ffc6947bc9e13aa",
       "placeholder": "​",
       "style": "IPY_MODEL_3170965518404f7eaed1a16bd7c8a50e",
       "value": " 2688/2688 [01:25&lt;00:00, 271.93ex/s]"
      }
     },
     "58f17d18f8b14f308ea4c09797e00475": {
      "model_module": "@jupyter-widgets/controls",
      "model_module_version": "1.5.0",
      "model_name": "HTMLModel",
      "state": {
       "_dom_classes": [],
       "_model_module": "@jupyter-widgets/controls",
       "_model_module_version": "1.5.0",
       "_model_name": "HTMLModel",
       "_view_count": null,
       "_view_module": "@jupyter-widgets/controls",
       "_view_module_version": "1.5.0",
       "_view_name": "HTMLView",
       "description": "",
       "description_tooltip": null,
       "layout": "IPY_MODEL_795a5840b60c410baded4ae85e5c1406",
       "placeholder": "​",
       "style": "IPY_MODEL_1fbe2260109c4769aa7a6de1a6214bf4",
       "value": "100%"
      }
     },
     "5af71309c2884605a84f8db991733049": {
      "model_module": "@jupyter-widgets/controls",
      "model_module_version": "1.5.0",
      "model_name": "ProgressStyleModel",
      "state": {
       "_model_module": "@jupyter-widgets/controls",
       "_model_module_version": "1.5.0",
       "_model_name": "ProgressStyleModel",
       "_view_count": null,
       "_view_module": "@jupyter-widgets/base",
       "_view_module_version": "1.2.0",
       "_view_name": "StyleView",
       "bar_color": null,
       "description_width": ""
      }
     },
     "5bafb2d110c94da8980eeb504b95fa77": {
      "model_module": "@jupyter-widgets/base",
      "model_module_version": "1.2.0",
      "model_name": "LayoutModel",
      "state": {
       "_model_module": "@jupyter-widgets/base",
       "_model_module_version": "1.2.0",
       "_model_name": "LayoutModel",
       "_view_count": null,
       "_view_module": "@jupyter-widgets/base",
       "_view_module_version": "1.2.0",
       "_view_name": "LayoutView",
       "align_content": null,
       "align_items": null,
       "align_self": null,
       "border": null,
       "bottom": null,
       "display": null,
       "flex": null,
       "flex_flow": null,
       "grid_area": null,
       "grid_auto_columns": null,
       "grid_auto_flow": null,
       "grid_auto_rows": null,
       "grid_column": null,
       "grid_gap": null,
       "grid_row": null,
       "grid_template_areas": null,
       "grid_template_columns": null,
       "grid_template_rows": null,
       "height": null,
       "justify_content": null,
       "justify_items": null,
       "left": null,
       "margin": null,
       "max_height": null,
       "max_width": null,
       "min_height": null,
       "min_width": null,
       "object_fit": null,
       "object_position": null,
       "order": null,
       "overflow": null,
       "overflow_x": null,
       "overflow_y": null,
       "padding": null,
       "right": null,
       "top": null,
       "visibility": null,
       "width": null
      }
     },
     "5bfc4ccc4d4d48cf832acbcb00bb9554": {
      "model_module": "@jupyter-widgets/controls",
      "model_module_version": "1.5.0",
      "model_name": "DescriptionStyleModel",
      "state": {
       "_model_module": "@jupyter-widgets/controls",
       "_model_module_version": "1.5.0",
       "_model_name": "DescriptionStyleModel",
       "_view_count": null,
       "_view_module": "@jupyter-widgets/base",
       "_view_module_version": "1.2.0",
       "_view_name": "StyleView",
       "description_width": ""
      }
     },
     "5c1b5fd44818470bad52d9d942304fb7": {
      "model_module": "@jupyter-widgets/controls",
      "model_module_version": "1.5.0",
      "model_name": "ProgressStyleModel",
      "state": {
       "_model_module": "@jupyter-widgets/controls",
       "_model_module_version": "1.5.0",
       "_model_name": "ProgressStyleModel",
       "_view_count": null,
       "_view_module": "@jupyter-widgets/base",
       "_view_module_version": "1.2.0",
       "_view_name": "StyleView",
       "bar_color": null,
       "description_width": ""
      }
     },
     "5daf5bdcb86d4422a94ca679ba1435b7": {
      "model_module": "@jupyter-widgets/controls",
      "model_module_version": "1.5.0",
      "model_name": "DescriptionStyleModel",
      "state": {
       "_model_module": "@jupyter-widgets/controls",
       "_model_module_version": "1.5.0",
       "_model_name": "DescriptionStyleModel",
       "_view_count": null,
       "_view_module": "@jupyter-widgets/base",
       "_view_module_version": "1.2.0",
       "_view_name": "StyleView",
       "description_width": ""
      }
     },
     "5f40f1cb12e9408da0367d89be19a3d8": {
      "model_module": "@jupyter-widgets/controls",
      "model_module_version": "1.5.0",
      "model_name": "DescriptionStyleModel",
      "state": {
       "_model_module": "@jupyter-widgets/controls",
       "_model_module_version": "1.5.0",
       "_model_name": "DescriptionStyleModel",
       "_view_count": null,
       "_view_module": "@jupyter-widgets/base",
       "_view_module_version": "1.2.0",
       "_view_name": "StyleView",
       "description_width": ""
      }
     },
     "6007bcc19d8a4940b97345b6decce568": {
      "model_module": "@jupyter-widgets/controls",
      "model_module_version": "1.5.0",
      "model_name": "FloatProgressModel",
      "state": {
       "_dom_classes": [],
       "_model_module": "@jupyter-widgets/controls",
       "_model_module_version": "1.5.0",
       "_model_name": "FloatProgressModel",
       "_view_count": null,
       "_view_module": "@jupyter-widgets/controls",
       "_view_module_version": "1.5.0",
       "_view_name": "ProgressView",
       "bar_style": "success",
       "description": "",
       "description_tooltip": null,
       "layout": "IPY_MODEL_9b6252437a80424db74b5d5b37fe0db1",
       "max": 2688.0,
       "min": 0.0,
       "orientation": "horizontal",
       "style": "IPY_MODEL_4a2a37883c9e46e38162d173e67ee6e2",
       "value": 2688.0
      }
     },
     "602f4990ff694bdba91eed19a2f08c03": {
      "model_module": "@jupyter-widgets/controls",
      "model_module_version": "1.5.0",
      "model_name": "HTMLModel",
      "state": {
       "_dom_classes": [],
       "_model_module": "@jupyter-widgets/controls",
       "_model_module_version": "1.5.0",
       "_model_name": "HTMLModel",
       "_view_count": null,
       "_view_module": "@jupyter-widgets/controls",
       "_view_module_version": "1.5.0",
       "_view_name": "HTMLView",
       "description": "",
       "description_tooltip": null,
       "layout": "IPY_MODEL_f395f80d4f1446aeaf02ee1f84283d6d",
       "placeholder": "​",
       "style": "IPY_MODEL_b08eddebf9154cbeb0bbc0812e4e9921",
       "value": "100%"
      }
     },
     "603e09a6aa0b4f81bfe166f1b1ec3752": {
      "model_module": "@jupyter-widgets/base",
      "model_module_version": "1.2.0",
      "model_name": "LayoutModel",
      "state": {
       "_model_module": "@jupyter-widgets/base",
       "_model_module_version": "1.2.0",
       "_model_name": "LayoutModel",
       "_view_count": null,
       "_view_module": "@jupyter-widgets/base",
       "_view_module_version": "1.2.0",
       "_view_name": "LayoutView",
       "align_content": null,
       "align_items": null,
       "align_self": null,
       "border": null,
       "bottom": null,
       "display": null,
       "flex": null,
       "flex_flow": null,
       "grid_area": null,
       "grid_auto_columns": null,
       "grid_auto_flow": null,
       "grid_auto_rows": null,
       "grid_column": null,
       "grid_gap": null,
       "grid_row": null,
       "grid_template_areas": null,
       "grid_template_columns": null,
       "grid_template_rows": null,
       "height": null,
       "justify_content": null,
       "justify_items": null,
       "left": null,
       "margin": null,
       "max_height": null,
       "max_width": null,
       "min_height": null,
       "min_width": null,
       "object_fit": null,
       "object_position": null,
       "order": null,
       "overflow": null,
       "overflow_x": null,
       "overflow_y": null,
       "padding": null,
       "right": null,
       "top": null,
       "visibility": null,
       "width": null
      }
     },
     "605506645a6842ec8346372d8c1fdc94": {
      "model_module": "@jupyter-widgets/base",
      "model_module_version": "1.2.0",
      "model_name": "LayoutModel",
      "state": {
       "_model_module": "@jupyter-widgets/base",
       "_model_module_version": "1.2.0",
       "_model_name": "LayoutModel",
       "_view_count": null,
       "_view_module": "@jupyter-widgets/base",
       "_view_module_version": "1.2.0",
       "_view_name": "LayoutView",
       "align_content": null,
       "align_items": null,
       "align_self": null,
       "border": null,
       "bottom": null,
       "display": null,
       "flex": null,
       "flex_flow": null,
       "grid_area": null,
       "grid_auto_columns": null,
       "grid_auto_flow": null,
       "grid_auto_rows": null,
       "grid_column": null,
       "grid_gap": null,
       "grid_row": null,
       "grid_template_areas": null,
       "grid_template_columns": null,
       "grid_template_rows": null,
       "height": null,
       "justify_content": null,
       "justify_items": null,
       "left": null,
       "margin": null,
       "max_height": null,
       "max_width": null,
       "min_height": null,
       "min_width": null,
       "object_fit": null,
       "object_position": null,
       "order": null,
       "overflow": null,
       "overflow_x": null,
       "overflow_y": null,
       "padding": null,
       "right": null,
       "top": null,
       "visibility": null,
       "width": null
      }
     },
     "609d94fda2e24a398649f93606867a80": {
      "model_module": "@jupyter-widgets/base",
      "model_module_version": "1.2.0",
      "model_name": "LayoutModel",
      "state": {
       "_model_module": "@jupyter-widgets/base",
       "_model_module_version": "1.2.0",
       "_model_name": "LayoutModel",
       "_view_count": null,
       "_view_module": "@jupyter-widgets/base",
       "_view_module_version": "1.2.0",
       "_view_name": "LayoutView",
       "align_content": null,
       "align_items": null,
       "align_self": null,
       "border": null,
       "bottom": null,
       "display": null,
       "flex": null,
       "flex_flow": null,
       "grid_area": null,
       "grid_auto_columns": null,
       "grid_auto_flow": null,
       "grid_auto_rows": null,
       "grid_column": null,
       "grid_gap": null,
       "grid_row": null,
       "grid_template_areas": null,
       "grid_template_columns": null,
       "grid_template_rows": null,
       "height": null,
       "justify_content": null,
       "justify_items": null,
       "left": null,
       "margin": null,
       "max_height": null,
       "max_width": null,
       "min_height": null,
       "min_width": null,
       "object_fit": null,
       "object_position": null,
       "order": null,
       "overflow": null,
       "overflow_x": null,
       "overflow_y": null,
       "padding": null,
       "right": null,
       "top": null,
       "visibility": null,
       "width": null
      }
     },
     "60a02be253e14c86a4867c81908cd839": {
      "model_module": "@jupyter-widgets/controls",
      "model_module_version": "1.5.0",
      "model_name": "FloatProgressModel",
      "state": {
       "_dom_classes": [],
       "_model_module": "@jupyter-widgets/controls",
       "_model_module_version": "1.5.0",
       "_model_name": "FloatProgressModel",
       "_view_count": null,
       "_view_module": "@jupyter-widgets/controls",
       "_view_module_version": "1.5.0",
       "_view_name": "ProgressView",
       "bar_style": "success",
       "description": "",
       "description_tooltip": null,
       "layout": "IPY_MODEL_c970c226d8124861b23fdc177a8d8c5e",
       "max": 336.0,
       "min": 0.0,
       "orientation": "horizontal",
       "style": "IPY_MODEL_17ad5d72e7f646658b87001e7016be89",
       "value": 336.0
      }
     },
     "63403e4219bd4e8a9cf7a83cd059daec": {
      "model_module": "@jupyter-widgets/base",
      "model_module_version": "1.2.0",
      "model_name": "LayoutModel",
      "state": {
       "_model_module": "@jupyter-widgets/base",
       "_model_module_version": "1.2.0",
       "_model_name": "LayoutModel",
       "_view_count": null,
       "_view_module": "@jupyter-widgets/base",
       "_view_module_version": "1.2.0",
       "_view_name": "LayoutView",
       "align_content": null,
       "align_items": null,
       "align_self": null,
       "border": null,
       "bottom": null,
       "display": null,
       "flex": null,
       "flex_flow": null,
       "grid_area": null,
       "grid_auto_columns": null,
       "grid_auto_flow": null,
       "grid_auto_rows": null,
       "grid_column": null,
       "grid_gap": null,
       "grid_row": null,
       "grid_template_areas": null,
       "grid_template_columns": null,
       "grid_template_rows": null,
       "height": null,
       "justify_content": null,
       "justify_items": null,
       "left": null,
       "margin": null,
       "max_height": null,
       "max_width": null,
       "min_height": null,
       "min_width": null,
       "object_fit": null,
       "object_position": null,
       "order": null,
       "overflow": null,
       "overflow_x": null,
       "overflow_y": null,
       "padding": null,
       "right": null,
       "top": null,
       "visibility": null,
       "width": null
      }
     },
     "665119cce8de472b86a0daa037d46714": {
      "model_module": "@jupyter-widgets/controls",
      "model_module_version": "1.5.0",
      "model_name": "HTMLModel",
      "state": {
       "_dom_classes": [],
       "_model_module": "@jupyter-widgets/controls",
       "_model_module_version": "1.5.0",
       "_model_name": "HTMLModel",
       "_view_count": null,
       "_view_module": "@jupyter-widgets/controls",
       "_view_module_version": "1.5.0",
       "_view_name": "HTMLView",
       "description": "",
       "description_tooltip": null,
       "layout": "IPY_MODEL_603e09a6aa0b4f81bfe166f1b1ec3752",
       "placeholder": "​",
       "style": "IPY_MODEL_50a3b2a597c9451bb01542d4b270078b",
       "value": " 5.59k/? [00:00&lt;00:00, 237kB/s]"
      }
     },
     "6665ee4d68b44a6291c98846cfacc88d": {
      "model_module": "@jupyter-widgets/controls",
      "model_module_version": "1.5.0",
      "model_name": "HTMLModel",
      "state": {
       "_dom_classes": [],
       "_model_module": "@jupyter-widgets/controls",
       "_model_module_version": "1.5.0",
       "_model_name": "HTMLModel",
       "_view_count": null,
       "_view_module": "@jupyter-widgets/controls",
       "_view_module_version": "1.5.0",
       "_view_name": "HTMLView",
       "description": "",
       "description_tooltip": null,
       "layout": "IPY_MODEL_9f2d6666a9b34cacb926a9346887fac8",
       "placeholder": "​",
       "style": "IPY_MODEL_ab402f9435cc4b1787dcb769ddafde25",
       "value": " 336/336 [00:00&lt;00:00, 7556.53ex/s]"
      }
     },
     "680f75971bff422e8b4f99e147930251": {
      "model_module": "@jupyter-widgets/controls",
      "model_module_version": "1.5.0",
      "model_name": "HTMLModel",
      "state": {
       "_dom_classes": [],
       "_model_module": "@jupyter-widgets/controls",
       "_model_module_version": "1.5.0",
       "_model_name": "HTMLModel",
       "_view_count": null,
       "_view_module": "@jupyter-widgets/controls",
       "_view_module_version": "1.5.0",
       "_view_name": "HTMLView",
       "description": "",
       "description_tooltip": null,
       "layout": "IPY_MODEL_5bafb2d110c94da8980eeb504b95fa77",
       "placeholder": "​",
       "style": "IPY_MODEL_af8b4e4412e643c594a1e0cc27e9cd96",
       "value": "Downloading: 100%"
      }
     },
     "6a0e93d3bb5041c583875e5d1cb8ef5f": {
      "model_module": "@jupyter-widgets/base",
      "model_module_version": "1.2.0",
      "model_name": "LayoutModel",
      "state": {
       "_model_module": "@jupyter-widgets/base",
       "_model_module_version": "1.2.0",
       "_model_name": "LayoutModel",
       "_view_count": null,
       "_view_module": "@jupyter-widgets/base",
       "_view_module_version": "1.2.0",
       "_view_name": "LayoutView",
       "align_content": null,
       "align_items": null,
       "align_self": null,
       "border": null,
       "bottom": null,
       "display": null,
       "flex": null,
       "flex_flow": null,
       "grid_area": null,
       "grid_auto_columns": null,
       "grid_auto_flow": null,
       "grid_auto_rows": null,
       "grid_column": null,
       "grid_gap": null,
       "grid_row": null,
       "grid_template_areas": null,
       "grid_template_columns": null,
       "grid_template_rows": null,
       "height": null,
       "justify_content": null,
       "justify_items": null,
       "left": null,
       "margin": null,
       "max_height": null,
       "max_width": null,
       "min_height": null,
       "min_width": null,
       "object_fit": null,
       "object_position": null,
       "order": null,
       "overflow": null,
       "overflow_x": null,
       "overflow_y": null,
       "padding": null,
       "right": null,
       "top": null,
       "visibility": null,
       "width": null
      }
     },
     "6a96577525f64a5a8c7004c7565686a7": {
      "model_module": "@jupyter-widgets/base",
      "model_module_version": "1.2.0",
      "model_name": "LayoutModel",
      "state": {
       "_model_module": "@jupyter-widgets/base",
       "_model_module_version": "1.2.0",
       "_model_name": "LayoutModel",
       "_view_count": null,
       "_view_module": "@jupyter-widgets/base",
       "_view_module_version": "1.2.0",
       "_view_name": "LayoutView",
       "align_content": null,
       "align_items": null,
       "align_self": null,
       "border": null,
       "bottom": null,
       "display": null,
       "flex": null,
       "flex_flow": null,
       "grid_area": null,
       "grid_auto_columns": null,
       "grid_auto_flow": null,
       "grid_auto_rows": null,
       "grid_column": null,
       "grid_gap": null,
       "grid_row": null,
       "grid_template_areas": null,
       "grid_template_columns": null,
       "grid_template_rows": null,
       "height": null,
       "justify_content": null,
       "justify_items": null,
       "left": null,
       "margin": null,
       "max_height": null,
       "max_width": null,
       "min_height": null,
       "min_width": null,
       "object_fit": null,
       "object_position": null,
       "order": null,
       "overflow": null,
       "overflow_x": null,
       "overflow_y": null,
       "padding": null,
       "right": null,
       "top": null,
       "visibility": null,
       "width": null
      }
     },
     "6dd31b2499ad42f7bb2a412e9c47aa03": {
      "model_module": "@jupyter-widgets/controls",
      "model_module_version": "1.5.0",
      "model_name": "HTMLModel",
      "state": {
       "_dom_classes": [],
       "_model_module": "@jupyter-widgets/controls",
       "_model_module_version": "1.5.0",
       "_model_name": "HTMLModel",
       "_view_count": null,
       "_view_module": "@jupyter-widgets/controls",
       "_view_module_version": "1.5.0",
       "_view_name": "HTMLView",
       "description": "",
       "description_tooltip": null,
       "layout": "IPY_MODEL_a9ed7da811894739a9ac6d7b1f6ff03b",
       "placeholder": "​",
       "style": "IPY_MODEL_cb9674e03022465c9eae18551054b452",
       "value": "100%"
      }
     },
     "6f297af1ec3c46228c6907c77ca2f011": {
      "model_module": "@jupyter-widgets/controls",
      "model_module_version": "1.5.0",
      "model_name": "FloatProgressModel",
      "state": {
       "_dom_classes": [],
       "_model_module": "@jupyter-widgets/controls",
       "_model_module_version": "1.5.0",
       "_model_name": "FloatProgressModel",
       "_view_count": null,
       "_view_module": "@jupyter-widgets/controls",
       "_view_module_version": "1.5.0",
       "_view_name": "ProgressView",
       "bar_style": "success",
       "description": "",
       "description_tooltip": null,
       "layout": "IPY_MODEL_adcca950617748c9b007b799ebd1c0c7",
       "max": 1568.0,
       "min": 0.0,
       "orientation": "horizontal",
       "style": "IPY_MODEL_e436aa8792c7480eb2c3314ab211df8d",
       "value": 1568.0
      }
     },
     "7160688539f649e0acfcd57a155191dc": {
      "model_module": "@jupyter-widgets/controls",
      "model_module_version": "1.5.0",
      "model_name": "FloatProgressModel",
      "state": {
       "_dom_classes": [],
       "_model_module": "@jupyter-widgets/controls",
       "_model_module_version": "1.5.0",
       "_model_name": "FloatProgressModel",
       "_view_count": null,
       "_view_module": "@jupyter-widgets/controls",
       "_view_module_version": "1.5.0",
       "_view_name": "ProgressView",
       "bar_style": "success",
       "description": "",
       "description_tooltip": null,
       "layout": "IPY_MODEL_a3e9e063718e44e4bcb7a30f8c59e6de",
       "max": 2160.0,
       "min": 0.0,
       "orientation": "horizontal",
       "style": "IPY_MODEL_f2e60413e0be4dd7b7eeec9b09369e73",
       "value": 2160.0
      }
     },
     "74f857d48af048f680e052e68ce63002": {
      "model_module": "@jupyter-widgets/controls",
      "model_module_version": "1.5.0",
      "model_name": "ProgressStyleModel",
      "state": {
       "_model_module": "@jupyter-widgets/controls",
       "_model_module_version": "1.5.0",
       "_model_name": "ProgressStyleModel",
       "_view_count": null,
       "_view_module": "@jupyter-widgets/base",
       "_view_module_version": "1.2.0",
       "_view_name": "StyleView",
       "bar_color": null,
       "description_width": ""
      }
     },
     "7757369b2d264154922f45ec5948de9c": {
      "model_module": "@jupyter-widgets/base",
      "model_module_version": "1.2.0",
      "model_name": "LayoutModel",
      "state": {
       "_model_module": "@jupyter-widgets/base",
       "_model_module_version": "1.2.0",
       "_model_name": "LayoutModel",
       "_view_count": null,
       "_view_module": "@jupyter-widgets/base",
       "_view_module_version": "1.2.0",
       "_view_name": "LayoutView",
       "align_content": null,
       "align_items": null,
       "align_self": null,
       "border": null,
       "bottom": null,
       "display": null,
       "flex": null,
       "flex_flow": null,
       "grid_area": null,
       "grid_auto_columns": null,
       "grid_auto_flow": null,
       "grid_auto_rows": null,
       "grid_column": null,
       "grid_gap": null,
       "grid_row": null,
       "grid_template_areas": null,
       "grid_template_columns": null,
       "grid_template_rows": null,
       "height": null,
       "justify_content": null,
       "justify_items": null,
       "left": null,
       "margin": null,
       "max_height": null,
       "max_width": null,
       "min_height": null,
       "min_width": null,
       "object_fit": null,
       "object_position": null,
       "order": null,
       "overflow": null,
       "overflow_x": null,
       "overflow_y": null,
       "padding": null,
       "right": null,
       "top": null,
       "visibility": null,
       "width": null
      }
     },
     "78c80face24a4d41a5df74a4cac19d9f": {
      "model_module": "@jupyter-widgets/controls",
      "model_module_version": "1.5.0",
      "model_name": "HBoxModel",
      "state": {
       "_dom_classes": [],
       "_model_module": "@jupyter-widgets/controls",
       "_model_module_version": "1.5.0",
       "_model_name": "HBoxModel",
       "_view_count": null,
       "_view_module": "@jupyter-widgets/controls",
       "_view_module_version": "1.5.0",
       "_view_name": "HBoxView",
       "box_style": "",
       "children": [
        "IPY_MODEL_4b34874a09114616accd4b1afe7a315f",
        "IPY_MODEL_06a051d3fd0d4236bacc53f416427a87",
        "IPY_MODEL_0f4f9116df4348ec968f8fe2cfa11cee"
       ],
       "layout": "IPY_MODEL_6a96577525f64a5a8c7004c7565686a7"
      }
     },
     "795a5840b60c410baded4ae85e5c1406": {
      "model_module": "@jupyter-widgets/base",
      "model_module_version": "1.2.0",
      "model_name": "LayoutModel",
      "state": {
       "_model_module": "@jupyter-widgets/base",
       "_model_module_version": "1.2.0",
       "_model_name": "LayoutModel",
       "_view_count": null,
       "_view_module": "@jupyter-widgets/base",
       "_view_module_version": "1.2.0",
       "_view_name": "LayoutView",
       "align_content": null,
       "align_items": null,
       "align_self": null,
       "border": null,
       "bottom": null,
       "display": null,
       "flex": null,
       "flex_flow": null,
       "grid_area": null,
       "grid_auto_columns": null,
       "grid_auto_flow": null,
       "grid_auto_rows": null,
       "grid_column": null,
       "grid_gap": null,
       "grid_row": null,
       "grid_template_areas": null,
       "grid_template_columns": null,
       "grid_template_rows": null,
       "height": null,
       "justify_content": null,
       "justify_items": null,
       "left": null,
       "margin": null,
       "max_height": null,
       "max_width": null,
       "min_height": null,
       "min_width": null,
       "object_fit": null,
       "object_position": null,
       "order": null,
       "overflow": null,
       "overflow_x": null,
       "overflow_y": null,
       "padding": null,
       "right": null,
       "top": null,
       "visibility": null,
       "width": null
      }
     },
     "7be6adcc0f954ccabd7cb0035ae1c6cb": {
      "model_module": "@jupyter-widgets/controls",
      "model_module_version": "1.5.0",
      "model_name": "FloatProgressModel",
      "state": {
       "_dom_classes": [],
       "_model_module": "@jupyter-widgets/controls",
       "_model_module_version": "1.5.0",
       "_model_name": "FloatProgressModel",
       "_view_count": null,
       "_view_module": "@jupyter-widgets/controls",
       "_view_module_version": "1.5.0",
       "_view_name": "ProgressView",
       "bar_style": "success",
       "description": "",
       "description_tooltip": null,
       "layout": "IPY_MODEL_0b91c30d10584df79ebbbe5a54d3285b",
       "max": 336.0,
       "min": 0.0,
       "orientation": "horizontal",
       "style": "IPY_MODEL_8dc60440839046ee9bb3df2367afc847",
       "value": 336.0
      }
     },
     "7e40cf44663944b79d3bf2462f73089a": {
      "model_module": "@jupyter-widgets/controls",
      "model_module_version": "1.5.0",
      "model_name": "DescriptionStyleModel",
      "state": {
       "_model_module": "@jupyter-widgets/controls",
       "_model_module_version": "1.5.0",
       "_model_name": "DescriptionStyleModel",
       "_view_count": null,
       "_view_module": "@jupyter-widgets/base",
       "_view_module_version": "1.2.0",
       "_view_name": "StyleView",
       "description_width": ""
      }
     },
     "7e8e7cd0030c4c44a7f24dffee022b28": {
      "model_module": "@jupyter-widgets/controls",
      "model_module_version": "1.5.0",
      "model_name": "DescriptionStyleModel",
      "state": {
       "_model_module": "@jupyter-widgets/controls",
       "_model_module_version": "1.5.0",
       "_model_name": "DescriptionStyleModel",
       "_view_count": null,
       "_view_module": "@jupyter-widgets/base",
       "_view_module_version": "1.2.0",
       "_view_name": "StyleView",
       "description_width": ""
      }
     },
     "83f0834469cd47c1b1055930634800d9": {
      "model_module": "@jupyter-widgets/controls",
      "model_module_version": "1.5.0",
      "model_name": "HBoxModel",
      "state": {
       "_dom_classes": [],
       "_model_module": "@jupyter-widgets/controls",
       "_model_module_version": "1.5.0",
       "_model_name": "HBoxModel",
       "_view_count": null,
       "_view_module": "@jupyter-widgets/controls",
       "_view_module_version": "1.5.0",
       "_view_name": "HBoxView",
       "box_style": "",
       "children": [
        "IPY_MODEL_2d9530cd1b4745a1b1403338ee41977f",
        "IPY_MODEL_c8ecde04053b43759d57d1efcf04fdf0",
        "IPY_MODEL_d36b8bc92e814e389118342b90a4e5bd"
       ],
       "layout": "IPY_MODEL_0f536e9029eb482d9865500c88bb7f09"
      }
     },
     "840d0da1969549058339b4a76965f3ae": {
      "model_module": "@jupyter-widgets/base",
      "model_module_version": "1.2.0",
      "model_name": "LayoutModel",
      "state": {
       "_model_module": "@jupyter-widgets/base",
       "_model_module_version": "1.2.0",
       "_model_name": "LayoutModel",
       "_view_count": null,
       "_view_module": "@jupyter-widgets/base",
       "_view_module_version": "1.2.0",
       "_view_name": "LayoutView",
       "align_content": null,
       "align_items": null,
       "align_self": null,
       "border": null,
       "bottom": null,
       "display": null,
       "flex": null,
       "flex_flow": null,
       "grid_area": null,
       "grid_auto_columns": null,
       "grid_auto_flow": null,
       "grid_auto_rows": null,
       "grid_column": null,
       "grid_gap": null,
       "grid_row": null,
       "grid_template_areas": null,
       "grid_template_columns": null,
       "grid_template_rows": null,
       "height": null,
       "justify_content": null,
       "justify_items": null,
       "left": null,
       "margin": null,
       "max_height": null,
       "max_width": null,
       "min_height": null,
       "min_width": null,
       "object_fit": null,
       "object_position": null,
       "order": null,
       "overflow": null,
       "overflow_x": null,
       "overflow_y": null,
       "padding": null,
       "right": null,
       "top": null,
       "visibility": null,
       "width": null
      }
     },
     "863ea32c696e490e9161e5400a93bedd": {
      "model_module": "@jupyter-widgets/base",
      "model_module_version": "1.2.0",
      "model_name": "LayoutModel",
      "state": {
       "_model_module": "@jupyter-widgets/base",
       "_model_module_version": "1.2.0",
       "_model_name": "LayoutModel",
       "_view_count": null,
       "_view_module": "@jupyter-widgets/base",
       "_view_module_version": "1.2.0",
       "_view_name": "LayoutView",
       "align_content": null,
       "align_items": null,
       "align_self": null,
       "border": null,
       "bottom": null,
       "display": null,
       "flex": null,
       "flex_flow": null,
       "grid_area": null,
       "grid_auto_columns": null,
       "grid_auto_flow": null,
       "grid_auto_rows": null,
       "grid_column": null,
       "grid_gap": null,
       "grid_row": null,
       "grid_template_areas": null,
       "grid_template_columns": null,
       "grid_template_rows": null,
       "height": null,
       "justify_content": null,
       "justify_items": null,
       "left": null,
       "margin": null,
       "max_height": null,
       "max_width": null,
       "min_height": null,
       "min_width": null,
       "object_fit": null,
       "object_position": null,
       "order": null,
       "overflow": null,
       "overflow_x": null,
       "overflow_y": null,
       "padding": null,
       "right": null,
       "top": null,
       "visibility": null,
       "width": null
      }
     },
     "8dc60440839046ee9bb3df2367afc847": {
      "model_module": "@jupyter-widgets/controls",
      "model_module_version": "1.5.0",
      "model_name": "ProgressStyleModel",
      "state": {
       "_model_module": "@jupyter-widgets/controls",
       "_model_module_version": "1.5.0",
       "_model_name": "ProgressStyleModel",
       "_view_count": null,
       "_view_module": "@jupyter-widgets/base",
       "_view_module_version": "1.2.0",
       "_view_name": "StyleView",
       "bar_color": null,
       "description_width": ""
      }
     },
     "9368a8c79c9b4d579ddeb63366adb033": {
      "model_module": "@jupyter-widgets/controls",
      "model_module_version": "1.5.0",
      "model_name": "HBoxModel",
      "state": {
       "_dom_classes": [],
       "_model_module": "@jupyter-widgets/controls",
       "_model_module_version": "1.5.0",
       "_model_name": "HBoxModel",
       "_view_count": null,
       "_view_module": "@jupyter-widgets/controls",
       "_view_module_version": "1.5.0",
       "_view_name": "HBoxView",
       "box_style": "",
       "children": [
        "IPY_MODEL_6dd31b2499ad42f7bb2a412e9c47aa03",
        "IPY_MODEL_a3b141cc32b8407083b81871141db101",
        "IPY_MODEL_2b9341f1bbb3407bad3e980a4d210d08"
       ],
       "layout": "IPY_MODEL_b08261f94523410eb91a5b122e52d91e"
      }
     },
     "9588ddf97eac41f7bdebc35e4297b300": {
      "model_module": "@jupyter-widgets/controls",
      "model_module_version": "1.5.0",
      "model_name": "HBoxModel",
      "state": {
       "_dom_classes": [],
       "_model_module": "@jupyter-widgets/controls",
       "_model_module_version": "1.5.0",
       "_model_name": "HBoxModel",
       "_view_count": null,
       "_view_module": "@jupyter-widgets/controls",
       "_view_module_version": "1.5.0",
       "_view_name": "HBoxView",
       "box_style": "",
       "children": [
        "IPY_MODEL_17c3bbb8650a404480c69c0cdc482f19",
        "IPY_MODEL_43b104f908134db2bbb7dca88a3e308e",
        "IPY_MODEL_c9166655065644948c0caec9a88f18d9"
       ],
       "layout": "IPY_MODEL_be40a4ff61d14e5fbba018d215f801ec"
      }
     },
     "98cc3abe7eb7487489b2d4045a3a3cc9": {
      "model_module": "@jupyter-widgets/base",
      "model_module_version": "1.2.0",
      "model_name": "LayoutModel",
      "state": {
       "_model_module": "@jupyter-widgets/base",
       "_model_module_version": "1.2.0",
       "_model_name": "LayoutModel",
       "_view_count": null,
       "_view_module": "@jupyter-widgets/base",
       "_view_module_version": "1.2.0",
       "_view_name": "LayoutView",
       "align_content": null,
       "align_items": null,
       "align_self": null,
       "border": null,
       "bottom": null,
       "display": null,
       "flex": null,
       "flex_flow": null,
       "grid_area": null,
       "grid_auto_columns": null,
       "grid_auto_flow": null,
       "grid_auto_rows": null,
       "grid_column": null,
       "grid_gap": null,
       "grid_row": null,
       "grid_template_areas": null,
       "grid_template_columns": null,
       "grid_template_rows": null,
       "height": null,
       "justify_content": null,
       "justify_items": null,
       "left": null,
       "margin": null,
       "max_height": null,
       "max_width": null,
       "min_height": null,
       "min_width": null,
       "object_fit": null,
       "object_position": null,
       "order": null,
       "overflow": null,
       "overflow_x": null,
       "overflow_y": null,
       "padding": null,
       "right": null,
       "top": null,
       "visibility": null,
       "width": null
      }
     },
     "98dc1877456a46ea88c420ac02a27686": {
      "model_module": "@jupyter-widgets/controls",
      "model_module_version": "1.5.0",
      "model_name": "DescriptionStyleModel",
      "state": {
       "_model_module": "@jupyter-widgets/controls",
       "_model_module_version": "1.5.0",
       "_model_name": "DescriptionStyleModel",
       "_view_count": null,
       "_view_module": "@jupyter-widgets/base",
       "_view_module_version": "1.2.0",
       "_view_name": "StyleView",
       "description_width": ""
      }
     },
     "9b6252437a80424db74b5d5b37fe0db1": {
      "model_module": "@jupyter-widgets/base",
      "model_module_version": "1.2.0",
      "model_name": "LayoutModel",
      "state": {
       "_model_module": "@jupyter-widgets/base",
       "_model_module_version": "1.2.0",
       "_model_name": "LayoutModel",
       "_view_count": null,
       "_view_module": "@jupyter-widgets/base",
       "_view_module_version": "1.2.0",
       "_view_name": "LayoutView",
       "align_content": null,
       "align_items": null,
       "align_self": null,
       "border": null,
       "bottom": null,
       "display": null,
       "flex": null,
       "flex_flow": null,
       "grid_area": null,
       "grid_auto_columns": null,
       "grid_auto_flow": null,
       "grid_auto_rows": null,
       "grid_column": null,
       "grid_gap": null,
       "grid_row": null,
       "grid_template_areas": null,
       "grid_template_columns": null,
       "grid_template_rows": null,
       "height": null,
       "justify_content": null,
       "justify_items": null,
       "left": null,
       "margin": null,
       "max_height": null,
       "max_width": null,
       "min_height": null,
       "min_width": null,
       "object_fit": null,
       "object_position": null,
       "order": null,
       "overflow": null,
       "overflow_x": null,
       "overflow_y": null,
       "padding": null,
       "right": null,
       "top": null,
       "visibility": null,
       "width": null
      }
     },
     "9b6efaa9870841a0a99f42726f2bc551": {
      "model_module": "@jupyter-widgets/base",
      "model_module_version": "1.2.0",
      "model_name": "LayoutModel",
      "state": {
       "_model_module": "@jupyter-widgets/base",
       "_model_module_version": "1.2.0",
       "_model_name": "LayoutModel",
       "_view_count": null,
       "_view_module": "@jupyter-widgets/base",
       "_view_module_version": "1.2.0",
       "_view_name": "LayoutView",
       "align_content": null,
       "align_items": null,
       "align_self": null,
       "border": null,
       "bottom": null,
       "display": null,
       "flex": null,
       "flex_flow": null,
       "grid_area": null,
       "grid_auto_columns": null,
       "grid_auto_flow": null,
       "grid_auto_rows": null,
       "grid_column": null,
       "grid_gap": null,
       "grid_row": null,
       "grid_template_areas": null,
       "grid_template_columns": null,
       "grid_template_rows": null,
       "height": null,
       "justify_content": null,
       "justify_items": null,
       "left": null,
       "margin": null,
       "max_height": null,
       "max_width": null,
       "min_height": null,
       "min_width": null,
       "object_fit": null,
       "object_position": null,
       "order": null,
       "overflow": null,
       "overflow_x": null,
       "overflow_y": null,
       "padding": null,
       "right": null,
       "top": null,
       "visibility": null,
       "width": null
      }
     },
     "9decdca953914729bc912fd99ea13a80": {
      "model_module": "@jupyter-widgets/base",
      "model_module_version": "1.2.0",
      "model_name": "LayoutModel",
      "state": {
       "_model_module": "@jupyter-widgets/base",
       "_model_module_version": "1.2.0",
       "_model_name": "LayoutModel",
       "_view_count": null,
       "_view_module": "@jupyter-widgets/base",
       "_view_module_version": "1.2.0",
       "_view_name": "LayoutView",
       "align_content": null,
       "align_items": null,
       "align_self": null,
       "border": null,
       "bottom": null,
       "display": null,
       "flex": null,
       "flex_flow": null,
       "grid_area": null,
       "grid_auto_columns": null,
       "grid_auto_flow": null,
       "grid_auto_rows": null,
       "grid_column": null,
       "grid_gap": null,
       "grid_row": null,
       "grid_template_areas": null,
       "grid_template_columns": null,
       "grid_template_rows": null,
       "height": null,
       "justify_content": null,
       "justify_items": null,
       "left": null,
       "margin": null,
       "max_height": null,
       "max_width": null,
       "min_height": null,
       "min_width": null,
       "object_fit": null,
       "object_position": null,
       "order": null,
       "overflow": null,
       "overflow_x": null,
       "overflow_y": null,
       "padding": null,
       "right": null,
       "top": null,
       "visibility": null,
       "width": null
      }
     },
     "9f2d6666a9b34cacb926a9346887fac8": {
      "model_module": "@jupyter-widgets/base",
      "model_module_version": "1.2.0",
      "model_name": "LayoutModel",
      "state": {
       "_model_module": "@jupyter-widgets/base",
       "_model_module_version": "1.2.0",
       "_model_name": "LayoutModel",
       "_view_count": null,
       "_view_module": "@jupyter-widgets/base",
       "_view_module_version": "1.2.0",
       "_view_name": "LayoutView",
       "align_content": null,
       "align_items": null,
       "align_self": null,
       "border": null,
       "bottom": null,
       "display": null,
       "flex": null,
       "flex_flow": null,
       "grid_area": null,
       "grid_auto_columns": null,
       "grid_auto_flow": null,
       "grid_auto_rows": null,
       "grid_column": null,
       "grid_gap": null,
       "grid_row": null,
       "grid_template_areas": null,
       "grid_template_columns": null,
       "grid_template_rows": null,
       "height": null,
       "justify_content": null,
       "justify_items": null,
       "left": null,
       "margin": null,
       "max_height": null,
       "max_width": null,
       "min_height": null,
       "min_width": null,
       "object_fit": null,
       "object_position": null,
       "order": null,
       "overflow": null,
       "overflow_x": null,
       "overflow_y": null,
       "padding": null,
       "right": null,
       "top": null,
       "visibility": null,
       "width": null
      }
     },
     "a3b141cc32b8407083b81871141db101": {
      "model_module": "@jupyter-widgets/controls",
      "model_module_version": "1.5.0",
      "model_name": "FloatProgressModel",
      "state": {
       "_dom_classes": [],
       "_model_module": "@jupyter-widgets/controls",
       "_model_module_version": "1.5.0",
       "_model_name": "FloatProgressModel",
       "_view_count": null,
       "_view_module": "@jupyter-widgets/controls",
       "_view_module_version": "1.5.0",
       "_view_name": "ProgressView",
       "bar_style": "success",
       "description": "",
       "description_tooltip": null,
       "layout": "IPY_MODEL_d75e0bd309e64660863a83628abeac16",
       "max": 336.0,
       "min": 0.0,
       "orientation": "horizontal",
       "style": "IPY_MODEL_03d37a03ed214ed18dcc6bbba1351b82",
       "value": 336.0
      }
     },
     "a3cb9cac0b8846d38519e6754a762e8e": {
      "model_module": "@jupyter-widgets/base",
      "model_module_version": "1.2.0",
      "model_name": "LayoutModel",
      "state": {
       "_model_module": "@jupyter-widgets/base",
       "_model_module_version": "1.2.0",
       "_model_name": "LayoutModel",
       "_view_count": null,
       "_view_module": "@jupyter-widgets/base",
       "_view_module_version": "1.2.0",
       "_view_name": "LayoutView",
       "align_content": null,
       "align_items": null,
       "align_self": null,
       "border": null,
       "bottom": null,
       "display": null,
       "flex": null,
       "flex_flow": null,
       "grid_area": null,
       "grid_auto_columns": null,
       "grid_auto_flow": null,
       "grid_auto_rows": null,
       "grid_column": null,
       "grid_gap": null,
       "grid_row": null,
       "grid_template_areas": null,
       "grid_template_columns": null,
       "grid_template_rows": null,
       "height": null,
       "justify_content": null,
       "justify_items": null,
       "left": null,
       "margin": null,
       "max_height": null,
       "max_width": null,
       "min_height": null,
       "min_width": null,
       "object_fit": null,
       "object_position": null,
       "order": null,
       "overflow": null,
       "overflow_x": null,
       "overflow_y": null,
       "padding": null,
       "right": null,
       "top": null,
       "visibility": null,
       "width": null
      }
     },
     "a3e9e063718e44e4bcb7a30f8c59e6de": {
      "model_module": "@jupyter-widgets/base",
      "model_module_version": "1.2.0",
      "model_name": "LayoutModel",
      "state": {
       "_model_module": "@jupyter-widgets/base",
       "_model_module_version": "1.2.0",
       "_model_name": "LayoutModel",
       "_view_count": null,
       "_view_module": "@jupyter-widgets/base",
       "_view_module_version": "1.2.0",
       "_view_name": "LayoutView",
       "align_content": null,
       "align_items": null,
       "align_self": null,
       "border": null,
       "bottom": null,
       "display": null,
       "flex": null,
       "flex_flow": null,
       "grid_area": null,
       "grid_auto_columns": null,
       "grid_auto_flow": null,
       "grid_auto_rows": null,
       "grid_column": null,
       "grid_gap": null,
       "grid_row": null,
       "grid_template_areas": null,
       "grid_template_columns": null,
       "grid_template_rows": null,
       "height": null,
       "justify_content": null,
       "justify_items": null,
       "left": null,
       "margin": null,
       "max_height": null,
       "max_width": null,
       "min_height": null,
       "min_width": null,
       "object_fit": null,
       "object_position": null,
       "order": null,
       "overflow": null,
       "overflow_x": null,
       "overflow_y": null,
       "padding": null,
       "right": null,
       "top": null,
       "visibility": null,
       "width": null
      }
     },
     "a9a2cabe68204675990b70d8ee0ce308": {
      "model_module": "@jupyter-widgets/controls",
      "model_module_version": "1.5.0",
      "model_name": "FloatProgressModel",
      "state": {
       "_dom_classes": [],
       "_model_module": "@jupyter-widgets/controls",
       "_model_module_version": "1.5.0",
       "_model_name": "FloatProgressModel",
       "_view_count": null,
       "_view_module": "@jupyter-widgets/controls",
       "_view_module_version": "1.5.0",
       "_view_name": "ProgressView",
       "bar_style": "success",
       "description": "",
       "description_tooltip": null,
       "layout": "IPY_MODEL_cd202dc6c9b0482aa9f0585ff4cd9c87",
       "max": 1269737156.0,
       "min": 0.0,
       "orientation": "horizontal",
       "style": "IPY_MODEL_cab1e81591e540eea2574f11138c8792",
       "value": 1269737156.0
      }
     },
     "a9ed7da811894739a9ac6d7b1f6ff03b": {
      "model_module": "@jupyter-widgets/base",
      "model_module_version": "1.2.0",
      "model_name": "LayoutModel",
      "state": {
       "_model_module": "@jupyter-widgets/base",
       "_model_module_version": "1.2.0",
       "_model_name": "LayoutModel",
       "_view_count": null,
       "_view_module": "@jupyter-widgets/base",
       "_view_module_version": "1.2.0",
       "_view_name": "LayoutView",
       "align_content": null,
       "align_items": null,
       "align_self": null,
       "border": null,
       "bottom": null,
       "display": null,
       "flex": null,
       "flex_flow": null,
       "grid_area": null,
       "grid_auto_columns": null,
       "grid_auto_flow": null,
       "grid_auto_rows": null,
       "grid_column": null,
       "grid_gap": null,
       "grid_row": null,
       "grid_template_areas": null,
       "grid_template_columns": null,
       "grid_template_rows": null,
       "height": null,
       "justify_content": null,
       "justify_items": null,
       "left": null,
       "margin": null,
       "max_height": null,
       "max_width": null,
       "min_height": null,
       "min_width": null,
       "object_fit": null,
       "object_position": null,
       "order": null,
       "overflow": null,
       "overflow_x": null,
       "overflow_y": null,
       "padding": null,
       "right": null,
       "top": null,
       "visibility": null,
       "width": null
      }
     },
     "ab402f9435cc4b1787dcb769ddafde25": {
      "model_module": "@jupyter-widgets/controls",
      "model_module_version": "1.5.0",
      "model_name": "DescriptionStyleModel",
      "state": {
       "_model_module": "@jupyter-widgets/controls",
       "_model_module_version": "1.5.0",
       "_model_name": "DescriptionStyleModel",
       "_view_count": null,
       "_view_module": "@jupyter-widgets/base",
       "_view_module_version": "1.2.0",
       "_view_name": "StyleView",
       "description_width": ""
      }
     },
     "abf1696378f24ad2a63ad843ce82af5d": {
      "model_module": "@jupyter-widgets/controls",
      "model_module_version": "1.5.0",
      "model_name": "DescriptionStyleModel",
      "state": {
       "_model_module": "@jupyter-widgets/controls",
       "_model_module_version": "1.5.0",
       "_model_name": "DescriptionStyleModel",
       "_view_count": null,
       "_view_module": "@jupyter-widgets/base",
       "_view_module_version": "1.2.0",
       "_view_name": "StyleView",
       "description_width": ""
      }
     },
     "adcca950617748c9b007b799ebd1c0c7": {
      "model_module": "@jupyter-widgets/base",
      "model_module_version": "1.2.0",
      "model_name": "LayoutModel",
      "state": {
       "_model_module": "@jupyter-widgets/base",
       "_model_module_version": "1.2.0",
       "_model_name": "LayoutModel",
       "_view_count": null,
       "_view_module": "@jupyter-widgets/base",
       "_view_module_version": "1.2.0",
       "_view_name": "LayoutView",
       "align_content": null,
       "align_items": null,
       "align_self": null,
       "border": null,
       "bottom": null,
       "display": null,
       "flex": null,
       "flex_flow": null,
       "grid_area": null,
       "grid_auto_columns": null,
       "grid_auto_flow": null,
       "grid_auto_rows": null,
       "grid_column": null,
       "grid_gap": null,
       "grid_row": null,
       "grid_template_areas": null,
       "grid_template_columns": null,
       "grid_template_rows": null,
       "height": null,
       "justify_content": null,
       "justify_items": null,
       "left": null,
       "margin": null,
       "max_height": null,
       "max_width": null,
       "min_height": null,
       "min_width": null,
       "object_fit": null,
       "object_position": null,
       "order": null,
       "overflow": null,
       "overflow_x": null,
       "overflow_y": null,
       "padding": null,
       "right": null,
       "top": null,
       "visibility": null,
       "width": null
      }
     },
     "ae8b094492e64d29a1a840a34509d1d3": {
      "model_module": "@jupyter-widgets/controls",
      "model_module_version": "1.5.0",
      "model_name": "HTMLModel",
      "state": {
       "_dom_classes": [],
       "_model_module": "@jupyter-widgets/controls",
       "_model_module_version": "1.5.0",
       "_model_name": "HTMLModel",
       "_view_count": null,
       "_view_module": "@jupyter-widgets/controls",
       "_view_module_version": "1.5.0",
       "_view_name": "HTMLView",
       "description": "",
       "description_tooltip": null,
       "layout": "IPY_MODEL_df2271f9c95a4c4a91060f6afed8066b",
       "placeholder": "​",
       "style": "IPY_MODEL_7e40cf44663944b79d3bf2462f73089a",
       "value": " 25200/? [00:01&lt;00:00, 21603.89it/s]"
      }
     },
     "af8b4e4412e643c594a1e0cc27e9cd96": {
      "model_module": "@jupyter-widgets/controls",
      "model_module_version": "1.5.0",
      "model_name": "DescriptionStyleModel",
      "state": {
       "_model_module": "@jupyter-widgets/controls",
       "_model_module_version": "1.5.0",
       "_model_name": "DescriptionStyleModel",
       "_view_count": null,
       "_view_module": "@jupyter-widgets/base",
       "_view_module_version": "1.2.0",
       "_view_name": "StyleView",
       "description_width": ""
      }
     },
     "b08261f94523410eb91a5b122e52d91e": {
      "model_module": "@jupyter-widgets/base",
      "model_module_version": "1.2.0",
      "model_name": "LayoutModel",
      "state": {
       "_model_module": "@jupyter-widgets/base",
       "_model_module_version": "1.2.0",
       "_model_name": "LayoutModel",
       "_view_count": null,
       "_view_module": "@jupyter-widgets/base",
       "_view_module_version": "1.2.0",
       "_view_name": "LayoutView",
       "align_content": null,
       "align_items": null,
       "align_self": null,
       "border": null,
       "bottom": null,
       "display": null,
       "flex": null,
       "flex_flow": null,
       "grid_area": null,
       "grid_auto_columns": null,
       "grid_auto_flow": null,
       "grid_auto_rows": null,
       "grid_column": null,
       "grid_gap": null,
       "grid_row": null,
       "grid_template_areas": null,
       "grid_template_columns": null,
       "grid_template_rows": null,
       "height": null,
       "justify_content": null,
       "justify_items": null,
       "left": null,
       "margin": null,
       "max_height": null,
       "max_width": null,
       "min_height": null,
       "min_width": null,
       "object_fit": null,
       "object_position": null,
       "order": null,
       "overflow": null,
       "overflow_x": null,
       "overflow_y": null,
       "padding": null,
       "right": null,
       "top": null,
       "visibility": null,
       "width": null
      }
     },
     "b08eddebf9154cbeb0bbc0812e4e9921": {
      "model_module": "@jupyter-widgets/controls",
      "model_module_version": "1.5.0",
      "model_name": "DescriptionStyleModel",
      "state": {
       "_model_module": "@jupyter-widgets/controls",
       "_model_module_version": "1.5.0",
       "_model_name": "DescriptionStyleModel",
       "_view_count": null,
       "_view_module": "@jupyter-widgets/base",
       "_view_module_version": "1.2.0",
       "_view_name": "StyleView",
       "description_width": ""
      }
     },
     "b21210d5129c48779d7c7aaab04f626a": {
      "model_module": "@jupyter-widgets/base",
      "model_module_version": "1.2.0",
      "model_name": "LayoutModel",
      "state": {
       "_model_module": "@jupyter-widgets/base",
       "_model_module_version": "1.2.0",
       "_model_name": "LayoutModel",
       "_view_count": null,
       "_view_module": "@jupyter-widgets/base",
       "_view_module_version": "1.2.0",
       "_view_name": "LayoutView",
       "align_content": null,
       "align_items": null,
       "align_self": null,
       "border": null,
       "bottom": null,
       "display": null,
       "flex": null,
       "flex_flow": null,
       "grid_area": null,
       "grid_auto_columns": null,
       "grid_auto_flow": null,
       "grid_auto_rows": null,
       "grid_column": null,
       "grid_gap": null,
       "grid_row": null,
       "grid_template_areas": null,
       "grid_template_columns": null,
       "grid_template_rows": null,
       "height": null,
       "justify_content": null,
       "justify_items": null,
       "left": null,
       "margin": null,
       "max_height": null,
       "max_width": null,
       "min_height": null,
       "min_width": null,
       "object_fit": null,
       "object_position": null,
       "order": null,
       "overflow": null,
       "overflow_x": null,
       "overflow_y": null,
       "padding": null,
       "right": null,
       "top": null,
       "visibility": null,
       "width": null
      }
     },
     "b3d708c218414f28be9fc2a484be44dd": {
      "model_module": "@jupyter-widgets/controls",
      "model_module_version": "1.5.0",
      "model_name": "HTMLModel",
      "state": {
       "_dom_classes": [],
       "_model_module": "@jupyter-widgets/controls",
       "_model_module_version": "1.5.0",
       "_model_name": "HTMLModel",
       "_view_count": null,
       "_view_module": "@jupyter-widgets/controls",
       "_view_module_version": "1.5.0",
       "_view_name": "HTMLView",
       "description": "",
       "description_tooltip": null,
       "layout": "IPY_MODEL_269f09e8b4d940a8ba3aaad945393a61",
       "placeholder": "​",
       "style": "IPY_MODEL_db161b4a5b5e4e099794bd0e62adfa69",
       "value": " 1.18G/1.18G [00:18&lt;00:00, 71.5MB/s]"
      }
     },
     "b8076f326b1d48edb85fea987fbadd49": {
      "model_module": "@jupyter-widgets/controls",
      "model_module_version": "1.5.0",
      "model_name": "DescriptionStyleModel",
      "state": {
       "_model_module": "@jupyter-widgets/controls",
       "_model_module_version": "1.5.0",
       "_model_name": "DescriptionStyleModel",
       "_view_count": null,
       "_view_module": "@jupyter-widgets/base",
       "_view_module_version": "1.2.0",
       "_view_name": "StyleView",
       "description_width": ""
      }
     },
     "bb70e68f5fe74b28b2498373ec059291": {
      "model_module": "@jupyter-widgets/base",
      "model_module_version": "1.2.0",
      "model_name": "LayoutModel",
      "state": {
       "_model_module": "@jupyter-widgets/base",
       "_model_module_version": "1.2.0",
       "_model_name": "LayoutModel",
       "_view_count": null,
       "_view_module": "@jupyter-widgets/base",
       "_view_module_version": "1.2.0",
       "_view_name": "LayoutView",
       "align_content": null,
       "align_items": null,
       "align_self": null,
       "border": null,
       "bottom": null,
       "display": null,
       "flex": null,
       "flex_flow": null,
       "grid_area": null,
       "grid_auto_columns": null,
       "grid_auto_flow": null,
       "grid_auto_rows": null,
       "grid_column": null,
       "grid_gap": null,
       "grid_row": null,
       "grid_template_areas": null,
       "grid_template_columns": null,
       "grid_template_rows": null,
       "height": null,
       "justify_content": null,
       "justify_items": null,
       "left": null,
       "margin": null,
       "max_height": null,
       "max_width": null,
       "min_height": null,
       "min_width": null,
       "object_fit": null,
       "object_position": null,
       "order": null,
       "overflow": null,
       "overflow_x": null,
       "overflow_y": null,
       "padding": null,
       "right": null,
       "top": null,
       "visibility": null,
       "width": null
      }
     },
     "be40a4ff61d14e5fbba018d215f801ec": {
      "model_module": "@jupyter-widgets/base",
      "model_module_version": "1.2.0",
      "model_name": "LayoutModel",
      "state": {
       "_model_module": "@jupyter-widgets/base",
       "_model_module_version": "1.2.0",
       "_model_name": "LayoutModel",
       "_view_count": null,
       "_view_module": "@jupyter-widgets/base",
       "_view_module_version": "1.2.0",
       "_view_name": "LayoutView",
       "align_content": null,
       "align_items": null,
       "align_self": null,
       "border": null,
       "bottom": null,
       "display": null,
       "flex": null,
       "flex_flow": null,
       "grid_area": null,
       "grid_auto_columns": null,
       "grid_auto_flow": null,
       "grid_auto_rows": null,
       "grid_column": null,
       "grid_gap": null,
       "grid_row": null,
       "grid_template_areas": null,
       "grid_template_columns": null,
       "grid_template_rows": null,
       "height": null,
       "justify_content": null,
       "justify_items": null,
       "left": null,
       "margin": null,
       "max_height": null,
       "max_width": null,
       "min_height": null,
       "min_width": null,
       "object_fit": null,
       "object_position": null,
       "order": null,
       "overflow": null,
       "overflow_x": null,
       "overflow_y": null,
       "padding": null,
       "right": null,
       "top": null,
       "visibility": null,
       "width": null
      }
     },
     "c20949a87b6443b5aac7ccd5254cff2d": {
      "model_module": "@jupyter-widgets/controls",
      "model_module_version": "1.5.0",
      "model_name": "HTMLModel",
      "state": {
       "_dom_classes": [],
       "_model_module": "@jupyter-widgets/controls",
       "_model_module_version": "1.5.0",
       "_model_name": "HTMLModel",
       "_view_count": null,
       "_view_module": "@jupyter-widgets/controls",
       "_view_module_version": "1.5.0",
       "_view_name": "HTMLView",
       "description": "",
       "description_tooltip": null,
       "layout": "IPY_MODEL_2e2c6ef986964790af633a8d5bccc943",
       "placeholder": "​",
       "style": "IPY_MODEL_7e8e7cd0030c4c44a7f24dffee022b28",
       "value": ""
      }
     },
     "c55b2545f6c5448a8e6af5340e45a9e2": {
      "model_module": "@jupyter-widgets/controls",
      "model_module_version": "1.5.0",
      "model_name": "DescriptionStyleModel",
      "state": {
       "_model_module": "@jupyter-widgets/controls",
       "_model_module_version": "1.5.0",
       "_model_name": "DescriptionStyleModel",
       "_view_count": null,
       "_view_module": "@jupyter-widgets/base",
       "_view_module_version": "1.2.0",
       "_view_name": "StyleView",
       "description_width": ""
      }
     },
     "c5acb6dd56e84215b62d326e08475278": {
      "model_module": "@jupyter-widgets/base",
      "model_module_version": "1.2.0",
      "model_name": "LayoutModel",
      "state": {
       "_model_module": "@jupyter-widgets/base",
       "_model_module_version": "1.2.0",
       "_model_name": "LayoutModel",
       "_view_count": null,
       "_view_module": "@jupyter-widgets/base",
       "_view_module_version": "1.2.0",
       "_view_name": "LayoutView",
       "align_content": null,
       "align_items": null,
       "align_self": null,
       "border": null,
       "bottom": null,
       "display": null,
       "flex": null,
       "flex_flow": null,
       "grid_area": null,
       "grid_auto_columns": null,
       "grid_auto_flow": null,
       "grid_auto_rows": null,
       "grid_column": null,
       "grid_gap": null,
       "grid_row": null,
       "grid_template_areas": null,
       "grid_template_columns": null,
       "grid_template_rows": null,
       "height": null,
       "justify_content": null,
       "justify_items": null,
       "left": null,
       "margin": null,
       "max_height": null,
       "max_width": null,
       "min_height": null,
       "min_width": null,
       "object_fit": null,
       "object_position": null,
       "order": null,
       "overflow": null,
       "overflow_x": null,
       "overflow_y": null,
       "padding": null,
       "right": null,
       "top": null,
       "visibility": null,
       "width": null
      }
     },
     "c6bd7bb4e9734a5fbe5dcaee6e549a21": {
      "model_module": "@jupyter-widgets/controls",
      "model_module_version": "1.5.0",
      "model_name": "ProgressStyleModel",
      "state": {
       "_model_module": "@jupyter-widgets/controls",
       "_model_module_version": "1.5.0",
       "_model_name": "ProgressStyleModel",
       "_view_count": null,
       "_view_module": "@jupyter-widgets/base",
       "_view_module_version": "1.2.0",
       "_view_name": "StyleView",
       "bar_color": null,
       "description_width": ""
      }
     },
     "c8a56fb9bb3d4a268ffc6947bc9e13aa": {
      "model_module": "@jupyter-widgets/base",
      "model_module_version": "1.2.0",
      "model_name": "LayoutModel",
      "state": {
       "_model_module": "@jupyter-widgets/base",
       "_model_module_version": "1.2.0",
       "_model_name": "LayoutModel",
       "_view_count": null,
       "_view_module": "@jupyter-widgets/base",
       "_view_module_version": "1.2.0",
       "_view_name": "LayoutView",
       "align_content": null,
       "align_items": null,
       "align_self": null,
       "border": null,
       "bottom": null,
       "display": null,
       "flex": null,
       "flex_flow": null,
       "grid_area": null,
       "grid_auto_columns": null,
       "grid_auto_flow": null,
       "grid_auto_rows": null,
       "grid_column": null,
       "grid_gap": null,
       "grid_row": null,
       "grid_template_areas": null,
       "grid_template_columns": null,
       "grid_template_rows": null,
       "height": null,
       "justify_content": null,
       "justify_items": null,
       "left": null,
       "margin": null,
       "max_height": null,
       "max_width": null,
       "min_height": null,
       "min_width": null,
       "object_fit": null,
       "object_position": null,
       "order": null,
       "overflow": null,
       "overflow_x": null,
       "overflow_y": null,
       "padding": null,
       "right": null,
       "top": null,
       "visibility": null,
       "width": null
      }
     },
     "c8ecde04053b43759d57d1efcf04fdf0": {
      "model_module": "@jupyter-widgets/controls",
      "model_module_version": "1.5.0",
      "model_name": "FloatProgressModel",
      "state": {
       "_dom_classes": [],
       "_model_module": "@jupyter-widgets/controls",
       "_model_module_version": "1.5.0",
       "_model_name": "FloatProgressModel",
       "_view_count": null,
       "_view_module": "@jupyter-widgets/controls",
       "_view_module_version": "1.5.0",
       "_view_name": "ProgressView",
       "bar_style": "success",
       "description": "",
       "description_tooltip": null,
       "layout": "IPY_MODEL_dbe2f5a8765048daa1ec988bf662e868",
       "max": 336.0,
       "min": 0.0,
       "orientation": "horizontal",
       "style": "IPY_MODEL_e674ecdc581f4e01a3dea3520d870424",
       "value": 336.0
      }
     },
     "c9166655065644948c0caec9a88f18d9": {
      "model_module": "@jupyter-widgets/controls",
      "model_module_version": "1.5.0",
      "model_name": "HTMLModel",
      "state": {
       "_dom_classes": [],
       "_model_module": "@jupyter-widgets/controls",
       "_model_module_version": "1.5.0",
       "_model_name": "HTMLModel",
       "_view_count": null,
       "_view_module": "@jupyter-widgets/controls",
       "_view_module_version": "1.5.0",
       "_view_name": "HTMLView",
       "description": "",
       "description_tooltip": null,
       "layout": "IPY_MODEL_63403e4219bd4e8a9cf7a83cd059daec",
       "placeholder": "​",
       "style": "IPY_MODEL_dda7da81c58f4f93859f0a32ec70e1fb",
       "value": " 2688/2688 [00:52&lt;00:00, 55.73ex/s]"
      }
     },
     "c970c226d8124861b23fdc177a8d8c5e": {
      "model_module": "@jupyter-widgets/base",
      "model_module_version": "1.2.0",
      "model_name": "LayoutModel",
      "state": {
       "_model_module": "@jupyter-widgets/base",
       "_model_module_version": "1.2.0",
       "_model_name": "LayoutModel",
       "_view_count": null,
       "_view_module": "@jupyter-widgets/base",
       "_view_module_version": "1.2.0",
       "_view_name": "LayoutView",
       "align_content": null,
       "align_items": null,
       "align_self": null,
       "border": null,
       "bottom": null,
       "display": null,
       "flex": null,
       "flex_flow": null,
       "grid_area": null,
       "grid_auto_columns": null,
       "grid_auto_flow": null,
       "grid_auto_rows": null,
       "grid_column": null,
       "grid_gap": null,
       "grid_row": null,
       "grid_template_areas": null,
       "grid_template_columns": null,
       "grid_template_rows": null,
       "height": null,
       "justify_content": null,
       "justify_items": null,
       "left": null,
       "margin": null,
       "max_height": null,
       "max_width": null,
       "min_height": null,
       "min_width": null,
       "object_fit": null,
       "object_position": null,
       "order": null,
       "overflow": null,
       "overflow_x": null,
       "overflow_y": null,
       "padding": null,
       "right": null,
       "top": null,
       "visibility": null,
       "width": null
      }
     },
     "cab1e81591e540eea2574f11138c8792": {
      "model_module": "@jupyter-widgets/controls",
      "model_module_version": "1.5.0",
      "model_name": "ProgressStyleModel",
      "state": {
       "_model_module": "@jupyter-widgets/controls",
       "_model_module_version": "1.5.0",
       "_model_name": "ProgressStyleModel",
       "_view_count": null,
       "_view_module": "@jupyter-widgets/base",
       "_view_module_version": "1.2.0",
       "_view_name": "StyleView",
       "bar_color": null,
       "description_width": ""
      }
     },
     "cb9674e03022465c9eae18551054b452": {
      "model_module": "@jupyter-widgets/controls",
      "model_module_version": "1.5.0",
      "model_name": "DescriptionStyleModel",
      "state": {
       "_model_module": "@jupyter-widgets/controls",
       "_model_module_version": "1.5.0",
       "_model_name": "DescriptionStyleModel",
       "_view_count": null,
       "_view_module": "@jupyter-widgets/base",
       "_view_module_version": "1.2.0",
       "_view_name": "StyleView",
       "description_width": ""
      }
     },
     "cd15de5c31484ac4912b548ff34ac02b": {
      "model_module": "@jupyter-widgets/controls",
      "model_module_version": "1.5.0",
      "model_name": "HBoxModel",
      "state": {
       "_dom_classes": [],
       "_model_module": "@jupyter-widgets/controls",
       "_model_module_version": "1.5.0",
       "_model_name": "HBoxModel",
       "_view_count": null,
       "_view_module": "@jupyter-widgets/controls",
       "_view_module_version": "1.5.0",
       "_view_name": "HBoxView",
       "box_style": "",
       "children": [
        "IPY_MODEL_602f4990ff694bdba91eed19a2f08c03",
        "IPY_MODEL_2847259fc4194b469a4eb51399420c44",
        "IPY_MODEL_449502942b684486a8896fe658a6ca9e"
       ],
       "layout": "IPY_MODEL_a3cb9cac0b8846d38519e6754a762e8e"
      }
     },
     "cd202dc6c9b0482aa9f0585ff4cd9c87": {
      "model_module": "@jupyter-widgets/base",
      "model_module_version": "1.2.0",
      "model_name": "LayoutModel",
      "state": {
       "_model_module": "@jupyter-widgets/base",
       "_model_module_version": "1.2.0",
       "_model_name": "LayoutModel",
       "_view_count": null,
       "_view_module": "@jupyter-widgets/base",
       "_view_module_version": "1.2.0",
       "_view_name": "LayoutView",
       "align_content": null,
       "align_items": null,
       "align_self": null,
       "border": null,
       "bottom": null,
       "display": null,
       "flex": null,
       "flex_flow": null,
       "grid_area": null,
       "grid_auto_columns": null,
       "grid_auto_flow": null,
       "grid_auto_rows": null,
       "grid_column": null,
       "grid_gap": null,
       "grid_row": null,
       "grid_template_areas": null,
       "grid_template_columns": null,
       "grid_template_rows": null,
       "height": null,
       "justify_content": null,
       "justify_items": null,
       "left": null,
       "margin": null,
       "max_height": null,
       "max_width": null,
       "min_height": null,
       "min_width": null,
       "object_fit": null,
       "object_position": null,
       "order": null,
       "overflow": null,
       "overflow_x": null,
       "overflow_y": null,
       "padding": null,
       "right": null,
       "top": null,
       "visibility": null,
       "width": null
      }
     },
     "d0f9c611e0354b9f8b824ed8ab879fd5": {
      "model_module": "@jupyter-widgets/base",
      "model_module_version": "1.2.0",
      "model_name": "LayoutModel",
      "state": {
       "_model_module": "@jupyter-widgets/base",
       "_model_module_version": "1.2.0",
       "_model_name": "LayoutModel",
       "_view_count": null,
       "_view_module": "@jupyter-widgets/base",
       "_view_module_version": "1.2.0",
       "_view_name": "LayoutView",
       "align_content": null,
       "align_items": null,
       "align_self": null,
       "border": null,
       "bottom": null,
       "display": null,
       "flex": null,
       "flex_flow": null,
       "grid_area": null,
       "grid_auto_columns": null,
       "grid_auto_flow": null,
       "grid_auto_rows": null,
       "grid_column": null,
       "grid_gap": null,
       "grid_row": null,
       "grid_template_areas": null,
       "grid_template_columns": null,
       "grid_template_rows": null,
       "height": null,
       "justify_content": null,
       "justify_items": null,
       "left": null,
       "margin": null,
       "max_height": null,
       "max_width": null,
       "min_height": null,
       "min_width": null,
       "object_fit": null,
       "object_position": null,
       "order": null,
       "overflow": null,
       "overflow_x": null,
       "overflow_y": null,
       "padding": null,
       "right": null,
       "top": null,
       "visibility": null,
       "width": null
      }
     },
     "d2aa9e71e7ad40d69b1cc5d60885d1a6": {
      "model_module": "@jupyter-widgets/base",
      "model_module_version": "1.2.0",
      "model_name": "LayoutModel",
      "state": {
       "_model_module": "@jupyter-widgets/base",
       "_model_module_version": "1.2.0",
       "_model_name": "LayoutModel",
       "_view_count": null,
       "_view_module": "@jupyter-widgets/base",
       "_view_module_version": "1.2.0",
       "_view_name": "LayoutView",
       "align_content": null,
       "align_items": null,
       "align_self": null,
       "border": null,
       "bottom": null,
       "display": null,
       "flex": null,
       "flex_flow": null,
       "grid_area": null,
       "grid_auto_columns": null,
       "grid_auto_flow": null,
       "grid_auto_rows": null,
       "grid_column": null,
       "grid_gap": null,
       "grid_row": null,
       "grid_template_areas": null,
       "grid_template_columns": null,
       "grid_template_rows": null,
       "height": null,
       "justify_content": null,
       "justify_items": null,
       "left": null,
       "margin": null,
       "max_height": null,
       "max_width": null,
       "min_height": null,
       "min_width": null,
       "object_fit": null,
       "object_position": null,
       "order": null,
       "overflow": null,
       "overflow_x": null,
       "overflow_y": null,
       "padding": null,
       "right": null,
       "top": null,
       "visibility": null,
       "width": "20px"
      }
     },
     "d36b8bc92e814e389118342b90a4e5bd": {
      "model_module": "@jupyter-widgets/controls",
      "model_module_version": "1.5.0",
      "model_name": "HTMLModel",
      "state": {
       "_dom_classes": [],
       "_model_module": "@jupyter-widgets/controls",
       "_model_module_version": "1.5.0",
       "_model_name": "HTMLModel",
       "_view_count": null,
       "_view_module": "@jupyter-widgets/controls",
       "_view_module_version": "1.5.0",
       "_view_name": "HTMLView",
       "description": "",
       "description_tooltip": null,
       "layout": "IPY_MODEL_3f0ac49d63964a55962d494564770136",
       "placeholder": "​",
       "style": "IPY_MODEL_b8076f326b1d48edb85fea987fbadd49",
       "value": " 336/336 [00:00&lt;00:00, 448.88ex/s]"
      }
     },
     "d559810f338e4d8587a725de71a6c6dc": {
      "model_module": "@jupyter-widgets/base",
      "model_module_version": "1.2.0",
      "model_name": "LayoutModel",
      "state": {
       "_model_module": "@jupyter-widgets/base",
       "_model_module_version": "1.2.0",
       "_model_name": "LayoutModel",
       "_view_count": null,
       "_view_module": "@jupyter-widgets/base",
       "_view_module_version": "1.2.0",
       "_view_name": "LayoutView",
       "align_content": null,
       "align_items": null,
       "align_self": null,
       "border": null,
       "bottom": null,
       "display": null,
       "flex": null,
       "flex_flow": null,
       "grid_area": null,
       "grid_auto_columns": null,
       "grid_auto_flow": null,
       "grid_auto_rows": null,
       "grid_column": null,
       "grid_gap": null,
       "grid_row": null,
       "grid_template_areas": null,
       "grid_template_columns": null,
       "grid_template_rows": null,
       "height": null,
       "justify_content": null,
       "justify_items": null,
       "left": null,
       "margin": null,
       "max_height": null,
       "max_width": null,
       "min_height": null,
       "min_width": null,
       "object_fit": null,
       "object_position": null,
       "order": null,
       "overflow": null,
       "overflow_x": null,
       "overflow_y": null,
       "padding": null,
       "right": null,
       "top": null,
       "visibility": null,
       "width": null
      }
     },
     "d5de58e9ee984f59a80facf51b6f7f3c": {
      "model_module": "@jupyter-widgets/base",
      "model_module_version": "1.2.0",
      "model_name": "LayoutModel",
      "state": {
       "_model_module": "@jupyter-widgets/base",
       "_model_module_version": "1.2.0",
       "_model_name": "LayoutModel",
       "_view_count": null,
       "_view_module": "@jupyter-widgets/base",
       "_view_module_version": "1.2.0",
       "_view_name": "LayoutView",
       "align_content": null,
       "align_items": null,
       "align_self": null,
       "border": null,
       "bottom": null,
       "display": null,
       "flex": null,
       "flex_flow": null,
       "grid_area": null,
       "grid_auto_columns": null,
       "grid_auto_flow": null,
       "grid_auto_rows": null,
       "grid_column": null,
       "grid_gap": null,
       "grid_row": null,
       "grid_template_areas": null,
       "grid_template_columns": null,
       "grid_template_rows": null,
       "height": null,
       "justify_content": null,
       "justify_items": null,
       "left": null,
       "margin": null,
       "max_height": null,
       "max_width": null,
       "min_height": null,
       "min_width": null,
       "object_fit": null,
       "object_position": null,
       "order": null,
       "overflow": null,
       "overflow_x": null,
       "overflow_y": null,
       "padding": null,
       "right": null,
       "top": null,
       "visibility": null,
       "width": null
      }
     },
     "d75e0bd309e64660863a83628abeac16": {
      "model_module": "@jupyter-widgets/base",
      "model_module_version": "1.2.0",
      "model_name": "LayoutModel",
      "state": {
       "_model_module": "@jupyter-widgets/base",
       "_model_module_version": "1.2.0",
       "_model_name": "LayoutModel",
       "_view_count": null,
       "_view_module": "@jupyter-widgets/base",
       "_view_module_version": "1.2.0",
       "_view_name": "LayoutView",
       "align_content": null,
       "align_items": null,
       "align_self": null,
       "border": null,
       "bottom": null,
       "display": null,
       "flex": null,
       "flex_flow": null,
       "grid_area": null,
       "grid_auto_columns": null,
       "grid_auto_flow": null,
       "grid_auto_rows": null,
       "grid_column": null,
       "grid_gap": null,
       "grid_row": null,
       "grid_template_areas": null,
       "grid_template_columns": null,
       "grid_template_rows": null,
       "height": null,
       "justify_content": null,
       "justify_items": null,
       "left": null,
       "margin": null,
       "max_height": null,
       "max_width": null,
       "min_height": null,
       "min_width": null,
       "object_fit": null,
       "object_position": null,
       "order": null,
       "overflow": null,
       "overflow_x": null,
       "overflow_y": null,
       "padding": null,
       "right": null,
       "top": null,
       "visibility": null,
       "width": null
      }
     },
     "d8a5ec7fa2c94bf8b8f002dda75ad821": {
      "model_module": "@jupyter-widgets/base",
      "model_module_version": "1.2.0",
      "model_name": "LayoutModel",
      "state": {
       "_model_module": "@jupyter-widgets/base",
       "_model_module_version": "1.2.0",
       "_model_name": "LayoutModel",
       "_view_count": null,
       "_view_module": "@jupyter-widgets/base",
       "_view_module_version": "1.2.0",
       "_view_name": "LayoutView",
       "align_content": null,
       "align_items": null,
       "align_self": null,
       "border": null,
       "bottom": null,
       "display": null,
       "flex": null,
       "flex_flow": null,
       "grid_area": null,
       "grid_auto_columns": null,
       "grid_auto_flow": null,
       "grid_auto_rows": null,
       "grid_column": null,
       "grid_gap": null,
       "grid_row": null,
       "grid_template_areas": null,
       "grid_template_columns": null,
       "grid_template_rows": null,
       "height": null,
       "justify_content": null,
       "justify_items": null,
       "left": null,
       "margin": null,
       "max_height": null,
       "max_width": null,
       "min_height": null,
       "min_width": null,
       "object_fit": null,
       "object_position": null,
       "order": null,
       "overflow": null,
       "overflow_x": null,
       "overflow_y": null,
       "padding": null,
       "right": null,
       "top": null,
       "visibility": null,
       "width": null
      }
     },
     "da6eb15a75b24d8385a06e42dac8a3d2": {
      "model_module": "@jupyter-widgets/base",
      "model_module_version": "1.2.0",
      "model_name": "LayoutModel",
      "state": {
       "_model_module": "@jupyter-widgets/base",
       "_model_module_version": "1.2.0",
       "_model_name": "LayoutModel",
       "_view_count": null,
       "_view_module": "@jupyter-widgets/base",
       "_view_module_version": "1.2.0",
       "_view_name": "LayoutView",
       "align_content": null,
       "align_items": null,
       "align_self": null,
       "border": null,
       "bottom": null,
       "display": null,
       "flex": null,
       "flex_flow": null,
       "grid_area": null,
       "grid_auto_columns": null,
       "grid_auto_flow": null,
       "grid_auto_rows": null,
       "grid_column": null,
       "grid_gap": null,
       "grid_row": null,
       "grid_template_areas": null,
       "grid_template_columns": null,
       "grid_template_rows": null,
       "height": null,
       "justify_content": null,
       "justify_items": null,
       "left": null,
       "margin": null,
       "max_height": null,
       "max_width": null,
       "min_height": null,
       "min_width": null,
       "object_fit": null,
       "object_position": null,
       "order": null,
       "overflow": null,
       "overflow_x": null,
       "overflow_y": null,
       "padding": null,
       "right": null,
       "top": null,
       "visibility": null,
       "width": null
      }
     },
     "db161b4a5b5e4e099794bd0e62adfa69": {
      "model_module": "@jupyter-widgets/controls",
      "model_module_version": "1.5.0",
      "model_name": "DescriptionStyleModel",
      "state": {
       "_model_module": "@jupyter-widgets/controls",
       "_model_module_version": "1.5.0",
       "_model_name": "DescriptionStyleModel",
       "_view_count": null,
       "_view_module": "@jupyter-widgets/base",
       "_view_module_version": "1.2.0",
       "_view_name": "StyleView",
       "description_width": ""
      }
     },
     "dbe2f5a8765048daa1ec988bf662e868": {
      "model_module": "@jupyter-widgets/base",
      "model_module_version": "1.2.0",
      "model_name": "LayoutModel",
      "state": {
       "_model_module": "@jupyter-widgets/base",
       "_model_module_version": "1.2.0",
       "_model_name": "LayoutModel",
       "_view_count": null,
       "_view_module": "@jupyter-widgets/base",
       "_view_module_version": "1.2.0",
       "_view_name": "LayoutView",
       "align_content": null,
       "align_items": null,
       "align_self": null,
       "border": null,
       "bottom": null,
       "display": null,
       "flex": null,
       "flex_flow": null,
       "grid_area": null,
       "grid_auto_columns": null,
       "grid_auto_flow": null,
       "grid_auto_rows": null,
       "grid_column": null,
       "grid_gap": null,
       "grid_row": null,
       "grid_template_areas": null,
       "grid_template_columns": null,
       "grid_template_rows": null,
       "height": null,
       "justify_content": null,
       "justify_items": null,
       "left": null,
       "margin": null,
       "max_height": null,
       "max_width": null,
       "min_height": null,
       "min_width": null,
       "object_fit": null,
       "object_position": null,
       "order": null,
       "overflow": null,
       "overflow_x": null,
       "overflow_y": null,
       "padding": null,
       "right": null,
       "top": null,
       "visibility": null,
       "width": null
      }
     },
     "dda7da81c58f4f93859f0a32ec70e1fb": {
      "model_module": "@jupyter-widgets/controls",
      "model_module_version": "1.5.0",
      "model_name": "DescriptionStyleModel",
      "state": {
       "_model_module": "@jupyter-widgets/controls",
       "_model_module_version": "1.5.0",
       "_model_name": "DescriptionStyleModel",
       "_view_count": null,
       "_view_module": "@jupyter-widgets/base",
       "_view_module_version": "1.2.0",
       "_view_name": "StyleView",
       "description_width": ""
      }
     },
     "df2271f9c95a4c4a91060f6afed8066b": {
      "model_module": "@jupyter-widgets/base",
      "model_module_version": "1.2.0",
      "model_name": "LayoutModel",
      "state": {
       "_model_module": "@jupyter-widgets/base",
       "_model_module_version": "1.2.0",
       "_model_name": "LayoutModel",
       "_view_count": null,
       "_view_module": "@jupyter-widgets/base",
       "_view_module_version": "1.2.0",
       "_view_name": "LayoutView",
       "align_content": null,
       "align_items": null,
       "align_self": null,
       "border": null,
       "bottom": null,
       "display": null,
       "flex": null,
       "flex_flow": null,
       "grid_area": null,
       "grid_auto_columns": null,
       "grid_auto_flow": null,
       "grid_auto_rows": null,
       "grid_column": null,
       "grid_gap": null,
       "grid_row": null,
       "grid_template_areas": null,
       "grid_template_columns": null,
       "grid_template_rows": null,
       "height": null,
       "justify_content": null,
       "justify_items": null,
       "left": null,
       "margin": null,
       "max_height": null,
       "max_width": null,
       "min_height": null,
       "min_width": null,
       "object_fit": null,
       "object_position": null,
       "order": null,
       "overflow": null,
       "overflow_x": null,
       "overflow_y": null,
       "padding": null,
       "right": null,
       "top": null,
       "visibility": null,
       "width": null
      }
     },
     "e2a77f4a83a3411fa3d6aa67f5ca731c": {
      "model_module": "@jupyter-widgets/base",
      "model_module_version": "1.2.0",
      "model_name": "LayoutModel",
      "state": {
       "_model_module": "@jupyter-widgets/base",
       "_model_module_version": "1.2.0",
       "_model_name": "LayoutModel",
       "_view_count": null,
       "_view_module": "@jupyter-widgets/base",
       "_view_module_version": "1.2.0",
       "_view_name": "LayoutView",
       "align_content": null,
       "align_items": null,
       "align_self": null,
       "border": null,
       "bottom": null,
       "display": null,
       "flex": null,
       "flex_flow": null,
       "grid_area": null,
       "grid_auto_columns": null,
       "grid_auto_flow": null,
       "grid_auto_rows": null,
       "grid_column": null,
       "grid_gap": null,
       "grid_row": null,
       "grid_template_areas": null,
       "grid_template_columns": null,
       "grid_template_rows": null,
       "height": null,
       "justify_content": null,
       "justify_items": null,
       "left": null,
       "margin": null,
       "max_height": null,
       "max_width": null,
       "min_height": null,
       "min_width": null,
       "object_fit": null,
       "object_position": null,
       "order": null,
       "overflow": null,
       "overflow_x": null,
       "overflow_y": null,
       "padding": null,
       "right": null,
       "top": null,
       "visibility": null,
       "width": null
      }
     },
     "e436aa8792c7480eb2c3314ab211df8d": {
      "model_module": "@jupyter-widgets/controls",
      "model_module_version": "1.5.0",
      "model_name": "ProgressStyleModel",
      "state": {
       "_model_module": "@jupyter-widgets/controls",
       "_model_module_version": "1.5.0",
       "_model_name": "ProgressStyleModel",
       "_view_count": null,
       "_view_module": "@jupyter-widgets/base",
       "_view_module_version": "1.2.0",
       "_view_name": "StyleView",
       "bar_color": null,
       "description_width": ""
      }
     },
     "e674ecdc581f4e01a3dea3520d870424": {
      "model_module": "@jupyter-widgets/controls",
      "model_module_version": "1.5.0",
      "model_name": "ProgressStyleModel",
      "state": {
       "_model_module": "@jupyter-widgets/controls",
       "_model_module_version": "1.5.0",
       "_model_name": "ProgressStyleModel",
       "_view_count": null,
       "_view_module": "@jupyter-widgets/base",
       "_view_module_version": "1.2.0",
       "_view_name": "StyleView",
       "bar_color": null,
       "description_width": ""
      }
     },
     "eb05ecbed1a140659e314959cda7a2c4": {
      "model_module": "@jupyter-widgets/controls",
      "model_module_version": "1.5.0",
      "model_name": "HBoxModel",
      "state": {
       "_dom_classes": [],
       "_model_module": "@jupyter-widgets/controls",
       "_model_module_version": "1.5.0",
       "_model_name": "HBoxModel",
       "_view_count": null,
       "_view_module": "@jupyter-widgets/controls",
       "_view_module_version": "1.5.0",
       "_view_name": "HBoxView",
       "box_style": "",
       "children": [
        "IPY_MODEL_12ca8ecd9b71443e9925e5088fd77df4",
        "IPY_MODEL_6f297af1ec3c46228c6907c77ca2f011",
        "IPY_MODEL_fb0cff99ee1448c3b7a6a72f79c2d7a4"
       ],
       "layout": "IPY_MODEL_d5de58e9ee984f59a80facf51b6f7f3c"
      }
     },
     "ec0a6d3d70c1482c80e7b18f11d2a6aa": {
      "model_module": "@jupyter-widgets/controls",
      "model_module_version": "1.5.0",
      "model_name": "ProgressStyleModel",
      "state": {
       "_model_module": "@jupyter-widgets/controls",
       "_model_module_version": "1.5.0",
       "_model_name": "ProgressStyleModel",
       "_view_count": null,
       "_view_module": "@jupyter-widgets/base",
       "_view_module_version": "1.2.0",
       "_view_name": "StyleView",
       "bar_color": null,
       "description_width": ""
      }
     },
     "ef05eabb13ea4ebead56737f14e10be7": {
      "model_module": "@jupyter-widgets/controls",
      "model_module_version": "1.5.0",
      "model_name": "DescriptionStyleModel",
      "state": {
       "_model_module": "@jupyter-widgets/controls",
       "_model_module_version": "1.5.0",
       "_model_name": "DescriptionStyleModel",
       "_view_count": null,
       "_view_module": "@jupyter-widgets/base",
       "_view_module_version": "1.2.0",
       "_view_name": "StyleView",
       "description_width": ""
      }
     },
     "f0e882b188aa4f5eaedf70f5c4bd64db": {
      "model_module": "@jupyter-widgets/controls",
      "model_module_version": "1.5.0",
      "model_name": "HBoxModel",
      "state": {
       "_dom_classes": [],
       "_model_module": "@jupyter-widgets/controls",
       "_model_module_version": "1.5.0",
       "_model_name": "HBoxModel",
       "_view_count": null,
       "_view_module": "@jupyter-widgets/controls",
       "_view_module_version": "1.5.0",
       "_view_name": "HBoxView",
       "box_style": "",
       "children": [
        "IPY_MODEL_45e57ba962cb426180d73d3bcce88223",
        "IPY_MODEL_f233ddeb7c9b4869bed1ec82847a4192",
        "IPY_MODEL_6665ee4d68b44a6291c98846cfacc88d"
       ],
       "layout": "IPY_MODEL_d8a5ec7fa2c94bf8b8f002dda75ad821"
      }
     },
     "f1dfc9b79543405591ef71c3625183e2": {
      "model_module": "@jupyter-widgets/base",
      "model_module_version": "1.2.0",
      "model_name": "LayoutModel",
      "state": {
       "_model_module": "@jupyter-widgets/base",
       "_model_module_version": "1.2.0",
       "_model_name": "LayoutModel",
       "_view_count": null,
       "_view_module": "@jupyter-widgets/base",
       "_view_module_version": "1.2.0",
       "_view_name": "LayoutView",
       "align_content": null,
       "align_items": null,
       "align_self": null,
       "border": null,
       "bottom": null,
       "display": null,
       "flex": null,
       "flex_flow": null,
       "grid_area": null,
       "grid_auto_columns": null,
       "grid_auto_flow": null,
       "grid_auto_rows": null,
       "grid_column": null,
       "grid_gap": null,
       "grid_row": null,
       "grid_template_areas": null,
       "grid_template_columns": null,
       "grid_template_rows": null,
       "height": null,
       "justify_content": null,
       "justify_items": null,
       "left": null,
       "margin": null,
       "max_height": null,
       "max_width": null,
       "min_height": null,
       "min_width": null,
       "object_fit": null,
       "object_position": null,
       "order": null,
       "overflow": null,
       "overflow_x": null,
       "overflow_y": null,
       "padding": null,
       "right": null,
       "top": null,
       "visibility": null,
       "width": null
      }
     },
     "f233ddeb7c9b4869bed1ec82847a4192": {
      "model_module": "@jupyter-widgets/controls",
      "model_module_version": "1.5.0",
      "model_name": "FloatProgressModel",
      "state": {
       "_dom_classes": [],
       "_model_module": "@jupyter-widgets/controls",
       "_model_module_version": "1.5.0",
       "_model_name": "FloatProgressModel",
       "_view_count": null,
       "_view_module": "@jupyter-widgets/controls",
       "_view_module_version": "1.5.0",
       "_view_name": "ProgressView",
       "bar_style": "success",
       "description": "",
       "description_tooltip": null,
       "layout": "IPY_MODEL_467246c705854a6f8c1529fdd7ee8d0c",
       "max": 336.0,
       "min": 0.0,
       "orientation": "horizontal",
       "style": "IPY_MODEL_c6bd7bb4e9734a5fbe5dcaee6e549a21",
       "value": 336.0
      }
     },
     "f2e60413e0be4dd7b7eeec9b09369e73": {
      "model_module": "@jupyter-widgets/controls",
      "model_module_version": "1.5.0",
      "model_name": "ProgressStyleModel",
      "state": {
       "_model_module": "@jupyter-widgets/controls",
       "_model_module_version": "1.5.0",
       "_model_name": "ProgressStyleModel",
       "_view_count": null,
       "_view_module": "@jupyter-widgets/base",
       "_view_module_version": "1.2.0",
       "_view_name": "StyleView",
       "bar_color": null,
       "description_width": ""
      }
     },
     "f395f80d4f1446aeaf02ee1f84283d6d": {
      "model_module": "@jupyter-widgets/base",
      "model_module_version": "1.2.0",
      "model_name": "LayoutModel",
      "state": {
       "_model_module": "@jupyter-widgets/base",
       "_model_module_version": "1.2.0",
       "_model_name": "LayoutModel",
       "_view_count": null,
       "_view_module": "@jupyter-widgets/base",
       "_view_module_version": "1.2.0",
       "_view_name": "LayoutView",
       "align_content": null,
       "align_items": null,
       "align_self": null,
       "border": null,
       "bottom": null,
       "display": null,
       "flex": null,
       "flex_flow": null,
       "grid_area": null,
       "grid_auto_columns": null,
       "grid_auto_flow": null,
       "grid_auto_rows": null,
       "grid_column": null,
       "grid_gap": null,
       "grid_row": null,
       "grid_template_areas": null,
       "grid_template_columns": null,
       "grid_template_rows": null,
       "height": null,
       "justify_content": null,
       "justify_items": null,
       "left": null,
       "margin": null,
       "max_height": null,
       "max_width": null,
       "min_height": null,
       "min_width": null,
       "object_fit": null,
       "object_position": null,
       "order": null,
       "overflow": null,
       "overflow_x": null,
       "overflow_y": null,
       "padding": null,
       "right": null,
       "top": null,
       "visibility": null,
       "width": null
      }
     },
     "f516d8784b554caeafd2643a7055f82d": {
      "model_module": "@jupyter-widgets/base",
      "model_module_version": "1.2.0",
      "model_name": "LayoutModel",
      "state": {
       "_model_module": "@jupyter-widgets/base",
       "_model_module_version": "1.2.0",
       "_model_name": "LayoutModel",
       "_view_count": null,
       "_view_module": "@jupyter-widgets/base",
       "_view_module_version": "1.2.0",
       "_view_name": "LayoutView",
       "align_content": null,
       "align_items": null,
       "align_self": null,
       "border": null,
       "bottom": null,
       "display": null,
       "flex": null,
       "flex_flow": null,
       "grid_area": null,
       "grid_auto_columns": null,
       "grid_auto_flow": null,
       "grid_auto_rows": null,
       "grid_column": null,
       "grid_gap": null,
       "grid_row": null,
       "grid_template_areas": null,
       "grid_template_columns": null,
       "grid_template_rows": null,
       "height": null,
       "justify_content": null,
       "justify_items": null,
       "left": null,
       "margin": null,
       "max_height": null,
       "max_width": null,
       "min_height": null,
       "min_width": null,
       "object_fit": null,
       "object_position": null,
       "order": null,
       "overflow": null,
       "overflow_x": null,
       "overflow_y": null,
       "padding": null,
       "right": null,
       "top": null,
       "visibility": null,
       "width": null
      }
     },
     "fa718fe6a7624cd5be407334d35853f3": {
      "model_module": "@jupyter-widgets/controls",
      "model_module_version": "1.5.0",
      "model_name": "HTMLModel",
      "state": {
       "_dom_classes": [],
       "_model_module": "@jupyter-widgets/controls",
       "_model_module_version": "1.5.0",
       "_model_name": "HTMLModel",
       "_view_count": null,
       "_view_module": "@jupyter-widgets/controls",
       "_view_module_version": "1.5.0",
       "_view_name": "HTMLView",
       "description": "",
       "description_tooltip": null,
       "layout": "IPY_MODEL_1857a2af183b4e2eb5e59f62c4ecfbb7",
       "placeholder": "​",
       "style": "IPY_MODEL_c55b2545f6c5448a8e6af5340e45a9e2",
       "value": " 336/336 [00:00&lt;00:00, 438.56ex/s]"
      }
     },
     "fac0c22324ab40d2885031c3e903378b": {
      "model_module": "@jupyter-widgets/controls",
      "model_module_version": "1.5.0",
      "model_name": "HBoxModel",
      "state": {
       "_dom_classes": [],
       "_model_module": "@jupyter-widgets/controls",
       "_model_module_version": "1.5.0",
       "_model_name": "HBoxModel",
       "_view_count": null,
       "_view_module": "@jupyter-widgets/controls",
       "_view_module_version": "1.5.0",
       "_view_name": "HBoxView",
       "box_style": "",
       "children": [
        "IPY_MODEL_082e8e5523424ffca0e8473fb36ad210",
        "IPY_MODEL_7be6adcc0f954ccabd7cb0035ae1c6cb",
        "IPY_MODEL_164744ee01c440588ca309d7a72ada26"
       ],
       "layout": "IPY_MODEL_840d0da1969549058339b4a76965f3ae"
      }
     },
     "fb0cff99ee1448c3b7a6a72f79c2d7a4": {
      "model_module": "@jupyter-widgets/controls",
      "model_module_version": "1.5.0",
      "model_name": "HTMLModel",
      "state": {
       "_dom_classes": [],
       "_model_module": "@jupyter-widgets/controls",
       "_model_module_version": "1.5.0",
       "_model_name": "HTMLModel",
       "_view_count": null,
       "_view_module": "@jupyter-widgets/controls",
       "_view_module_version": "1.5.0",
       "_view_name": "HTMLView",
       "description": "",
       "description_tooltip": null,
       "layout": "IPY_MODEL_c5acb6dd56e84215b62d326e08475278",
       "placeholder": "​",
       "style": "IPY_MODEL_abf1696378f24ad2a63ad843ce82af5d",
       "value": " 1.53k/1.53k [00:00&lt;00:00, 80.6kB/s]"
      }
     },
     "ffda6594945446b680e5529bb4c2c04b": {
      "model_module": "@jupyter-widgets/controls",
      "model_module_version": "1.5.0",
      "model_name": "HBoxModel",
      "state": {
       "_dom_classes": [],
       "_model_module": "@jupyter-widgets/controls",
       "_model_module_version": "1.5.0",
       "_model_name": "HBoxModel",
       "_view_count": null,
       "_view_module": "@jupyter-widgets/controls",
       "_view_module_version": "1.5.0",
       "_view_name": "HBoxView",
       "box_style": "",
       "children": [
        "IPY_MODEL_57d476afa5ce4a998c5d1f4b34103f99",
        "IPY_MODEL_059138907018411ea7c45511246811da",
        "IPY_MODEL_58371872740c4749b74d712b24295244"
       ],
       "layout": "IPY_MODEL_3173407e2a3849a69d5e063a8962b4da"
      }
     }
    },
    "version_major": 2,
    "version_minor": 0
   }
  }
 },
 "nbformat": 4,
 "nbformat_minor": 5
}
